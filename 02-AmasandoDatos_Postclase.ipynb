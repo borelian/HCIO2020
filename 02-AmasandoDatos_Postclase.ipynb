{
 "cells": [
  {
   "cell_type": "markdown",
   "metadata": {},
   "source": [
    "# Amasando los datos\n",
    "\n",
    "El objetivo de este módulo es aprender a cargar datos, limpiarlos, y manipularlos. Es decir, cargar un archivo de texto básico, y aprender a hacer operaciones básicas (estadísticas), unir dos fuentes de datos, y operaciones mas complejas como el concepto de `split-apply-combine`. \n",
    "\n",
    "Para esto, usaremos una estructura llamada *Dataframe*.  Esta es la estructura básica de los paquetes para manejo de datos, para casi todos los lenguajes o software, y las instrucciones son muy similares entre unos y otros.  \n",
    "\n",
    "En Python, esto está incorporado dentro del paquete `Panda`"
   ]
  },
  {
   "cell_type": "code",
   "execution_count": 105,
   "metadata": {},
   "outputs": [],
   "source": [
    "import pandas as pd\n",
    "import numpy as np\n",
    "import matplotlib.pyplot as plt"
   ]
  },
  {
   "cell_type": "markdown",
   "metadata": {},
   "source": [
    "Panda tiene un nuevo tipo para almacenar datos, las `Series` que corresponden a una **columna** de datos, y los `Dataframe`, que son varias columnas de datos con los mismo indices.   "
   ]
  },
  {
   "cell_type": "markdown",
   "metadata": {},
   "source": [
    "Primero cargamos los datos (Ojo, los datos vienen con un registro \"NA\" para aquellos que no son validos):"
   ]
  },
  {
   "cell_type": "code",
   "execution_count": 106,
   "metadata": {},
   "outputs": [
    {
     "name": "stderr",
     "output_type": "stream",
     "text": [
      "/usr/local/lib/python3.8/site-packages/IPython/core/interactiveshell.py:3145: DtypeWarning: Columns (8) have mixed types.Specify dtype option on import or set low_memory=False.\n",
      "  has_raised = await self.run_ast_nodes(code_ast.body, cell_name,\n"
     ]
    }
   ],
   "source": [
    "dataTrips = pd.read_csv(\"trips_new.csv\")"
   ]
  },
  {
   "cell_type": "code",
   "execution_count": 107,
   "metadata": {},
   "outputs": [
    {
     "data": {
      "text/html": [
       "<div>\n",
       "<style scoped>\n",
       "    .dataframe tbody tr th:only-of-type {\n",
       "        vertical-align: middle;\n",
       "    }\n",
       "\n",
       "    .dataframe tbody tr th {\n",
       "        vertical-align: top;\n",
       "    }\n",
       "\n",
       "    .dataframe thead th {\n",
       "        text-align: right;\n",
       "    }\n",
       "</style>\n",
       "<table border=\"1\" class=\"dataframe\">\n",
       "  <thead>\n",
       "    <tr style=\"text-align: right;\">\n",
       "      <th></th>\n",
       "      <th>id</th>\n",
       "      <th>duration</th>\n",
       "      <th>start_date</th>\n",
       "      <th>start_station</th>\n",
       "      <th>end_date</th>\n",
       "      <th>end_station</th>\n",
       "      <th>bike_nr</th>\n",
       "      <th>subscription_type</th>\n",
       "      <th>zip_code</th>\n",
       "      <th>birth_date</th>\n",
       "      <th>gender</th>\n",
       "    </tr>\n",
       "  </thead>\n",
       "  <tbody>\n",
       "    <tr>\n",
       "      <th>0</th>\n",
       "      <td>8</td>\n",
       "      <td>9</td>\n",
       "      <td>2011-07-28T10:12:00.04</td>\n",
       "      <td>23.0</td>\n",
       "      <td>2011-07-28T10:12:00.04</td>\n",
       "      <td>23.0</td>\n",
       "      <td>B00468</td>\n",
       "      <td>Registered</td>\n",
       "      <td>97217</td>\n",
       "      <td>1976.0</td>\n",
       "      <td>Male</td>\n",
       "    </tr>\n",
       "    <tr>\n",
       "      <th>1</th>\n",
       "      <td>9</td>\n",
       "      <td>220</td>\n",
       "      <td>2011-07-28T10:21:00.04</td>\n",
       "      <td>23.0</td>\n",
       "      <td>2011-07-28T10:25:00.04</td>\n",
       "      <td>23.0</td>\n",
       "      <td>B00554</td>\n",
       "      <td>Registered</td>\n",
       "      <td>2215</td>\n",
       "      <td>1966.0</td>\n",
       "      <td>Male</td>\n",
       "    </tr>\n",
       "    <tr>\n",
       "      <th>2</th>\n",
       "      <td>10</td>\n",
       "      <td>56</td>\n",
       "      <td>2011-07-28T10:33:00.04</td>\n",
       "      <td>23.0</td>\n",
       "      <td>2011-07-28T10:34:00.04</td>\n",
       "      <td>23.0</td>\n",
       "      <td>B00456</td>\n",
       "      <td>Registered</td>\n",
       "      <td>2108</td>\n",
       "      <td>1943.0</td>\n",
       "      <td>Male</td>\n",
       "    </tr>\n",
       "    <tr>\n",
       "      <th>3</th>\n",
       "      <td>11</td>\n",
       "      <td>64</td>\n",
       "      <td>2011-07-28T10:35:00.04</td>\n",
       "      <td>23.0</td>\n",
       "      <td>2011-07-28T10:36:00.04</td>\n",
       "      <td>23.0</td>\n",
       "      <td>B00554</td>\n",
       "      <td>Registered</td>\n",
       "      <td>2116</td>\n",
       "      <td>1981.0</td>\n",
       "      <td>Female</td>\n",
       "    </tr>\n",
       "    <tr>\n",
       "      <th>4</th>\n",
       "      <td>12</td>\n",
       "      <td>12</td>\n",
       "      <td>2011-07-28T10:37:00.04</td>\n",
       "      <td>23.0</td>\n",
       "      <td>2011-07-28T10:37:00.04</td>\n",
       "      <td>23.0</td>\n",
       "      <td>B00554</td>\n",
       "      <td>Registered</td>\n",
       "      <td>97214</td>\n",
       "      <td>1983.0</td>\n",
       "      <td>Female</td>\n",
       "    </tr>\n",
       "    <tr>\n",
       "      <th>...</th>\n",
       "      <td>...</td>\n",
       "      <td>...</td>\n",
       "      <td>...</td>\n",
       "      <td>...</td>\n",
       "      <td>...</td>\n",
       "      <td>...</td>\n",
       "      <td>...</td>\n",
       "      <td>...</td>\n",
       "      <td>...</td>\n",
       "      <td>...</td>\n",
       "      <td>...</td>\n",
       "    </tr>\n",
       "    <tr>\n",
       "      <th>552068</th>\n",
       "      <td>623507</td>\n",
       "      <td>527</td>\n",
       "      <td>2012-10-01T20:24:00.04</td>\n",
       "      <td>46.0</td>\n",
       "      <td>2012-10-01T20:32:00.04</td>\n",
       "      <td>67.0</td>\n",
       "      <td>B00486</td>\n",
       "      <td>Casual</td>\n",
       "      <td>NaN</td>\n",
       "      <td>NaN</td>\n",
       "      <td>NaN</td>\n",
       "    </tr>\n",
       "    <tr>\n",
       "      <th>552069</th>\n",
       "      <td>623508</td>\n",
       "      <td>226</td>\n",
       "      <td>2012-10-01T20:24:00.04</td>\n",
       "      <td>25.0</td>\n",
       "      <td>2012-10-01T20:28:00.04</td>\n",
       "      <td>26.0</td>\n",
       "      <td>B00170</td>\n",
       "      <td>Registered</td>\n",
       "      <td>02118</td>\n",
       "      <td>1986.0</td>\n",
       "      <td>Male</td>\n",
       "    </tr>\n",
       "    <tr>\n",
       "      <th>552070</th>\n",
       "      <td>623509</td>\n",
       "      <td>535</td>\n",
       "      <td>2012-10-01T20:25:00.04</td>\n",
       "      <td>16.0</td>\n",
       "      <td>2012-10-01T20:34:00.04</td>\n",
       "      <td>47.0</td>\n",
       "      <td>T01067</td>\n",
       "      <td>Registered</td>\n",
       "      <td>02113</td>\n",
       "      <td>1965.0</td>\n",
       "      <td>Male</td>\n",
       "    </tr>\n",
       "    <tr>\n",
       "      <th>552071</th>\n",
       "      <td>623512</td>\n",
       "      <td>429</td>\n",
       "      <td>2012-10-01T20:29:00.04</td>\n",
       "      <td>61.0</td>\n",
       "      <td>2012-10-01T20:36:00.04</td>\n",
       "      <td>33.0</td>\n",
       "      <td>B00621</td>\n",
       "      <td>Registered</td>\n",
       "      <td>02135</td>\n",
       "      <td>1986.0</td>\n",
       "      <td>Male</td>\n",
       "    </tr>\n",
       "    <tr>\n",
       "      <th>552072</th>\n",
       "      <td>623517</td>\n",
       "      <td>199</td>\n",
       "      <td>2012-10-01T20:32:00.04</td>\n",
       "      <td>22.0</td>\n",
       "      <td>2012-10-01T20:36:00.04</td>\n",
       "      <td>81.0</td>\n",
       "      <td>B00012</td>\n",
       "      <td>Registered</td>\n",
       "      <td>02116</td>\n",
       "      <td>1989.0</td>\n",
       "      <td>Male</td>\n",
       "    </tr>\n",
       "  </tbody>\n",
       "</table>\n",
       "<p>552073 rows × 11 columns</p>\n",
       "</div>"
      ],
      "text/plain": [
       "            id  duration              start_date  start_station  \\\n",
       "0            8         9  2011-07-28T10:12:00.04           23.0   \n",
       "1            9       220  2011-07-28T10:21:00.04           23.0   \n",
       "2           10        56  2011-07-28T10:33:00.04           23.0   \n",
       "3           11        64  2011-07-28T10:35:00.04           23.0   \n",
       "4           12        12  2011-07-28T10:37:00.04           23.0   \n",
       "...        ...       ...                     ...            ...   \n",
       "552068  623507       527  2012-10-01T20:24:00.04           46.0   \n",
       "552069  623508       226  2012-10-01T20:24:00.04           25.0   \n",
       "552070  623509       535  2012-10-01T20:25:00.04           16.0   \n",
       "552071  623512       429  2012-10-01T20:29:00.04           61.0   \n",
       "552072  623517       199  2012-10-01T20:32:00.04           22.0   \n",
       "\n",
       "                      end_date  end_station bike_nr subscription_type  \\\n",
       "0       2011-07-28T10:12:00.04         23.0  B00468        Registered   \n",
       "1       2011-07-28T10:25:00.04         23.0  B00554        Registered   \n",
       "2       2011-07-28T10:34:00.04         23.0  B00456        Registered   \n",
       "3       2011-07-28T10:36:00.04         23.0  B00554        Registered   \n",
       "4       2011-07-28T10:37:00.04         23.0  B00554        Registered   \n",
       "...                        ...          ...     ...               ...   \n",
       "552068  2012-10-01T20:32:00.04         67.0  B00486            Casual   \n",
       "552069  2012-10-01T20:28:00.04         26.0  B00170        Registered   \n",
       "552070  2012-10-01T20:34:00.04         47.0  T01067        Registered   \n",
       "552071  2012-10-01T20:36:00.04         33.0  B00621        Registered   \n",
       "552072  2012-10-01T20:36:00.04         81.0  B00012        Registered   \n",
       "\n",
       "       zip_code  birth_date  gender  \n",
       "0         97217      1976.0    Male  \n",
       "1          2215      1966.0    Male  \n",
       "2          2108      1943.0    Male  \n",
       "3          2116      1981.0  Female  \n",
       "4         97214      1983.0  Female  \n",
       "...         ...         ...     ...  \n",
       "552068      NaN         NaN     NaN  \n",
       "552069    02118      1986.0    Male  \n",
       "552070    02113      1965.0    Male  \n",
       "552071    02135      1986.0    Male  \n",
       "552072    02116      1989.0    Male  \n",
       "\n",
       "[552073 rows x 11 columns]"
      ]
     },
     "execution_count": 107,
     "metadata": {},
     "output_type": "execute_result"
    }
   ],
   "source": [
    "dataTrips"
   ]
  },
  {
   "cell_type": "markdown",
   "metadata": {},
   "source": [
    "Cada columna es una serie de datos. Podemos pedir una columna específica usado dataframe.columna o dataframe['columna']"
   ]
  },
  {
   "cell_type": "code",
   "execution_count": 110,
   "metadata": {},
   "outputs": [
    {
     "data": {
      "text/plain": [
       "0         B00468\n",
       "1         B00554\n",
       "2         B00456\n",
       "3         B00554\n",
       "4         B00554\n",
       "           ...  \n",
       "552068    B00486\n",
       "552069    B00170\n",
       "552070    T01067\n",
       "552071    B00621\n",
       "552072    B00012\n",
       "Name: bike_nr, Length: 552073, dtype: object"
      ]
     },
     "execution_count": 110,
     "metadata": {},
     "output_type": "execute_result"
    }
   ],
   "source": [
    "dataTrips['bike_nr']\n",
    "dataTrips.bike_nr"
   ]
  },
  {
   "cell_type": "code",
   "execution_count": 111,
   "metadata": {},
   "outputs": [
    {
     "data": {
      "text/plain": [
       "0           9\n",
       "1         220\n",
       "2          56\n",
       "3          64\n",
       "4          12\n",
       "         ... \n",
       "552068    527\n",
       "552069    226\n",
       "552070    535\n",
       "552071    429\n",
       "552072    199\n",
       "Name: duration, Length: 552073, dtype: int64"
      ]
     },
     "execution_count": 111,
     "metadata": {},
     "output_type": "execute_result"
    }
   ],
   "source": [
    "dataTrips['duration']"
   ]
  },
  {
   "cell_type": "markdown",
   "metadata": {},
   "source": [
    "Las series de datos pueden operarse como vectores:"
   ]
  },
  {
   "cell_type": "code",
   "execution_count": 114,
   "metadata": {},
   "outputs": [
    {
     "data": {
      "text/plain": [
       "0         False\n",
       "1          True\n",
       "2         False\n",
       "3         False\n",
       "4         False\n",
       "          ...  \n",
       "552068     True\n",
       "552069     True\n",
       "552070     True\n",
       "552071     True\n",
       "552072     True\n",
       "Name: duration, Length: 552073, dtype: bool"
      ]
     },
     "execution_count": 114,
     "metadata": {},
     "output_type": "execute_result"
    }
   ],
   "source": [
    "dataTrips['duration'] *100000\n",
    "dataTrips['duration']*dataTrips['duration']\n",
    "dataTrips['duration'] >100"
   ]
  },
  {
   "cell_type": "markdown",
   "metadata": {},
   "source": [
    "Y estas funciones también aplican a los Dataframes"
   ]
  },
  {
   "cell_type": "markdown",
   "metadata": {},
   "source": [
    "Podemos agregar una columna con un valor dado (o una lista)"
   ]
  },
  {
   "cell_type": "code",
   "execution_count": 119,
   "metadata": {},
   "outputs": [
    {
     "data": {
      "text/html": [
       "<div>\n",
       "<style scoped>\n",
       "    .dataframe tbody tr th:only-of-type {\n",
       "        vertical-align: middle;\n",
       "    }\n",
       "\n",
       "    .dataframe tbody tr th {\n",
       "        vertical-align: top;\n",
       "    }\n",
       "\n",
       "    .dataframe thead th {\n",
       "        text-align: right;\n",
       "    }\n",
       "</style>\n",
       "<table border=\"1\" class=\"dataframe\">\n",
       "  <thead>\n",
       "    <tr style=\"text-align: right;\">\n",
       "      <th></th>\n",
       "      <th>id</th>\n",
       "      <th>duration</th>\n",
       "      <th>start_date</th>\n",
       "      <th>start_station</th>\n",
       "      <th>end_date</th>\n",
       "      <th>end_station</th>\n",
       "      <th>bike_nr</th>\n",
       "      <th>subscription_type</th>\n",
       "      <th>zip_code</th>\n",
       "      <th>birth_date</th>\n",
       "      <th>gender</th>\n",
       "      <th>test</th>\n",
       "      <th>test2</th>\n",
       "    </tr>\n",
       "  </thead>\n",
       "  <tbody>\n",
       "    <tr>\n",
       "      <th>0</th>\n",
       "      <td>8</td>\n",
       "      <td>9</td>\n",
       "      <td>2011-07-28T10:12:00.04</td>\n",
       "      <td>23.0</td>\n",
       "      <td>2011-07-28T10:12:00.04</td>\n",
       "      <td>23.0</td>\n",
       "      <td>B00468</td>\n",
       "      <td>Registered</td>\n",
       "      <td>97217</td>\n",
       "      <td>1976.0</td>\n",
       "      <td>Male</td>\n",
       "      <td>Perro</td>\n",
       "      <td>0</td>\n",
       "    </tr>\n",
       "    <tr>\n",
       "      <th>1</th>\n",
       "      <td>9</td>\n",
       "      <td>220</td>\n",
       "      <td>2011-07-28T10:21:00.04</td>\n",
       "      <td>23.0</td>\n",
       "      <td>2011-07-28T10:25:00.04</td>\n",
       "      <td>23.0</td>\n",
       "      <td>B00554</td>\n",
       "      <td>Registered</td>\n",
       "      <td>2215</td>\n",
       "      <td>1966.0</td>\n",
       "      <td>Male</td>\n",
       "      <td>Perro</td>\n",
       "      <td>1</td>\n",
       "    </tr>\n",
       "    <tr>\n",
       "      <th>2</th>\n",
       "      <td>10</td>\n",
       "      <td>56</td>\n",
       "      <td>2011-07-28T10:33:00.04</td>\n",
       "      <td>23.0</td>\n",
       "      <td>2011-07-28T10:34:00.04</td>\n",
       "      <td>23.0</td>\n",
       "      <td>B00456</td>\n",
       "      <td>Registered</td>\n",
       "      <td>2108</td>\n",
       "      <td>1943.0</td>\n",
       "      <td>Male</td>\n",
       "      <td>Perro</td>\n",
       "      <td>2</td>\n",
       "    </tr>\n",
       "    <tr>\n",
       "      <th>3</th>\n",
       "      <td>11</td>\n",
       "      <td>64</td>\n",
       "      <td>2011-07-28T10:35:00.04</td>\n",
       "      <td>23.0</td>\n",
       "      <td>2011-07-28T10:36:00.04</td>\n",
       "      <td>23.0</td>\n",
       "      <td>B00554</td>\n",
       "      <td>Registered</td>\n",
       "      <td>2116</td>\n",
       "      <td>1981.0</td>\n",
       "      <td>Female</td>\n",
       "      <td>Perro</td>\n",
       "      <td>3</td>\n",
       "    </tr>\n",
       "    <tr>\n",
       "      <th>4</th>\n",
       "      <td>12</td>\n",
       "      <td>12</td>\n",
       "      <td>2011-07-28T10:37:00.04</td>\n",
       "      <td>23.0</td>\n",
       "      <td>2011-07-28T10:37:00.04</td>\n",
       "      <td>23.0</td>\n",
       "      <td>B00554</td>\n",
       "      <td>Registered</td>\n",
       "      <td>97214</td>\n",
       "      <td>1983.0</td>\n",
       "      <td>Female</td>\n",
       "      <td>Perro</td>\n",
       "      <td>4</td>\n",
       "    </tr>\n",
       "    <tr>\n",
       "      <th>...</th>\n",
       "      <td>...</td>\n",
       "      <td>...</td>\n",
       "      <td>...</td>\n",
       "      <td>...</td>\n",
       "      <td>...</td>\n",
       "      <td>...</td>\n",
       "      <td>...</td>\n",
       "      <td>...</td>\n",
       "      <td>...</td>\n",
       "      <td>...</td>\n",
       "      <td>...</td>\n",
       "      <td>...</td>\n",
       "      <td>...</td>\n",
       "    </tr>\n",
       "    <tr>\n",
       "      <th>552068</th>\n",
       "      <td>623507</td>\n",
       "      <td>527</td>\n",
       "      <td>2012-10-01T20:24:00.04</td>\n",
       "      <td>46.0</td>\n",
       "      <td>2012-10-01T20:32:00.04</td>\n",
       "      <td>67.0</td>\n",
       "      <td>B00486</td>\n",
       "      <td>Casual</td>\n",
       "      <td>NaN</td>\n",
       "      <td>NaN</td>\n",
       "      <td>NaN</td>\n",
       "      <td>Perro</td>\n",
       "      <td>552068</td>\n",
       "    </tr>\n",
       "    <tr>\n",
       "      <th>552069</th>\n",
       "      <td>623508</td>\n",
       "      <td>226</td>\n",
       "      <td>2012-10-01T20:24:00.04</td>\n",
       "      <td>25.0</td>\n",
       "      <td>2012-10-01T20:28:00.04</td>\n",
       "      <td>26.0</td>\n",
       "      <td>B00170</td>\n",
       "      <td>Registered</td>\n",
       "      <td>02118</td>\n",
       "      <td>1986.0</td>\n",
       "      <td>Male</td>\n",
       "      <td>Perro</td>\n",
       "      <td>552069</td>\n",
       "    </tr>\n",
       "    <tr>\n",
       "      <th>552070</th>\n",
       "      <td>623509</td>\n",
       "      <td>535</td>\n",
       "      <td>2012-10-01T20:25:00.04</td>\n",
       "      <td>16.0</td>\n",
       "      <td>2012-10-01T20:34:00.04</td>\n",
       "      <td>47.0</td>\n",
       "      <td>T01067</td>\n",
       "      <td>Registered</td>\n",
       "      <td>02113</td>\n",
       "      <td>1965.0</td>\n",
       "      <td>Male</td>\n",
       "      <td>Perro</td>\n",
       "      <td>552070</td>\n",
       "    </tr>\n",
       "    <tr>\n",
       "      <th>552071</th>\n",
       "      <td>623512</td>\n",
       "      <td>429</td>\n",
       "      <td>2012-10-01T20:29:00.04</td>\n",
       "      <td>61.0</td>\n",
       "      <td>2012-10-01T20:36:00.04</td>\n",
       "      <td>33.0</td>\n",
       "      <td>B00621</td>\n",
       "      <td>Registered</td>\n",
       "      <td>02135</td>\n",
       "      <td>1986.0</td>\n",
       "      <td>Male</td>\n",
       "      <td>Perro</td>\n",
       "      <td>552071</td>\n",
       "    </tr>\n",
       "    <tr>\n",
       "      <th>552072</th>\n",
       "      <td>623517</td>\n",
       "      <td>199</td>\n",
       "      <td>2012-10-01T20:32:00.04</td>\n",
       "      <td>22.0</td>\n",
       "      <td>2012-10-01T20:36:00.04</td>\n",
       "      <td>81.0</td>\n",
       "      <td>B00012</td>\n",
       "      <td>Registered</td>\n",
       "      <td>02116</td>\n",
       "      <td>1989.0</td>\n",
       "      <td>Male</td>\n",
       "      <td>Perro</td>\n",
       "      <td>552072</td>\n",
       "    </tr>\n",
       "  </tbody>\n",
       "</table>\n",
       "<p>552073 rows × 13 columns</p>\n",
       "</div>"
      ],
      "text/plain": [
       "            id  duration              start_date  start_station  \\\n",
       "0            8         9  2011-07-28T10:12:00.04           23.0   \n",
       "1            9       220  2011-07-28T10:21:00.04           23.0   \n",
       "2           10        56  2011-07-28T10:33:00.04           23.0   \n",
       "3           11        64  2011-07-28T10:35:00.04           23.0   \n",
       "4           12        12  2011-07-28T10:37:00.04           23.0   \n",
       "...        ...       ...                     ...            ...   \n",
       "552068  623507       527  2012-10-01T20:24:00.04           46.0   \n",
       "552069  623508       226  2012-10-01T20:24:00.04           25.0   \n",
       "552070  623509       535  2012-10-01T20:25:00.04           16.0   \n",
       "552071  623512       429  2012-10-01T20:29:00.04           61.0   \n",
       "552072  623517       199  2012-10-01T20:32:00.04           22.0   \n",
       "\n",
       "                      end_date  end_station bike_nr subscription_type  \\\n",
       "0       2011-07-28T10:12:00.04         23.0  B00468        Registered   \n",
       "1       2011-07-28T10:25:00.04         23.0  B00554        Registered   \n",
       "2       2011-07-28T10:34:00.04         23.0  B00456        Registered   \n",
       "3       2011-07-28T10:36:00.04         23.0  B00554        Registered   \n",
       "4       2011-07-28T10:37:00.04         23.0  B00554        Registered   \n",
       "...                        ...          ...     ...               ...   \n",
       "552068  2012-10-01T20:32:00.04         67.0  B00486            Casual   \n",
       "552069  2012-10-01T20:28:00.04         26.0  B00170        Registered   \n",
       "552070  2012-10-01T20:34:00.04         47.0  T01067        Registered   \n",
       "552071  2012-10-01T20:36:00.04         33.0  B00621        Registered   \n",
       "552072  2012-10-01T20:36:00.04         81.0  B00012        Registered   \n",
       "\n",
       "       zip_code  birth_date  gender   test   test2  \n",
       "0         97217      1976.0    Male  Perro       0  \n",
       "1          2215      1966.0    Male  Perro       1  \n",
       "2          2108      1943.0    Male  Perro       2  \n",
       "3          2116      1981.0  Female  Perro       3  \n",
       "4         97214      1983.0  Female  Perro       4  \n",
       "...         ...         ...     ...    ...     ...  \n",
       "552068      NaN         NaN     NaN  Perro  552068  \n",
       "552069    02118      1986.0    Male  Perro  552069  \n",
       "552070    02113      1965.0    Male  Perro  552070  \n",
       "552071    02135      1986.0    Male  Perro  552071  \n",
       "552072    02116      1989.0    Male  Perro  552072  \n",
       "\n",
       "[552073 rows x 13 columns]"
      ]
     },
     "execution_count": 119,
     "metadata": {},
     "output_type": "execute_result"
    }
   ],
   "source": [
    "dataTrips['test2'] = list(range(552073))\n",
    "dataTrips"
   ]
  },
  {
   "cell_type": "markdown",
   "metadata": {},
   "source": [
    "y borrarlas"
   ]
  },
  {
   "cell_type": "code",
   "execution_count": 122,
   "metadata": {},
   "outputs": [
    {
     "data": {
      "text/html": [
       "<div>\n",
       "<style scoped>\n",
       "    .dataframe tbody tr th:only-of-type {\n",
       "        vertical-align: middle;\n",
       "    }\n",
       "\n",
       "    .dataframe tbody tr th {\n",
       "        vertical-align: top;\n",
       "    }\n",
       "\n",
       "    .dataframe thead th {\n",
       "        text-align: right;\n",
       "    }\n",
       "</style>\n",
       "<table border=\"1\" class=\"dataframe\">\n",
       "  <thead>\n",
       "    <tr style=\"text-align: right;\">\n",
       "      <th></th>\n",
       "      <th>id</th>\n",
       "      <th>duration</th>\n",
       "      <th>start_date</th>\n",
       "      <th>start_station</th>\n",
       "      <th>end_date</th>\n",
       "      <th>end_station</th>\n",
       "      <th>bike_nr</th>\n",
       "      <th>subscription_type</th>\n",
       "      <th>zip_code</th>\n",
       "      <th>birth_date</th>\n",
       "      <th>gender</th>\n",
       "    </tr>\n",
       "  </thead>\n",
       "  <tbody>\n",
       "    <tr>\n",
       "      <th>0</th>\n",
       "      <td>8</td>\n",
       "      <td>9</td>\n",
       "      <td>2011-07-28T10:12:00.04</td>\n",
       "      <td>23.0</td>\n",
       "      <td>2011-07-28T10:12:00.04</td>\n",
       "      <td>23.0</td>\n",
       "      <td>B00468</td>\n",
       "      <td>Registered</td>\n",
       "      <td>97217</td>\n",
       "      <td>1976.0</td>\n",
       "      <td>Male</td>\n",
       "    </tr>\n",
       "    <tr>\n",
       "      <th>1</th>\n",
       "      <td>9</td>\n",
       "      <td>220</td>\n",
       "      <td>2011-07-28T10:21:00.04</td>\n",
       "      <td>23.0</td>\n",
       "      <td>2011-07-28T10:25:00.04</td>\n",
       "      <td>23.0</td>\n",
       "      <td>B00554</td>\n",
       "      <td>Registered</td>\n",
       "      <td>2215</td>\n",
       "      <td>1966.0</td>\n",
       "      <td>Male</td>\n",
       "    </tr>\n",
       "    <tr>\n",
       "      <th>2</th>\n",
       "      <td>10</td>\n",
       "      <td>56</td>\n",
       "      <td>2011-07-28T10:33:00.04</td>\n",
       "      <td>23.0</td>\n",
       "      <td>2011-07-28T10:34:00.04</td>\n",
       "      <td>23.0</td>\n",
       "      <td>B00456</td>\n",
       "      <td>Registered</td>\n",
       "      <td>2108</td>\n",
       "      <td>1943.0</td>\n",
       "      <td>Male</td>\n",
       "    </tr>\n",
       "    <tr>\n",
       "      <th>3</th>\n",
       "      <td>11</td>\n",
       "      <td>64</td>\n",
       "      <td>2011-07-28T10:35:00.04</td>\n",
       "      <td>23.0</td>\n",
       "      <td>2011-07-28T10:36:00.04</td>\n",
       "      <td>23.0</td>\n",
       "      <td>B00554</td>\n",
       "      <td>Registered</td>\n",
       "      <td>2116</td>\n",
       "      <td>1981.0</td>\n",
       "      <td>Female</td>\n",
       "    </tr>\n",
       "    <tr>\n",
       "      <th>4</th>\n",
       "      <td>12</td>\n",
       "      <td>12</td>\n",
       "      <td>2011-07-28T10:37:00.04</td>\n",
       "      <td>23.0</td>\n",
       "      <td>2011-07-28T10:37:00.04</td>\n",
       "      <td>23.0</td>\n",
       "      <td>B00554</td>\n",
       "      <td>Registered</td>\n",
       "      <td>97214</td>\n",
       "      <td>1983.0</td>\n",
       "      <td>Female</td>\n",
       "    </tr>\n",
       "    <tr>\n",
       "      <th>...</th>\n",
       "      <td>...</td>\n",
       "      <td>...</td>\n",
       "      <td>...</td>\n",
       "      <td>...</td>\n",
       "      <td>...</td>\n",
       "      <td>...</td>\n",
       "      <td>...</td>\n",
       "      <td>...</td>\n",
       "      <td>...</td>\n",
       "      <td>...</td>\n",
       "      <td>...</td>\n",
       "    </tr>\n",
       "    <tr>\n",
       "      <th>552068</th>\n",
       "      <td>623507</td>\n",
       "      <td>527</td>\n",
       "      <td>2012-10-01T20:24:00.04</td>\n",
       "      <td>46.0</td>\n",
       "      <td>2012-10-01T20:32:00.04</td>\n",
       "      <td>67.0</td>\n",
       "      <td>B00486</td>\n",
       "      <td>Casual</td>\n",
       "      <td>NaN</td>\n",
       "      <td>NaN</td>\n",
       "      <td>NaN</td>\n",
       "    </tr>\n",
       "    <tr>\n",
       "      <th>552069</th>\n",
       "      <td>623508</td>\n",
       "      <td>226</td>\n",
       "      <td>2012-10-01T20:24:00.04</td>\n",
       "      <td>25.0</td>\n",
       "      <td>2012-10-01T20:28:00.04</td>\n",
       "      <td>26.0</td>\n",
       "      <td>B00170</td>\n",
       "      <td>Registered</td>\n",
       "      <td>02118</td>\n",
       "      <td>1986.0</td>\n",
       "      <td>Male</td>\n",
       "    </tr>\n",
       "    <tr>\n",
       "      <th>552070</th>\n",
       "      <td>623509</td>\n",
       "      <td>535</td>\n",
       "      <td>2012-10-01T20:25:00.04</td>\n",
       "      <td>16.0</td>\n",
       "      <td>2012-10-01T20:34:00.04</td>\n",
       "      <td>47.0</td>\n",
       "      <td>T01067</td>\n",
       "      <td>Registered</td>\n",
       "      <td>02113</td>\n",
       "      <td>1965.0</td>\n",
       "      <td>Male</td>\n",
       "    </tr>\n",
       "    <tr>\n",
       "      <th>552071</th>\n",
       "      <td>623512</td>\n",
       "      <td>429</td>\n",
       "      <td>2012-10-01T20:29:00.04</td>\n",
       "      <td>61.0</td>\n",
       "      <td>2012-10-01T20:36:00.04</td>\n",
       "      <td>33.0</td>\n",
       "      <td>B00621</td>\n",
       "      <td>Registered</td>\n",
       "      <td>02135</td>\n",
       "      <td>1986.0</td>\n",
       "      <td>Male</td>\n",
       "    </tr>\n",
       "    <tr>\n",
       "      <th>552072</th>\n",
       "      <td>623517</td>\n",
       "      <td>199</td>\n",
       "      <td>2012-10-01T20:32:00.04</td>\n",
       "      <td>22.0</td>\n",
       "      <td>2012-10-01T20:36:00.04</td>\n",
       "      <td>81.0</td>\n",
       "      <td>B00012</td>\n",
       "      <td>Registered</td>\n",
       "      <td>02116</td>\n",
       "      <td>1989.0</td>\n",
       "      <td>Male</td>\n",
       "    </tr>\n",
       "  </tbody>\n",
       "</table>\n",
       "<p>552073 rows × 11 columns</p>\n",
       "</div>"
      ],
      "text/plain": [
       "            id  duration              start_date  start_station  \\\n",
       "0            8         9  2011-07-28T10:12:00.04           23.0   \n",
       "1            9       220  2011-07-28T10:21:00.04           23.0   \n",
       "2           10        56  2011-07-28T10:33:00.04           23.0   \n",
       "3           11        64  2011-07-28T10:35:00.04           23.0   \n",
       "4           12        12  2011-07-28T10:37:00.04           23.0   \n",
       "...        ...       ...                     ...            ...   \n",
       "552068  623507       527  2012-10-01T20:24:00.04           46.0   \n",
       "552069  623508       226  2012-10-01T20:24:00.04           25.0   \n",
       "552070  623509       535  2012-10-01T20:25:00.04           16.0   \n",
       "552071  623512       429  2012-10-01T20:29:00.04           61.0   \n",
       "552072  623517       199  2012-10-01T20:32:00.04           22.0   \n",
       "\n",
       "                      end_date  end_station bike_nr subscription_type  \\\n",
       "0       2011-07-28T10:12:00.04         23.0  B00468        Registered   \n",
       "1       2011-07-28T10:25:00.04         23.0  B00554        Registered   \n",
       "2       2011-07-28T10:34:00.04         23.0  B00456        Registered   \n",
       "3       2011-07-28T10:36:00.04         23.0  B00554        Registered   \n",
       "4       2011-07-28T10:37:00.04         23.0  B00554        Registered   \n",
       "...                        ...          ...     ...               ...   \n",
       "552068  2012-10-01T20:32:00.04         67.0  B00486            Casual   \n",
       "552069  2012-10-01T20:28:00.04         26.0  B00170        Registered   \n",
       "552070  2012-10-01T20:34:00.04         47.0  T01067        Registered   \n",
       "552071  2012-10-01T20:36:00.04         33.0  B00621        Registered   \n",
       "552072  2012-10-01T20:36:00.04         81.0  B00012        Registered   \n",
       "\n",
       "       zip_code  birth_date  gender  \n",
       "0         97217      1976.0    Male  \n",
       "1          2215      1966.0    Male  \n",
       "2          2108      1943.0    Male  \n",
       "3          2116      1981.0  Female  \n",
       "4         97214      1983.0  Female  \n",
       "...         ...         ...     ...  \n",
       "552068      NaN         NaN     NaN  \n",
       "552069    02118      1986.0    Male  \n",
       "552070    02113      1965.0    Male  \n",
       "552071    02135      1986.0    Male  \n",
       "552072    02116      1989.0    Male  \n",
       "\n",
       "[552073 rows x 11 columns]"
      ]
     },
     "execution_count": 122,
     "metadata": {},
     "output_type": "execute_result"
    }
   ],
   "source": [
    "#del dataTrips['test']\n",
    "del dataTrips['test2']\n",
    "dataTrips"
   ]
  },
  {
   "cell_type": "code",
   "execution_count": 127,
   "metadata": {},
   "outputs": [
    {
     "data": {
      "text/plain": [
       "array([     8,      9,     10, ..., 623509, 623512, 623517])"
      ]
     },
     "execution_count": 127,
     "metadata": {},
     "output_type": "execute_result"
    }
   ],
   "source": [
    "dataTrips['id'].index\n",
    "dataTrips['id'].values"
   ]
  },
  {
   "cell_type": "markdown",
   "metadata": {},
   "source": [
    "También podemos pedir un subconjunto de elementos, como si fuera una matriz. Por ejemplo, las 10 primeras filas."
   ]
  },
  {
   "cell_type": "code",
   "execution_count": 133,
   "metadata": {},
   "outputs": [
    {
     "data": {
      "text/html": [
       "<div>\n",
       "<style scoped>\n",
       "    .dataframe tbody tr th:only-of-type {\n",
       "        vertical-align: middle;\n",
       "    }\n",
       "\n",
       "    .dataframe tbody tr th {\n",
       "        vertical-align: top;\n",
       "    }\n",
       "\n",
       "    .dataframe thead th {\n",
       "        text-align: right;\n",
       "    }\n",
       "</style>\n",
       "<table border=\"1\" class=\"dataframe\">\n",
       "  <thead>\n",
       "    <tr style=\"text-align: right;\">\n",
       "      <th></th>\n",
       "      <th>id</th>\n",
       "      <th>duration</th>\n",
       "      <th>start_date</th>\n",
       "      <th>start_station</th>\n",
       "      <th>end_date</th>\n",
       "      <th>end_station</th>\n",
       "      <th>bike_nr</th>\n",
       "      <th>subscription_type</th>\n",
       "      <th>zip_code</th>\n",
       "      <th>birth_date</th>\n",
       "      <th>gender</th>\n",
       "    </tr>\n",
       "  </thead>\n",
       "  <tbody>\n",
       "    <tr>\n",
       "      <th>1</th>\n",
       "      <td>9</td>\n",
       "      <td>220</td>\n",
       "      <td>2011-07-28T10:21:00.04</td>\n",
       "      <td>23.0</td>\n",
       "      <td>2011-07-28T10:25:00.04</td>\n",
       "      <td>23.0</td>\n",
       "      <td>B00554</td>\n",
       "      <td>Registered</td>\n",
       "      <td>2215</td>\n",
       "      <td>1966.0</td>\n",
       "      <td>Male</td>\n",
       "    </tr>\n",
       "    <tr>\n",
       "      <th>2</th>\n",
       "      <td>10</td>\n",
       "      <td>56</td>\n",
       "      <td>2011-07-28T10:33:00.04</td>\n",
       "      <td>23.0</td>\n",
       "      <td>2011-07-28T10:34:00.04</td>\n",
       "      <td>23.0</td>\n",
       "      <td>B00456</td>\n",
       "      <td>Registered</td>\n",
       "      <td>2108</td>\n",
       "      <td>1943.0</td>\n",
       "      <td>Male</td>\n",
       "    </tr>\n",
       "    <tr>\n",
       "      <th>3</th>\n",
       "      <td>11</td>\n",
       "      <td>64</td>\n",
       "      <td>2011-07-28T10:35:00.04</td>\n",
       "      <td>23.0</td>\n",
       "      <td>2011-07-28T10:36:00.04</td>\n",
       "      <td>23.0</td>\n",
       "      <td>B00554</td>\n",
       "      <td>Registered</td>\n",
       "      <td>2116</td>\n",
       "      <td>1981.0</td>\n",
       "      <td>Female</td>\n",
       "    </tr>\n",
       "    <tr>\n",
       "      <th>4</th>\n",
       "      <td>12</td>\n",
       "      <td>12</td>\n",
       "      <td>2011-07-28T10:37:00.04</td>\n",
       "      <td>23.0</td>\n",
       "      <td>2011-07-28T10:37:00.04</td>\n",
       "      <td>23.0</td>\n",
       "      <td>B00554</td>\n",
       "      <td>Registered</td>\n",
       "      <td>97214</td>\n",
       "      <td>1983.0</td>\n",
       "      <td>Female</td>\n",
       "    </tr>\n",
       "  </tbody>\n",
       "</table>\n",
       "</div>"
      ],
      "text/plain": [
       "   id  duration              start_date  start_station  \\\n",
       "1   9       220  2011-07-28T10:21:00.04           23.0   \n",
       "2  10        56  2011-07-28T10:33:00.04           23.0   \n",
       "3  11        64  2011-07-28T10:35:00.04           23.0   \n",
       "4  12        12  2011-07-28T10:37:00.04           23.0   \n",
       "\n",
       "                 end_date  end_station bike_nr subscription_type zip_code  \\\n",
       "1  2011-07-28T10:25:00.04         23.0  B00554        Registered     2215   \n",
       "2  2011-07-28T10:34:00.04         23.0  B00456        Registered     2108   \n",
       "3  2011-07-28T10:36:00.04         23.0  B00554        Registered     2116   \n",
       "4  2011-07-28T10:37:00.04         23.0  B00554        Registered    97214   \n",
       "\n",
       "   birth_date  gender  \n",
       "1      1966.0    Male  \n",
       "2      1943.0    Male  \n",
       "3      1981.0  Female  \n",
       "4      1983.0  Female  "
      ]
     },
     "execution_count": 133,
     "metadata": {},
     "output_type": "execute_result"
    }
   ],
   "source": [
    "dataTrips['id']\n",
    "dataTrips.iloc[1:5]"
   ]
  },
  {
   "cell_type": "code",
   "execution_count": 131,
   "metadata": {},
   "outputs": [
    {
     "data": {
      "text/plain": [
       "10"
      ]
     },
     "execution_count": 131,
     "metadata": {},
     "output_type": "execute_result"
    }
   ],
   "source": [
    "dataTrips['id'][2]"
   ]
  },
  {
   "cell_type": "markdown",
   "metadata": {},
   "source": [
    "O las filas que cumplen con una condición. Por ejemplo, los viajes de la bicicleta B00468."
   ]
  },
  {
   "cell_type": "code",
   "execution_count": 135,
   "metadata": {},
   "outputs": [
    {
     "data": {
      "text/plain": [
       "0          True\n",
       "1         False\n",
       "2         False\n",
       "3         False\n",
       "4         False\n",
       "          ...  \n",
       "552068    False\n",
       "552069    False\n",
       "552070    False\n",
       "552071    False\n",
       "552072    False\n",
       "Name: bike_nr, Length: 552073, dtype: bool"
      ]
     },
     "execution_count": 135,
     "metadata": {},
     "output_type": "execute_result"
    }
   ],
   "source": [
    "dataTrips['bike_nr']=='B00468'"
   ]
  },
  {
   "cell_type": "markdown",
   "metadata": {},
   "source": [
    "Y seleccionar solo las filas que cumplen esa condicion"
   ]
  },
  {
   "cell_type": "code",
   "execution_count": 139,
   "metadata": {
    "scrolled": false
   },
   "outputs": [
    {
     "data": {
      "text/html": [
       "<div>\n",
       "<style scoped>\n",
       "    .dataframe tbody tr th:only-of-type {\n",
       "        vertical-align: middle;\n",
       "    }\n",
       "\n",
       "    .dataframe tbody tr th {\n",
       "        vertical-align: top;\n",
       "    }\n",
       "\n",
       "    .dataframe thead th {\n",
       "        text-align: right;\n",
       "    }\n",
       "</style>\n",
       "<table border=\"1\" class=\"dataframe\">\n",
       "  <thead>\n",
       "    <tr style=\"text-align: right;\">\n",
       "      <th></th>\n",
       "      <th>id</th>\n",
       "      <th>duration</th>\n",
       "      <th>start_date</th>\n",
       "      <th>start_station</th>\n",
       "      <th>end_date</th>\n",
       "      <th>end_station</th>\n",
       "      <th>bike_nr</th>\n",
       "      <th>subscription_type</th>\n",
       "      <th>zip_code</th>\n",
       "      <th>birth_date</th>\n",
       "      <th>gender</th>\n",
       "    </tr>\n",
       "  </thead>\n",
       "  <tbody>\n",
       "    <tr>\n",
       "      <th>0</th>\n",
       "      <td>8</td>\n",
       "      <td>9</td>\n",
       "      <td>2011-07-28T10:12:00.04</td>\n",
       "      <td>23.0</td>\n",
       "      <td>2011-07-28T10:12:00.04</td>\n",
       "      <td>23.0</td>\n",
       "      <td>B00468</td>\n",
       "      <td>Registered</td>\n",
       "      <td>97217</td>\n",
       "      <td>1976.0</td>\n",
       "      <td>Male</td>\n",
       "    </tr>\n",
       "    <tr>\n",
       "      <th>100</th>\n",
       "      <td>128</td>\n",
       "      <td>397</td>\n",
       "      <td>2011-07-28T13:25:00.04</td>\n",
       "      <td>23.0</td>\n",
       "      <td>2011-07-28T13:32:00.04</td>\n",
       "      <td>44.0</td>\n",
       "      <td>B00468</td>\n",
       "      <td>Registered</td>\n",
       "      <td>2143</td>\n",
       "      <td>1986.0</td>\n",
       "      <td>Female</td>\n",
       "    </tr>\n",
       "    <tr>\n",
       "      <th>847</th>\n",
       "      <td>939</td>\n",
       "      <td>3924</td>\n",
       "      <td>2011-07-29T18:17:00.04</td>\n",
       "      <td>44.0</td>\n",
       "      <td>2011-07-29T19:23:00.04</td>\n",
       "      <td>42.0</td>\n",
       "      <td>B00468</td>\n",
       "      <td>Casual</td>\n",
       "      <td>NaN</td>\n",
       "      <td>NaN</td>\n",
       "      <td>NaN</td>\n",
       "    </tr>\n",
       "    <tr>\n",
       "      <th>941</th>\n",
       "      <td>1046</td>\n",
       "      <td>507</td>\n",
       "      <td>2011-07-29T21:40:00.04</td>\n",
       "      <td>42.0</td>\n",
       "      <td>2011-07-29T21:49:00.04</td>\n",
       "      <td>36.0</td>\n",
       "      <td>B00468</td>\n",
       "      <td>Casual</td>\n",
       "      <td>NaN</td>\n",
       "      <td>NaN</td>\n",
       "      <td>NaN</td>\n",
       "    </tr>\n",
       "    <tr>\n",
       "      <th>969</th>\n",
       "      <td>1077</td>\n",
       "      <td>955</td>\n",
       "      <td>2011-07-30T02:42:00.04</td>\n",
       "      <td>36.0</td>\n",
       "      <td>2011-07-30T02:58:00.04</td>\n",
       "      <td>41.0</td>\n",
       "      <td>B00468</td>\n",
       "      <td>Casual</td>\n",
       "      <td>NaN</td>\n",
       "      <td>NaN</td>\n",
       "      <td>NaN</td>\n",
       "    </tr>\n",
       "    <tr>\n",
       "      <th>...</th>\n",
       "      <td>...</td>\n",
       "      <td>...</td>\n",
       "      <td>...</td>\n",
       "      <td>...</td>\n",
       "      <td>...</td>\n",
       "      <td>...</td>\n",
       "      <td>...</td>\n",
       "      <td>...</td>\n",
       "      <td>...</td>\n",
       "      <td>...</td>\n",
       "      <td>...</td>\n",
       "    </tr>\n",
       "    <tr>\n",
       "      <th>549617</th>\n",
       "      <td>620699</td>\n",
       "      <td>712</td>\n",
       "      <td>2012-10-01T08:09:00.04</td>\n",
       "      <td>45.0</td>\n",
       "      <td>2012-10-01T08:21:00.04</td>\n",
       "      <td>35.0</td>\n",
       "      <td>B00468</td>\n",
       "      <td>Registered</td>\n",
       "      <td>02215</td>\n",
       "      <td>1978.0</td>\n",
       "      <td>Female</td>\n",
       "    </tr>\n",
       "    <tr>\n",
       "      <th>551173</th>\n",
       "      <td>622434</td>\n",
       "      <td>297</td>\n",
       "      <td>2012-10-01T17:05:00.04</td>\n",
       "      <td>35.0</td>\n",
       "      <td>2012-10-01T17:10:00.04</td>\n",
       "      <td>43.0</td>\n",
       "      <td>B00468</td>\n",
       "      <td>Registered</td>\n",
       "      <td>02043</td>\n",
       "      <td>1948.0</td>\n",
       "      <td>Male</td>\n",
       "    </tr>\n",
       "    <tr>\n",
       "      <th>551428</th>\n",
       "      <td>622720</td>\n",
       "      <td>767</td>\n",
       "      <td>2012-10-01T17:38:00.04</td>\n",
       "      <td>43.0</td>\n",
       "      <td>2012-10-01T17:51:00.04</td>\n",
       "      <td>16.0</td>\n",
       "      <td>B00468</td>\n",
       "      <td>Registered</td>\n",
       "      <td>02116</td>\n",
       "      <td>1969.0</td>\n",
       "      <td>Female</td>\n",
       "    </tr>\n",
       "    <tr>\n",
       "      <th>551721</th>\n",
       "      <td>623084</td>\n",
       "      <td>428</td>\n",
       "      <td>2012-10-01T18:32:00.04</td>\n",
       "      <td>16.0</td>\n",
       "      <td>2012-10-01T18:39:00.04</td>\n",
       "      <td>59.0</td>\n",
       "      <td>B00468</td>\n",
       "      <td>Registered</td>\n",
       "      <td>03051</td>\n",
       "      <td>1977.0</td>\n",
       "      <td>Male</td>\n",
       "    </tr>\n",
       "    <tr>\n",
       "      <th>551789</th>\n",
       "      <td>623165</td>\n",
       "      <td>520</td>\n",
       "      <td>2012-10-01T18:48:00.04</td>\n",
       "      <td>59.0</td>\n",
       "      <td>2012-10-01T18:57:00.04</td>\n",
       "      <td>57.0</td>\n",
       "      <td>B00468</td>\n",
       "      <td>Registered</td>\n",
       "      <td>02118</td>\n",
       "      <td>1973.0</td>\n",
       "      <td>Male</td>\n",
       "    </tr>\n",
       "  </tbody>\n",
       "</table>\n",
       "<p>862 rows × 11 columns</p>\n",
       "</div>"
      ],
      "text/plain": [
       "            id  duration              start_date  start_station  \\\n",
       "0            8         9  2011-07-28T10:12:00.04           23.0   \n",
       "100        128       397  2011-07-28T13:25:00.04           23.0   \n",
       "847        939      3924  2011-07-29T18:17:00.04           44.0   \n",
       "941       1046       507  2011-07-29T21:40:00.04           42.0   \n",
       "969       1077       955  2011-07-30T02:42:00.04           36.0   \n",
       "...        ...       ...                     ...            ...   \n",
       "549617  620699       712  2012-10-01T08:09:00.04           45.0   \n",
       "551173  622434       297  2012-10-01T17:05:00.04           35.0   \n",
       "551428  622720       767  2012-10-01T17:38:00.04           43.0   \n",
       "551721  623084       428  2012-10-01T18:32:00.04           16.0   \n",
       "551789  623165       520  2012-10-01T18:48:00.04           59.0   \n",
       "\n",
       "                      end_date  end_station bike_nr subscription_type  \\\n",
       "0       2011-07-28T10:12:00.04         23.0  B00468        Registered   \n",
       "100     2011-07-28T13:32:00.04         44.0  B00468        Registered   \n",
       "847     2011-07-29T19:23:00.04         42.0  B00468            Casual   \n",
       "941     2011-07-29T21:49:00.04         36.0  B00468            Casual   \n",
       "969     2011-07-30T02:58:00.04         41.0  B00468            Casual   \n",
       "...                        ...          ...     ...               ...   \n",
       "549617  2012-10-01T08:21:00.04         35.0  B00468        Registered   \n",
       "551173  2012-10-01T17:10:00.04         43.0  B00468        Registered   \n",
       "551428  2012-10-01T17:51:00.04         16.0  B00468        Registered   \n",
       "551721  2012-10-01T18:39:00.04         59.0  B00468        Registered   \n",
       "551789  2012-10-01T18:57:00.04         57.0  B00468        Registered   \n",
       "\n",
       "       zip_code  birth_date  gender  \n",
       "0         97217      1976.0    Male  \n",
       "100        2143      1986.0  Female  \n",
       "847         NaN         NaN     NaN  \n",
       "941         NaN         NaN     NaN  \n",
       "969         NaN         NaN     NaN  \n",
       "...         ...         ...     ...  \n",
       "549617    02215      1978.0  Female  \n",
       "551173    02043      1948.0    Male  \n",
       "551428    02116      1969.0  Female  \n",
       "551721    03051      1977.0    Male  \n",
       "551789    02118      1973.0    Male  \n",
       "\n",
       "[862 rows x 11 columns]"
      ]
     },
     "execution_count": 139,
     "metadata": {},
     "output_type": "execute_result"
    }
   ],
   "source": [
    "dataTrips[dataTrips['bike_nr']=='B00468']"
   ]
  },
  {
   "cell_type": "markdown",
   "metadata": {},
   "source": [
    "Podemos ver el numero de registros y columnas del DataFrame (`.shape`)"
   ]
  },
  {
   "cell_type": "code",
   "execution_count": 141,
   "metadata": {},
   "outputs": [
    {
     "data": {
      "text/plain": [
       "(862, 11)"
      ]
     },
     "execution_count": 141,
     "metadata": {},
     "output_type": "execute_result"
    }
   ],
   "source": [
    "dataTrips.shape\n",
    "dataTrips[dataTrips['bike_nr']=='B00468'].shape"
   ]
  },
  {
   "cell_type": "markdown",
   "metadata": {},
   "source": [
    "Un aspecto clave de los DataFrame es que cada columna tiene un *typo* (`dtype` en Python) asociado."
   ]
  },
  {
   "cell_type": "code",
   "execution_count": 142,
   "metadata": {},
   "outputs": [
    {
     "data": {
      "text/plain": [
       "id                     int64\n",
       "duration               int64\n",
       "start_date            object\n",
       "start_station        float64\n",
       "end_date              object\n",
       "end_station          float64\n",
       "bike_nr               object\n",
       "subscription_type     object\n",
       "zip_code              object\n",
       "birth_date           float64\n",
       "gender                object\n",
       "dtype: object"
      ]
     },
     "execution_count": 142,
     "metadata": {},
     "output_type": "execute_result"
    }
   ],
   "source": [
    "dataTrips.dtypes"
   ]
  },
  {
   "cell_type": "markdown",
   "metadata": {},
   "source": [
    "Cambiaremos las columnas a *categorias*. Por ejemplo, la columna *gender* tiene dos categorías: *Male* y *Female* (o `NaN` si no se conoce)"
   ]
  },
  {
   "cell_type": "code",
   "execution_count": 146,
   "metadata": {},
   "outputs": [],
   "source": [
    "dataTrips['gender']= dataTrips['gender'].astype('category')"
   ]
  },
  {
   "cell_type": "code",
   "execution_count": 147,
   "metadata": {},
   "outputs": [
    {
     "data": {
      "text/plain": [
       "0           Male\n",
       "1           Male\n",
       "2           Male\n",
       "3         Female\n",
       "4         Female\n",
       "           ...  \n",
       "552068       NaN\n",
       "552069      Male\n",
       "552070      Male\n",
       "552071      Male\n",
       "552072      Male\n",
       "Name: gender, Length: 552073, dtype: category\n",
       "Categories (2, object): ['Female', 'Male']"
      ]
     },
     "execution_count": 147,
     "metadata": {},
     "output_type": "execute_result"
    }
   ],
   "source": [
    "dataTrips['gender']"
   ]
  },
  {
   "cell_type": "markdown",
   "metadata": {},
   "source": [
    "Posiblemente al leer también tiene errores. Por ejemplo, la estación de inicio la reconoció como un número (*float*). Lo corregimos como categoría."
   ]
  },
  {
   "cell_type": "code",
   "execution_count": 148,
   "metadata": {},
   "outputs": [],
   "source": [
    "dataTrips['start_station']=dataTrips['start_station'].astype('category')\n",
    "dataTrips['end_station']=dataTrips['end_station'].astype('category')"
   ]
  },
  {
   "cell_type": "code",
   "execution_count": 149,
   "metadata": {},
   "outputs": [
    {
     "data": {
      "text/plain": [
       "0         23.0\n",
       "1         23.0\n",
       "2         23.0\n",
       "3         23.0\n",
       "4         23.0\n",
       "          ... \n",
       "552068    46.0\n",
       "552069    25.0\n",
       "552070    16.0\n",
       "552071    61.0\n",
       "552072    22.0\n",
       "Name: start_station, Length: 552073, dtype: category\n",
       "Categories (95, float64): [3.0, 4.0, 5.0, 6.0, ..., 95.0, 96.0, 97.0, 98.0]"
      ]
     },
     "execution_count": 149,
     "metadata": {},
     "output_type": "execute_result"
    }
   ],
   "source": [
    "dataTrips['start_station']"
   ]
  },
  {
   "cell_type": "markdown",
   "metadata": {},
   "source": [
    "Otras columnas (como *start_date* y *end_date*) son del tipo Fecha."
   ]
  },
  {
   "cell_type": "code",
   "execution_count": 150,
   "metadata": {},
   "outputs": [],
   "source": [
    "dataTrips['start_date']=dataTrips['start_date'].astype('datetime64[ns]')\n",
    "dataTrips['end_date']=dataTrips['end_date'].astype('datetime64[ns]')"
   ]
  },
  {
   "cell_type": "code",
   "execution_count": 151,
   "metadata": {},
   "outputs": [],
   "source": [
    "dataTrips['subscription_type']=dataTrips['subscription_type'].astype('category')\n",
    "dataTrips['zip_code']=dataTrips['zip_code'].astype('category')\n",
    "dataTrips['bike_nr']=dataTrips['bike_nr'].astype('category')"
   ]
  },
  {
   "cell_type": "code",
   "execution_count": 152,
   "metadata": {},
   "outputs": [
    {
     "data": {
      "text/plain": [
       "id                            int64\n",
       "duration                      int64\n",
       "start_date           datetime64[ns]\n",
       "start_station              category\n",
       "end_date             datetime64[ns]\n",
       "end_station                category\n",
       "bike_nr                    category\n",
       "subscription_type          category\n",
       "zip_code                   category\n",
       "birth_date                  float64\n",
       "gender                     category\n",
       "dtype: object"
      ]
     },
     "execution_count": 152,
     "metadata": {},
     "output_type": "execute_result"
    }
   ],
   "source": [
    "dataTrips.dtypes"
   ]
  },
  {
   "cell_type": "markdown",
   "metadata": {},
   "source": [
    "Y, por ejemplo, las duraciones deberían ser `float`"
   ]
  },
  {
   "cell_type": "code",
   "execution_count": 153,
   "metadata": {},
   "outputs": [],
   "source": [
    "dataTrips['duration']=dataTrips['duration'].astype('float')"
   ]
  },
  {
   "cell_type": "code",
   "execution_count": 154,
   "metadata": {},
   "outputs": [
    {
     "data": {
      "text/plain": [
       "id                            int64\n",
       "duration                    float64\n",
       "start_date           datetime64[ns]\n",
       "start_station              category\n",
       "end_date             datetime64[ns]\n",
       "end_station                category\n",
       "bike_nr                    category\n",
       "subscription_type          category\n",
       "zip_code                   category\n",
       "birth_date                  float64\n",
       "gender                     category\n",
       "dtype: object"
      ]
     },
     "execution_count": 154,
     "metadata": {},
     "output_type": "execute_result"
    }
   ],
   "source": [
    "dataTrips.dtypes"
   ]
  },
  {
   "cell_type": "code",
   "execution_count": 158,
   "metadata": {},
   "outputs": [
    {
     "data": {
      "text/plain": [
       "count    5.520730e+05\n",
       "mean     1.694982e+03\n",
       "std      4.436507e+04\n",
       "min      0.000000e+00\n",
       "25%      4.110000e+02\n",
       "50%      6.870000e+02\n",
       "75%      1.204000e+03\n",
       "max      1.199446e+07\n",
       "Name: duration, dtype: float64"
      ]
     },
     "execution_count": 158,
     "metadata": {},
     "output_type": "execute_result"
    }
   ],
   "source": [
    "dataTrips['duration'].describe()"
   ]
  },
  {
   "cell_type": "markdown",
   "metadata": {},
   "source": [
    "Ahora, transformemos las duraciones (que están en segundos) en minutos."
   ]
  },
  {
   "cell_type": "code",
   "execution_count": 160,
   "metadata": {},
   "outputs": [],
   "source": [
    "dataTrips['duration']/60\n",
    "dataTrips['duration']=dataTrips['duration']/60"
   ]
  },
  {
   "cell_type": "code",
   "execution_count": 167,
   "metadata": {},
   "outputs": [
    {
     "data": {
      "text/plain": [
       "0         0.150000\n",
       "1         3.666667\n",
       "2         0.933333\n",
       "3         1.066667\n",
       "4         0.200000\n",
       "            ...   \n",
       "552068    8.783333\n",
       "552069    3.766667\n",
       "552070    8.916667\n",
       "552071    7.150000\n",
       "552072    3.316667\n",
       "Name: duration, Length: 552073, dtype: float64"
      ]
     },
     "execution_count": 167,
     "metadata": {},
     "output_type": "execute_result"
    }
   ],
   "source": [
    "dataTrips['duration']"
   ]
  },
  {
   "cell_type": "code",
   "execution_count": 161,
   "metadata": {},
   "outputs": [
    {
     "data": {
      "text/html": [
       "<div>\n",
       "<style scoped>\n",
       "    .dataframe tbody tr th:only-of-type {\n",
       "        vertical-align: middle;\n",
       "    }\n",
       "\n",
       "    .dataframe tbody tr th {\n",
       "        vertical-align: top;\n",
       "    }\n",
       "\n",
       "    .dataframe thead th {\n",
       "        text-align: right;\n",
       "    }\n",
       "</style>\n",
       "<table border=\"1\" class=\"dataframe\">\n",
       "  <thead>\n",
       "    <tr style=\"text-align: right;\">\n",
       "      <th></th>\n",
       "      <th>id</th>\n",
       "      <th>duration</th>\n",
       "      <th>birth_date</th>\n",
       "    </tr>\n",
       "  </thead>\n",
       "  <tbody>\n",
       "    <tr>\n",
       "      <th>count</th>\n",
       "      <td>552073.000000</td>\n",
       "      <td>552073.000000</td>\n",
       "      <td>352960.00000</td>\n",
       "    </tr>\n",
       "    <tr>\n",
       "      <th>mean</th>\n",
       "      <td>312921.005660</td>\n",
       "      <td>28.249699</td>\n",
       "      <td>1976.29481</td>\n",
       "    </tr>\n",
       "    <tr>\n",
       "      <th>std</th>\n",
       "      <td>180091.585665</td>\n",
       "      <td>739.417819</td>\n",
       "      <td>11.00360</td>\n",
       "    </tr>\n",
       "    <tr>\n",
       "      <th>min</th>\n",
       "      <td>8.000000</td>\n",
       "      <td>0.000000</td>\n",
       "      <td>1932.00000</td>\n",
       "    </tr>\n",
       "    <tr>\n",
       "      <th>25%</th>\n",
       "      <td>154977.000000</td>\n",
       "      <td>6.850000</td>\n",
       "      <td>1969.00000</td>\n",
       "    </tr>\n",
       "    <tr>\n",
       "      <th>50%</th>\n",
       "      <td>315388.000000</td>\n",
       "      <td>11.450000</td>\n",
       "      <td>1979.00000</td>\n",
       "    </tr>\n",
       "    <tr>\n",
       "      <th>75%</th>\n",
       "      <td>468523.000000</td>\n",
       "      <td>20.066667</td>\n",
       "      <td>1985.00000</td>\n",
       "    </tr>\n",
       "    <tr>\n",
       "      <th>max</th>\n",
       "      <td>623517.000000</td>\n",
       "      <td>199907.633333</td>\n",
       "      <td>1995.00000</td>\n",
       "    </tr>\n",
       "  </tbody>\n",
       "</table>\n",
       "</div>"
      ],
      "text/plain": [
       "                  id       duration    birth_date\n",
       "count  552073.000000  552073.000000  352960.00000\n",
       "mean   312921.005660      28.249699    1976.29481\n",
       "std    180091.585665     739.417819      11.00360\n",
       "min         8.000000       0.000000    1932.00000\n",
       "25%    154977.000000       6.850000    1969.00000\n",
       "50%    315388.000000      11.450000    1979.00000\n",
       "75%    468523.000000      20.066667    1985.00000\n",
       "max    623517.000000  199907.633333    1995.00000"
      ]
     },
     "execution_count": 161,
     "metadata": {},
     "output_type": "execute_result"
    }
   ],
   "source": [
    "dataTrips.describe()"
   ]
  },
  {
   "cell_type": "markdown",
   "metadata": {},
   "source": [
    "Funciones cualquiera pueden ser aplicadas a cada elemento con la función `.apply(<funcion>)`"
   ]
  },
  {
   "cell_type": "code",
   "execution_count": 168,
   "metadata": {},
   "outputs": [],
   "source": [
    "def cuadrado(x):\n",
    "    return x*x"
   ]
  },
  {
   "cell_type": "code",
   "execution_count": 169,
   "metadata": {},
   "outputs": [
    {
     "data": {
      "text/plain": [
       "0         0.150000\n",
       "1         3.666667\n",
       "2         0.933333\n",
       "3         1.066667\n",
       "4         0.200000\n",
       "            ...   \n",
       "552068    8.783333\n",
       "552069    3.766667\n",
       "552070    8.916667\n",
       "552071    7.150000\n",
       "552072    3.316667\n",
       "Name: duration, Length: 552073, dtype: float64"
      ]
     },
     "execution_count": 169,
     "metadata": {},
     "output_type": "execute_result"
    }
   ],
   "source": [
    "dataTrips['duration']"
   ]
  },
  {
   "cell_type": "code",
   "execution_count": 170,
   "metadata": {},
   "outputs": [
    {
     "data": {
      "text/plain": [
       "0          0.022500\n",
       "1         13.444444\n",
       "2          0.871111\n",
       "3          1.137778\n",
       "4          0.040000\n",
       "            ...    \n",
       "552068    77.146944\n",
       "552069    14.187778\n",
       "552070    79.506944\n",
       "552071    51.122500\n",
       "552072    11.000278\n",
       "Name: duration, Length: 552073, dtype: float64"
      ]
     },
     "execution_count": 170,
     "metadata": {},
     "output_type": "execute_result"
    }
   ],
   "source": [
    "dataTrips['duration'].apply(cuadrado)"
   ]
  },
  {
   "cell_type": "code",
   "execution_count": 171,
   "metadata": {},
   "outputs": [
    {
     "data": {
      "text/plain": [
       "0          0.022500\n",
       "1         13.444444\n",
       "2          0.871111\n",
       "3          1.137778\n",
       "4          0.040000\n",
       "            ...    \n",
       "552068    77.146944\n",
       "552069    14.187778\n",
       "552070    79.506944\n",
       "552071    51.122500\n",
       "552072    11.000278\n",
       "Name: duration, Length: 552073, dtype: float64"
      ]
     },
     "execution_count": 171,
     "metadata": {},
     "output_type": "execute_result"
    }
   ],
   "source": [
    "dataTrips['duration'].apply(lambda x: x**2)"
   ]
  },
  {
   "cell_type": "markdown",
   "metadata": {},
   "source": [
    "Fijemonos que tenemos varias columnas con datos faltantes.  Algunos no son importantes (*zip_code*, *birth_date* para los usuarios no registrados) pero otros pueden ser errores (*start_station* y *end_station*).  Podemos eliminar las final con datos faltantes `NaN` usando las manipulaciones anteriores."
   ]
  },
  {
   "cell_type": "markdown",
   "metadata": {},
   "source": [
    "Por ejemplo, podemos ver si un dato es `NaN` o no, con el comando `isna()`.  Esto hay que aplicarlo sobre ***CADA*** registro de la columna, y con eso podemos filtrar los datos que queremos."
   ]
  },
  {
   "cell_type": "code",
   "execution_count": 182,
   "metadata": {},
   "outputs": [
    {
     "data": {
      "text/plain": [
       "45"
      ]
     },
     "execution_count": 182,
     "metadata": {},
     "output_type": "execute_result"
    }
   ],
   "source": [
    "sum(dataTrips['end_station'].isnull())"
   ]
  },
  {
   "cell_type": "code",
   "execution_count": 179,
   "metadata": {},
   "outputs": [
    {
     "data": {
      "text/html": [
       "<div>\n",
       "<style scoped>\n",
       "    .dataframe tbody tr th:only-of-type {\n",
       "        vertical-align: middle;\n",
       "    }\n",
       "\n",
       "    .dataframe tbody tr th {\n",
       "        vertical-align: top;\n",
       "    }\n",
       "\n",
       "    .dataframe thead th {\n",
       "        text-align: right;\n",
       "    }\n",
       "</style>\n",
       "<table border=\"1\" class=\"dataframe\">\n",
       "  <thead>\n",
       "    <tr style=\"text-align: right;\">\n",
       "      <th></th>\n",
       "      <th>id</th>\n",
       "      <th>duration</th>\n",
       "      <th>start_date</th>\n",
       "      <th>start_station</th>\n",
       "      <th>end_date</th>\n",
       "      <th>end_station</th>\n",
       "      <th>bike_nr</th>\n",
       "      <th>subscription_type</th>\n",
       "      <th>zip_code</th>\n",
       "      <th>birth_date</th>\n",
       "      <th>gender</th>\n",
       "    </tr>\n",
       "  </thead>\n",
       "  <tbody>\n",
       "    <tr>\n",
       "      <th>2312</th>\n",
       "      <td>2549</td>\n",
       "      <td>23.533333</td>\n",
       "      <td>2011-07-31 15:48:00.040</td>\n",
       "      <td>21.0</td>\n",
       "      <td>2011-07-31 16:12:00.040</td>\n",
       "      <td>NaN</td>\n",
       "      <td>B00427</td>\n",
       "      <td>Casual</td>\n",
       "      <td>NaN</td>\n",
       "      <td>NaN</td>\n",
       "      <td>NaN</td>\n",
       "    </tr>\n",
       "    <tr>\n",
       "      <th>8859</th>\n",
       "      <td>9726</td>\n",
       "      <td>177657.850000</td>\n",
       "      <td>2011-08-06 16:02:00.040</td>\n",
       "      <td>52.0</td>\n",
       "      <td>2011-12-08 00:00:00.050</td>\n",
       "      <td>NaN</td>\n",
       "      <td>B00137</td>\n",
       "      <td>Casual</td>\n",
       "      <td>NaN</td>\n",
       "      <td>NaN</td>\n",
       "      <td>NaN</td>\n",
       "    </tr>\n",
       "    <tr>\n",
       "      <th>14522</th>\n",
       "      <td>15931</td>\n",
       "      <td>169941.283333</td>\n",
       "      <td>2011-08-12 00:38:00.040</td>\n",
       "      <td>36.0</td>\n",
       "      <td>2011-12-08 00:00:00.050</td>\n",
       "      <td>NaN</td>\n",
       "      <td>B00542</td>\n",
       "      <td>Casual</td>\n",
       "      <td>NaN</td>\n",
       "      <td>NaN</td>\n",
       "      <td>NaN</td>\n",
       "    </tr>\n",
       "    <tr>\n",
       "      <th>17391</th>\n",
       "      <td>19168</td>\n",
       "      <td>20.900000</td>\n",
       "      <td>2011-08-13 19:14:00.040</td>\n",
       "      <td>39.0</td>\n",
       "      <td>2011-08-13 19:35:00.040</td>\n",
       "      <td>NaN</td>\n",
       "      <td>B00028</td>\n",
       "      <td>Casual</td>\n",
       "      <td>NaN</td>\n",
       "      <td>NaN</td>\n",
       "      <td>NaN</td>\n",
       "    </tr>\n",
       "    <tr>\n",
       "      <th>17417</th>\n",
       "      <td>19201</td>\n",
       "      <td>29.383333</td>\n",
       "      <td>2011-08-13 19:25:00.040</td>\n",
       "      <td>53.0</td>\n",
       "      <td>2011-08-13 19:55:00.040</td>\n",
       "      <td>NaN</td>\n",
       "      <td>B00526</td>\n",
       "      <td>Registered</td>\n",
       "      <td>2129</td>\n",
       "      <td>1981.0</td>\n",
       "      <td>Female</td>\n",
       "    </tr>\n",
       "    <tr>\n",
       "      <th>17418</th>\n",
       "      <td>19202</td>\n",
       "      <td>29.333333</td>\n",
       "      <td>2011-08-13 19:25:00.040</td>\n",
       "      <td>53.0</td>\n",
       "      <td>2011-08-13 19:55:00.040</td>\n",
       "      <td>NaN</td>\n",
       "      <td>B00178</td>\n",
       "      <td>Registered</td>\n",
       "      <td>2129</td>\n",
       "      <td>1980.0</td>\n",
       "      <td>Male</td>\n",
       "    </tr>\n",
       "    <tr>\n",
       "      <th>27081</th>\n",
       "      <td>30170</td>\n",
       "      <td>155675.883333</td>\n",
       "      <td>2011-08-21 22:24:00.040</td>\n",
       "      <td>35.0</td>\n",
       "      <td>2011-12-08 00:00:00.050</td>\n",
       "      <td>NaN</td>\n",
       "      <td>B00483</td>\n",
       "      <td>Casual</td>\n",
       "      <td>NaN</td>\n",
       "      <td>NaN</td>\n",
       "      <td>NaN</td>\n",
       "    </tr>\n",
       "    <tr>\n",
       "      <th>28396</th>\n",
       "      <td>31618</td>\n",
       "      <td>154337.116667</td>\n",
       "      <td>2011-08-22 20:42:00.040</td>\n",
       "      <td>24.0</td>\n",
       "      <td>2011-12-08 00:00:00.050</td>\n",
       "      <td>NaN</td>\n",
       "      <td>B00569</td>\n",
       "      <td>Casual</td>\n",
       "      <td>NaN</td>\n",
       "      <td>NaN</td>\n",
       "      <td>NaN</td>\n",
       "    </tr>\n",
       "    <tr>\n",
       "      <th>47735</th>\n",
       "      <td>54771</td>\n",
       "      <td>11.500000</td>\n",
       "      <td>2011-09-09 14:18:00.040</td>\n",
       "      <td>47.0</td>\n",
       "      <td>2011-09-09 14:30:00.040</td>\n",
       "      <td>NaN</td>\n",
       "      <td>? (0x67D8478F)</td>\n",
       "      <td>Casual</td>\n",
       "      <td>NaN</td>\n",
       "      <td>NaN</td>\n",
       "      <td>NaN</td>\n",
       "    </tr>\n",
       "    <tr>\n",
       "      <th>49934</th>\n",
       "      <td>57202</td>\n",
       "      <td>127094.000000</td>\n",
       "      <td>2011-09-10 18:45:00.040</td>\n",
       "      <td>32.0</td>\n",
       "      <td>2011-12-08 00:00:00.050</td>\n",
       "      <td>NaN</td>\n",
       "      <td>B00488</td>\n",
       "      <td>Casual</td>\n",
       "      <td>NaN</td>\n",
       "      <td>NaN</td>\n",
       "      <td>NaN</td>\n",
       "    </tr>\n",
       "    <tr>\n",
       "      <th>53928</th>\n",
       "      <td>61664</td>\n",
       "      <td>123171.516667</td>\n",
       "      <td>2011-09-13 12:08:00.040</td>\n",
       "      <td>36.0</td>\n",
       "      <td>2011-12-08 00:00:00.050</td>\n",
       "      <td>NaN</td>\n",
       "      <td>B00119</td>\n",
       "      <td>Casual</td>\n",
       "      <td>NaN</td>\n",
       "      <td>NaN</td>\n",
       "      <td>NaN</td>\n",
       "    </tr>\n",
       "    <tr>\n",
       "      <th>62892</th>\n",
       "      <td>71569</td>\n",
       "      <td>114341.233333</td>\n",
       "      <td>2011-09-19 15:18:00.040</td>\n",
       "      <td>42.0</td>\n",
       "      <td>2011-12-08 00:00:00.050</td>\n",
       "      <td>NaN</td>\n",
       "      <td>B00218</td>\n",
       "      <td>Casual</td>\n",
       "      <td>NaN</td>\n",
       "      <td>NaN</td>\n",
       "      <td>NaN</td>\n",
       "    </tr>\n",
       "    <tr>\n",
       "      <th>79147</th>\n",
       "      <td>89693</td>\n",
       "      <td>97114.116667</td>\n",
       "      <td>2011-10-01 14:25:00.040</td>\n",
       "      <td>42.0</td>\n",
       "      <td>2011-12-08 00:00:00.050</td>\n",
       "      <td>NaN</td>\n",
       "      <td>B00470</td>\n",
       "      <td>Casual</td>\n",
       "      <td>NaN</td>\n",
       "      <td>NaN</td>\n",
       "      <td>NaN</td>\n",
       "    </tr>\n",
       "    <tr>\n",
       "      <th>89333</th>\n",
       "      <td>101036</td>\n",
       "      <td>86312.083333</td>\n",
       "      <td>2011-10-09 02:27:00.040</td>\n",
       "      <td>49.0</td>\n",
       "      <td>2011-12-08 00:00:00.050</td>\n",
       "      <td>NaN</td>\n",
       "      <td>B00273</td>\n",
       "      <td>Casual</td>\n",
       "      <td>NaN</td>\n",
       "      <td>NaN</td>\n",
       "      <td>NaN</td>\n",
       "    </tr>\n",
       "    <tr>\n",
       "      <th>109702</th>\n",
       "      <td>123700</td>\n",
       "      <td>64140.150000</td>\n",
       "      <td>2011-10-24 11:59:00.040</td>\n",
       "      <td>36.0</td>\n",
       "      <td>2011-12-08 00:00:00.050</td>\n",
       "      <td>NaN</td>\n",
       "      <td>B00405</td>\n",
       "      <td>Registered</td>\n",
       "      <td>02186</td>\n",
       "      <td>1971.0</td>\n",
       "      <td>Male</td>\n",
       "    </tr>\n",
       "    <tr>\n",
       "      <th>123173</th>\n",
       "      <td>138535</td>\n",
       "      <td>42614.150000</td>\n",
       "      <td>2011-11-08 09:45:00.050</td>\n",
       "      <td>20.0</td>\n",
       "      <td>2011-12-08 00:00:00.050</td>\n",
       "      <td>NaN</td>\n",
       "      <td>B00261</td>\n",
       "      <td>Casual</td>\n",
       "      <td>NaN</td>\n",
       "      <td>NaN</td>\n",
       "      <td>NaN</td>\n",
       "    </tr>\n",
       "    <tr>\n",
       "      <th>140610</th>\n",
       "      <td>157775</td>\n",
       "      <td>5.433333</td>\n",
       "      <td>2012-03-15 09:27:00.040</td>\n",
       "      <td>16.0</td>\n",
       "      <td>2012-03-15 09:33:00.040</td>\n",
       "      <td>NaN</td>\n",
       "      <td>B00139</td>\n",
       "      <td>Registered</td>\n",
       "      <td>02465</td>\n",
       "      <td>1953.0</td>\n",
       "      <td>Male</td>\n",
       "    </tr>\n",
       "    <tr>\n",
       "      <th>152607</th>\n",
       "      <td>172567</td>\n",
       "      <td>7.716667</td>\n",
       "      <td>2012-03-29 11:59:00.040</td>\n",
       "      <td>48.0</td>\n",
       "      <td>2012-03-29 12:07:00.040</td>\n",
       "      <td>NaN</td>\n",
       "      <td>B00102</td>\n",
       "      <td>Registered</td>\n",
       "      <td>02109</td>\n",
       "      <td>1985.0</td>\n",
       "      <td>Female</td>\n",
       "    </tr>\n",
       "    <tr>\n",
       "      <th>155141</th>\n",
       "      <td>175582</td>\n",
       "      <td>22.766667</td>\n",
       "      <td>2012-04-01 10:37:00.040</td>\n",
       "      <td>38.0</td>\n",
       "      <td>2012-04-01 11:00:00.040</td>\n",
       "      <td>NaN</td>\n",
       "      <td>B00082</td>\n",
       "      <td>Casual</td>\n",
       "      <td>NaN</td>\n",
       "      <td>NaN</td>\n",
       "      <td>NaN</td>\n",
       "    </tr>\n",
       "    <tr>\n",
       "      <th>155165</th>\n",
       "      <td>175615</td>\n",
       "      <td>1.866667</td>\n",
       "      <td>2012-04-01 10:58:00.040</td>\n",
       "      <td>4.0</td>\n",
       "      <td>2012-04-01 11:00:00.040</td>\n",
       "      <td>NaN</td>\n",
       "      <td>B00234</td>\n",
       "      <td>Registered</td>\n",
       "      <td>02118</td>\n",
       "      <td>1987.0</td>\n",
       "      <td>Female</td>\n",
       "    </tr>\n",
       "    <tr>\n",
       "      <th>155303</th>\n",
       "      <td>175800</td>\n",
       "      <td>12.966667</td>\n",
       "      <td>2012-04-01 12:47:00.040</td>\n",
       "      <td>24.0</td>\n",
       "      <td>2012-04-01 13:00:00.040</td>\n",
       "      <td>NaN</td>\n",
       "      <td>B00153</td>\n",
       "      <td>Casual</td>\n",
       "      <td>NaN</td>\n",
       "      <td>NaN</td>\n",
       "      <td>NaN</td>\n",
       "    </tr>\n",
       "    <tr>\n",
       "      <th>155306</th>\n",
       "      <td>175804</td>\n",
       "      <td>11.383333</td>\n",
       "      <td>2012-04-01 12:48:00.040</td>\n",
       "      <td>24.0</td>\n",
       "      <td>2012-04-01 13:00:00.040</td>\n",
       "      <td>NaN</td>\n",
       "      <td>B00313</td>\n",
       "      <td>Casual</td>\n",
       "      <td>NaN</td>\n",
       "      <td>NaN</td>\n",
       "      <td>NaN</td>\n",
       "    </tr>\n",
       "    <tr>\n",
       "      <th>258169</th>\n",
       "      <td>295244</td>\n",
       "      <td>16.900000</td>\n",
       "      <td>2012-06-05 13:44:00.040</td>\n",
       "      <td>54.0</td>\n",
       "      <td>2012-06-05 14:01:00.040</td>\n",
       "      <td>NaN</td>\n",
       "      <td>B00611</td>\n",
       "      <td>Casual</td>\n",
       "      <td>NaN</td>\n",
       "      <td>NaN</td>\n",
       "      <td>NaN</td>\n",
       "    </tr>\n",
       "    <tr>\n",
       "      <th>397936</th>\n",
       "      <td>450219</td>\n",
       "      <td>11.416667</td>\n",
       "      <td>2012-08-08 11:08:00.040</td>\n",
       "      <td>74.0</td>\n",
       "      <td>2012-08-08 11:20:00.040</td>\n",
       "      <td>NaN</td>\n",
       "      <td>B00057</td>\n",
       "      <td>Registered</td>\n",
       "      <td>02476</td>\n",
       "      <td>1958.0</td>\n",
       "      <td>Female</td>\n",
       "    </tr>\n",
       "    <tr>\n",
       "      <th>461122</th>\n",
       "      <td>521516</td>\n",
       "      <td>6.650000</td>\n",
       "      <td>2012-08-30 17:24:00.040</td>\n",
       "      <td>NaN</td>\n",
       "      <td>2012-08-30 17:31:00.040</td>\n",
       "      <td>NaN</td>\n",
       "      <td>T01124</td>\n",
       "      <td>Registered</td>\n",
       "      <td>02141</td>\n",
       "      <td>1985.0</td>\n",
       "      <td>Male</td>\n",
       "    </tr>\n",
       "    <tr>\n",
       "      <th>463503</th>\n",
       "      <td>524144</td>\n",
       "      <td>12.750000</td>\n",
       "      <td>2012-08-31 14:10:00.040</td>\n",
       "      <td>90.0</td>\n",
       "      <td>2012-08-31 14:23:00.040</td>\n",
       "      <td>NaN</td>\n",
       "      <td>B00095</td>\n",
       "      <td>Registered</td>\n",
       "      <td>02141</td>\n",
       "      <td>1985.0</td>\n",
       "      <td>Male</td>\n",
       "    </tr>\n",
       "    <tr>\n",
       "      <th>464516</th>\n",
       "      <td>525251</td>\n",
       "      <td>15.483333</td>\n",
       "      <td>2012-08-31 18:39:00.040</td>\n",
       "      <td>38.0</td>\n",
       "      <td>2012-08-31 18:55:00.040</td>\n",
       "      <td>NaN</td>\n",
       "      <td>B00625</td>\n",
       "      <td>Registered</td>\n",
       "      <td>02130</td>\n",
       "      <td>NaN</td>\n",
       "      <td>Male</td>\n",
       "    </tr>\n",
       "    <tr>\n",
       "      <th>474598</th>\n",
       "      <td>536471</td>\n",
       "      <td>9.583333</td>\n",
       "      <td>2012-09-04 14:57:00.040</td>\n",
       "      <td>NaN</td>\n",
       "      <td>2012-09-04 15:07:00.040</td>\n",
       "      <td>NaN</td>\n",
       "      <td>B00514</td>\n",
       "      <td>Registered</td>\n",
       "      <td>02134</td>\n",
       "      <td>1986.0</td>\n",
       "      <td>Male</td>\n",
       "    </tr>\n",
       "    <tr>\n",
       "      <th>475288</th>\n",
       "      <td>537218</td>\n",
       "      <td>787.433333</td>\n",
       "      <td>2012-09-04 21:13:00.040</td>\n",
       "      <td>42.0</td>\n",
       "      <td>2012-09-05 10:20:00.040</td>\n",
       "      <td>NaN</td>\n",
       "      <td>B00505</td>\n",
       "      <td>Registered</td>\n",
       "      <td>02114</td>\n",
       "      <td>1984.0</td>\n",
       "      <td>Female</td>\n",
       "    </tr>\n",
       "    <tr>\n",
       "      <th>475934</th>\n",
       "      <td>537923</td>\n",
       "      <td>7244.966667</td>\n",
       "      <td>2012-09-05 12:38:00.040</td>\n",
       "      <td>31.0</td>\n",
       "      <td>2012-09-10 13:23:00.040</td>\n",
       "      <td>NaN</td>\n",
       "      <td>B00071</td>\n",
       "      <td>Registered</td>\n",
       "      <td>02135</td>\n",
       "      <td>1978.0</td>\n",
       "      <td>Female</td>\n",
       "    </tr>\n",
       "    <tr>\n",
       "      <th>476042</th>\n",
       "      <td>538039</td>\n",
       "      <td>51.433333</td>\n",
       "      <td>2012-09-05 13:50:00.040</td>\n",
       "      <td>NaN</td>\n",
       "      <td>2012-09-05 14:41:00.040</td>\n",
       "      <td>NaN</td>\n",
       "      <td>B00267</td>\n",
       "      <td>Registered</td>\n",
       "      <td>02134</td>\n",
       "      <td>1986.0</td>\n",
       "      <td>Male</td>\n",
       "    </tr>\n",
       "    <tr>\n",
       "      <th>478421</th>\n",
       "      <td>540722</td>\n",
       "      <td>1688.283333</td>\n",
       "      <td>2012-09-06 10:10:00.040</td>\n",
       "      <td>NaN</td>\n",
       "      <td>2012-09-07 14:18:00.040</td>\n",
       "      <td>NaN</td>\n",
       "      <td>B00267</td>\n",
       "      <td>Registered</td>\n",
       "      <td>02141</td>\n",
       "      <td>1985.0</td>\n",
       "      <td>Male</td>\n",
       "    </tr>\n",
       "    <tr>\n",
       "      <th>479086</th>\n",
       "      <td>541453</td>\n",
       "      <td>10.300000</td>\n",
       "      <td>2012-09-06 15:11:00.040</td>\n",
       "      <td>NaN</td>\n",
       "      <td>2012-09-06 15:22:00.040</td>\n",
       "      <td>NaN</td>\n",
       "      <td>B00206</td>\n",
       "      <td>Registered</td>\n",
       "      <td>02134</td>\n",
       "      <td>1986.0</td>\n",
       "      <td>Male</td>\n",
       "    </tr>\n",
       "    <tr>\n",
       "      <th>487631</th>\n",
       "      <td>551171</td>\n",
       "      <td>5.816667</td>\n",
       "      <td>2012-09-09 16:23:00.040</td>\n",
       "      <td>88.0</td>\n",
       "      <td>2012-09-09 16:29:00.040</td>\n",
       "      <td>NaN</td>\n",
       "      <td>B00413</td>\n",
       "      <td>Casual</td>\n",
       "      <td>NaN</td>\n",
       "      <td>NaN</td>\n",
       "      <td>NaN</td>\n",
       "    </tr>\n",
       "    <tr>\n",
       "      <th>489115</th>\n",
       "      <td>552819</td>\n",
       "      <td>21.600000</td>\n",
       "      <td>2012-09-10 08:30:00.040</td>\n",
       "      <td>18.0</td>\n",
       "      <td>2012-09-10 08:51:00.040</td>\n",
       "      <td>NaN</td>\n",
       "      <td>T01195</td>\n",
       "      <td>Registered</td>\n",
       "      <td>02134</td>\n",
       "      <td>1986.0</td>\n",
       "      <td>Male</td>\n",
       "    </tr>\n",
       "    <tr>\n",
       "      <th>494822</th>\n",
       "      <td>559232</td>\n",
       "      <td>2064.116667</td>\n",
       "      <td>2012-09-11 22:43:00.040</td>\n",
       "      <td>91.0</td>\n",
       "      <td>2012-09-13 09:07:00.040</td>\n",
       "      <td>NaN</td>\n",
       "      <td>B00607</td>\n",
       "      <td>Registered</td>\n",
       "      <td>02141</td>\n",
       "      <td>1985.0</td>\n",
       "      <td>Male</td>\n",
       "    </tr>\n",
       "    <tr>\n",
       "      <th>498726</th>\n",
       "      <td>563628</td>\n",
       "      <td>344.683333</td>\n",
       "      <td>2012-09-13 08:12:00.040</td>\n",
       "      <td>25.0</td>\n",
       "      <td>2012-09-13 13:57:00.040</td>\n",
       "      <td>NaN</td>\n",
       "      <td>T01277</td>\n",
       "      <td>Registered</td>\n",
       "      <td>02215</td>\n",
       "      <td>1984.0</td>\n",
       "      <td>Male</td>\n",
       "    </tr>\n",
       "    <tr>\n",
       "      <th>511929</th>\n",
       "      <td>578554</td>\n",
       "      <td>8.416667</td>\n",
       "      <td>2012-09-17 08:48:00.040</td>\n",
       "      <td>98.0</td>\n",
       "      <td>2012-09-17 08:56:00.040</td>\n",
       "      <td>NaN</td>\n",
       "      <td>B00397</td>\n",
       "      <td>Registered</td>\n",
       "      <td>70065</td>\n",
       "      <td>1988.0</td>\n",
       "      <td>Male</td>\n",
       "    </tr>\n",
       "    <tr>\n",
       "      <th>521043</th>\n",
       "      <td>588616</td>\n",
       "      <td>8.166667</td>\n",
       "      <td>2012-09-20 08:45:00.040</td>\n",
       "      <td>98.0</td>\n",
       "      <td>2012-09-20 08:53:00.040</td>\n",
       "      <td>NaN</td>\n",
       "      <td>T01217</td>\n",
       "      <td>Registered</td>\n",
       "      <td>70065</td>\n",
       "      <td>1988.0</td>\n",
       "      <td>Male</td>\n",
       "    </tr>\n",
       "    <tr>\n",
       "      <th>521966</th>\n",
       "      <td>589644</td>\n",
       "      <td>5852.533333</td>\n",
       "      <td>2012-09-20 14:28:00.040</td>\n",
       "      <td>22.0</td>\n",
       "      <td>2012-09-24 16:01:00.040</td>\n",
       "      <td>NaN</td>\n",
       "      <td>B00157</td>\n",
       "      <td>Casual</td>\n",
       "      <td>NaN</td>\n",
       "      <td>NaN</td>\n",
       "      <td>NaN</td>\n",
       "    </tr>\n",
       "    <tr>\n",
       "      <th>524955</th>\n",
       "      <td>592950</td>\n",
       "      <td>0.133333</td>\n",
       "      <td>2012-09-21 13:30:00.040</td>\n",
       "      <td>NaN</td>\n",
       "      <td>2012-09-21 13:30:00.040</td>\n",
       "      <td>NaN</td>\n",
       "      <td>B00456</td>\n",
       "      <td>Registered</td>\n",
       "      <td>97214</td>\n",
       "      <td>NaN</td>\n",
       "      <td>Male</td>\n",
       "    </tr>\n",
       "    <tr>\n",
       "      <th>527040</th>\n",
       "      <td>595290</td>\n",
       "      <td>33.133333</td>\n",
       "      <td>2012-09-22 08:36:00.040</td>\n",
       "      <td>57.0</td>\n",
       "      <td>2012-09-22 09:09:00.040</td>\n",
       "      <td>NaN</td>\n",
       "      <td>B00347</td>\n",
       "      <td>Registered</td>\n",
       "      <td>20912</td>\n",
       "      <td>1988.0</td>\n",
       "      <td>Male</td>\n",
       "    </tr>\n",
       "    <tr>\n",
       "      <th>533037</th>\n",
       "      <td>602091</td>\n",
       "      <td>9.766667</td>\n",
       "      <td>2012-09-24 08:46:00.040</td>\n",
       "      <td>98.0</td>\n",
       "      <td>2012-09-24 08:56:00.040</td>\n",
       "      <td>NaN</td>\n",
       "      <td>T01119</td>\n",
       "      <td>Registered</td>\n",
       "      <td>70065</td>\n",
       "      <td>1988.0</td>\n",
       "      <td>Male</td>\n",
       "    </tr>\n",
       "    <tr>\n",
       "      <th>537326</th>\n",
       "      <td>606913</td>\n",
       "      <td>0.066667</td>\n",
       "      <td>2012-09-25 16:12:00.040</td>\n",
       "      <td>NaN</td>\n",
       "      <td>2012-09-25 16:12:00.040</td>\n",
       "      <td>NaN</td>\n",
       "      <td>T01168</td>\n",
       "      <td>Registered</td>\n",
       "      <td>97214</td>\n",
       "      <td>NaN</td>\n",
       "      <td>Male</td>\n",
       "    </tr>\n",
       "    <tr>\n",
       "      <th>539896</th>\n",
       "      <td>609840</td>\n",
       "      <td>5.983333</td>\n",
       "      <td>2012-09-26 12:26:00.040</td>\n",
       "      <td>94.0</td>\n",
       "      <td>2012-09-26 12:32:00.040</td>\n",
       "      <td>NaN</td>\n",
       "      <td>B00456</td>\n",
       "      <td>Registered</td>\n",
       "      <td>20912</td>\n",
       "      <td>1988.0</td>\n",
       "      <td>Male</td>\n",
       "    </tr>\n",
       "  </tbody>\n",
       "</table>\n",
       "</div>"
      ],
      "text/plain": [
       "            id       duration              start_date start_station  \\\n",
       "2312      2549      23.533333 2011-07-31 15:48:00.040          21.0   \n",
       "8859      9726  177657.850000 2011-08-06 16:02:00.040          52.0   \n",
       "14522    15931  169941.283333 2011-08-12 00:38:00.040          36.0   \n",
       "17391    19168      20.900000 2011-08-13 19:14:00.040          39.0   \n",
       "17417    19201      29.383333 2011-08-13 19:25:00.040          53.0   \n",
       "17418    19202      29.333333 2011-08-13 19:25:00.040          53.0   \n",
       "27081    30170  155675.883333 2011-08-21 22:24:00.040          35.0   \n",
       "28396    31618  154337.116667 2011-08-22 20:42:00.040          24.0   \n",
       "47735    54771      11.500000 2011-09-09 14:18:00.040          47.0   \n",
       "49934    57202  127094.000000 2011-09-10 18:45:00.040          32.0   \n",
       "53928    61664  123171.516667 2011-09-13 12:08:00.040          36.0   \n",
       "62892    71569  114341.233333 2011-09-19 15:18:00.040          42.0   \n",
       "79147    89693   97114.116667 2011-10-01 14:25:00.040          42.0   \n",
       "89333   101036   86312.083333 2011-10-09 02:27:00.040          49.0   \n",
       "109702  123700   64140.150000 2011-10-24 11:59:00.040          36.0   \n",
       "123173  138535   42614.150000 2011-11-08 09:45:00.050          20.0   \n",
       "140610  157775       5.433333 2012-03-15 09:27:00.040          16.0   \n",
       "152607  172567       7.716667 2012-03-29 11:59:00.040          48.0   \n",
       "155141  175582      22.766667 2012-04-01 10:37:00.040          38.0   \n",
       "155165  175615       1.866667 2012-04-01 10:58:00.040           4.0   \n",
       "155303  175800      12.966667 2012-04-01 12:47:00.040          24.0   \n",
       "155306  175804      11.383333 2012-04-01 12:48:00.040          24.0   \n",
       "258169  295244      16.900000 2012-06-05 13:44:00.040          54.0   \n",
       "397936  450219      11.416667 2012-08-08 11:08:00.040          74.0   \n",
       "461122  521516       6.650000 2012-08-30 17:24:00.040           NaN   \n",
       "463503  524144      12.750000 2012-08-31 14:10:00.040          90.0   \n",
       "464516  525251      15.483333 2012-08-31 18:39:00.040          38.0   \n",
       "474598  536471       9.583333 2012-09-04 14:57:00.040           NaN   \n",
       "475288  537218     787.433333 2012-09-04 21:13:00.040          42.0   \n",
       "475934  537923    7244.966667 2012-09-05 12:38:00.040          31.0   \n",
       "476042  538039      51.433333 2012-09-05 13:50:00.040           NaN   \n",
       "478421  540722    1688.283333 2012-09-06 10:10:00.040           NaN   \n",
       "479086  541453      10.300000 2012-09-06 15:11:00.040           NaN   \n",
       "487631  551171       5.816667 2012-09-09 16:23:00.040          88.0   \n",
       "489115  552819      21.600000 2012-09-10 08:30:00.040          18.0   \n",
       "494822  559232    2064.116667 2012-09-11 22:43:00.040          91.0   \n",
       "498726  563628     344.683333 2012-09-13 08:12:00.040          25.0   \n",
       "511929  578554       8.416667 2012-09-17 08:48:00.040          98.0   \n",
       "521043  588616       8.166667 2012-09-20 08:45:00.040          98.0   \n",
       "521966  589644    5852.533333 2012-09-20 14:28:00.040          22.0   \n",
       "524955  592950       0.133333 2012-09-21 13:30:00.040           NaN   \n",
       "527040  595290      33.133333 2012-09-22 08:36:00.040          57.0   \n",
       "533037  602091       9.766667 2012-09-24 08:46:00.040          98.0   \n",
       "537326  606913       0.066667 2012-09-25 16:12:00.040           NaN   \n",
       "539896  609840       5.983333 2012-09-26 12:26:00.040          94.0   \n",
       "\n",
       "                      end_date end_station         bike_nr subscription_type  \\\n",
       "2312   2011-07-31 16:12:00.040         NaN          B00427            Casual   \n",
       "8859   2011-12-08 00:00:00.050         NaN          B00137            Casual   \n",
       "14522  2011-12-08 00:00:00.050         NaN          B00542            Casual   \n",
       "17391  2011-08-13 19:35:00.040         NaN          B00028            Casual   \n",
       "17417  2011-08-13 19:55:00.040         NaN          B00526        Registered   \n",
       "17418  2011-08-13 19:55:00.040         NaN          B00178        Registered   \n",
       "27081  2011-12-08 00:00:00.050         NaN          B00483            Casual   \n",
       "28396  2011-12-08 00:00:00.050         NaN          B00569            Casual   \n",
       "47735  2011-09-09 14:30:00.040         NaN  ? (0x67D8478F)            Casual   \n",
       "49934  2011-12-08 00:00:00.050         NaN          B00488            Casual   \n",
       "53928  2011-12-08 00:00:00.050         NaN          B00119            Casual   \n",
       "62892  2011-12-08 00:00:00.050         NaN          B00218            Casual   \n",
       "79147  2011-12-08 00:00:00.050         NaN          B00470            Casual   \n",
       "89333  2011-12-08 00:00:00.050         NaN          B00273            Casual   \n",
       "109702 2011-12-08 00:00:00.050         NaN          B00405        Registered   \n",
       "123173 2011-12-08 00:00:00.050         NaN          B00261            Casual   \n",
       "140610 2012-03-15 09:33:00.040         NaN          B00139        Registered   \n",
       "152607 2012-03-29 12:07:00.040         NaN          B00102        Registered   \n",
       "155141 2012-04-01 11:00:00.040         NaN          B00082            Casual   \n",
       "155165 2012-04-01 11:00:00.040         NaN          B00234        Registered   \n",
       "155303 2012-04-01 13:00:00.040         NaN          B00153            Casual   \n",
       "155306 2012-04-01 13:00:00.040         NaN          B00313            Casual   \n",
       "258169 2012-06-05 14:01:00.040         NaN          B00611            Casual   \n",
       "397936 2012-08-08 11:20:00.040         NaN          B00057        Registered   \n",
       "461122 2012-08-30 17:31:00.040         NaN          T01124        Registered   \n",
       "463503 2012-08-31 14:23:00.040         NaN          B00095        Registered   \n",
       "464516 2012-08-31 18:55:00.040         NaN          B00625        Registered   \n",
       "474598 2012-09-04 15:07:00.040         NaN          B00514        Registered   \n",
       "475288 2012-09-05 10:20:00.040         NaN          B00505        Registered   \n",
       "475934 2012-09-10 13:23:00.040         NaN          B00071        Registered   \n",
       "476042 2012-09-05 14:41:00.040         NaN          B00267        Registered   \n",
       "478421 2012-09-07 14:18:00.040         NaN          B00267        Registered   \n",
       "479086 2012-09-06 15:22:00.040         NaN          B00206        Registered   \n",
       "487631 2012-09-09 16:29:00.040         NaN          B00413            Casual   \n",
       "489115 2012-09-10 08:51:00.040         NaN          T01195        Registered   \n",
       "494822 2012-09-13 09:07:00.040         NaN          B00607        Registered   \n",
       "498726 2012-09-13 13:57:00.040         NaN          T01277        Registered   \n",
       "511929 2012-09-17 08:56:00.040         NaN          B00397        Registered   \n",
       "521043 2012-09-20 08:53:00.040         NaN          T01217        Registered   \n",
       "521966 2012-09-24 16:01:00.040         NaN          B00157            Casual   \n",
       "524955 2012-09-21 13:30:00.040         NaN          B00456        Registered   \n",
       "527040 2012-09-22 09:09:00.040         NaN          B00347        Registered   \n",
       "533037 2012-09-24 08:56:00.040         NaN          T01119        Registered   \n",
       "537326 2012-09-25 16:12:00.040         NaN          T01168        Registered   \n",
       "539896 2012-09-26 12:32:00.040         NaN          B00456        Registered   \n",
       "\n",
       "       zip_code  birth_date  gender  \n",
       "2312        NaN         NaN     NaN  \n",
       "8859        NaN         NaN     NaN  \n",
       "14522       NaN         NaN     NaN  \n",
       "17391       NaN         NaN     NaN  \n",
       "17417      2129      1981.0  Female  \n",
       "17418      2129      1980.0    Male  \n",
       "27081       NaN         NaN     NaN  \n",
       "28396       NaN         NaN     NaN  \n",
       "47735       NaN         NaN     NaN  \n",
       "49934       NaN         NaN     NaN  \n",
       "53928       NaN         NaN     NaN  \n",
       "62892       NaN         NaN     NaN  \n",
       "79147       NaN         NaN     NaN  \n",
       "89333       NaN         NaN     NaN  \n",
       "109702    02186      1971.0    Male  \n",
       "123173      NaN         NaN     NaN  \n",
       "140610    02465      1953.0    Male  \n",
       "152607    02109      1985.0  Female  \n",
       "155141      NaN         NaN     NaN  \n",
       "155165    02118      1987.0  Female  \n",
       "155303      NaN         NaN     NaN  \n",
       "155306      NaN         NaN     NaN  \n",
       "258169      NaN         NaN     NaN  \n",
       "397936    02476      1958.0  Female  \n",
       "461122    02141      1985.0    Male  \n",
       "463503    02141      1985.0    Male  \n",
       "464516    02130         NaN    Male  \n",
       "474598    02134      1986.0    Male  \n",
       "475288    02114      1984.0  Female  \n",
       "475934    02135      1978.0  Female  \n",
       "476042    02134      1986.0    Male  \n",
       "478421    02141      1985.0    Male  \n",
       "479086    02134      1986.0    Male  \n",
       "487631      NaN         NaN     NaN  \n",
       "489115    02134      1986.0    Male  \n",
       "494822    02141      1985.0    Male  \n",
       "498726    02215      1984.0    Male  \n",
       "511929    70065      1988.0    Male  \n",
       "521043    70065      1988.0    Male  \n",
       "521966      NaN         NaN     NaN  \n",
       "524955    97214         NaN    Male  \n",
       "527040    20912      1988.0    Male  \n",
       "533037    70065      1988.0    Male  \n",
       "537326    97214         NaN    Male  \n",
       "539896    20912      1988.0    Male  "
      ]
     },
     "execution_count": 179,
     "metadata": {},
     "output_type": "execute_result"
    }
   ],
   "source": [
    "dataTrips[dataTrips['end_station'].isnull()]"
   ]
  },
  {
   "cell_type": "code",
   "execution_count": 187,
   "metadata": {
    "scrolled": true
   },
   "outputs": [],
   "source": [
    "finalData = dataTrips.dropna(subset=['start_station', 'end_station'])"
   ]
  },
  {
   "cell_type": "code",
   "execution_count": 188,
   "metadata": {
    "scrolled": true
   },
   "outputs": [
    {
     "data": {
      "text/html": [
       "<div>\n",
       "<style scoped>\n",
       "    .dataframe tbody tr th:only-of-type {\n",
       "        vertical-align: middle;\n",
       "    }\n",
       "\n",
       "    .dataframe tbody tr th {\n",
       "        vertical-align: top;\n",
       "    }\n",
       "\n",
       "    .dataframe thead th {\n",
       "        text-align: right;\n",
       "    }\n",
       "</style>\n",
       "<table border=\"1\" class=\"dataframe\">\n",
       "  <thead>\n",
       "    <tr style=\"text-align: right;\">\n",
       "      <th></th>\n",
       "      <th>id</th>\n",
       "      <th>duration</th>\n",
       "      <th>start_date</th>\n",
       "      <th>start_station</th>\n",
       "      <th>end_date</th>\n",
       "      <th>end_station</th>\n",
       "      <th>bike_nr</th>\n",
       "      <th>subscription_type</th>\n",
       "      <th>zip_code</th>\n",
       "      <th>birth_date</th>\n",
       "      <th>gender</th>\n",
       "    </tr>\n",
       "  </thead>\n",
       "  <tbody>\n",
       "    <tr>\n",
       "      <th>0</th>\n",
       "      <td>8</td>\n",
       "      <td>0.150000</td>\n",
       "      <td>2011-07-28 10:12:00.040</td>\n",
       "      <td>23.0</td>\n",
       "      <td>2011-07-28 10:12:00.040</td>\n",
       "      <td>23.0</td>\n",
       "      <td>B00468</td>\n",
       "      <td>Registered</td>\n",
       "      <td>97217</td>\n",
       "      <td>1976.0</td>\n",
       "      <td>Male</td>\n",
       "    </tr>\n",
       "    <tr>\n",
       "      <th>1</th>\n",
       "      <td>9</td>\n",
       "      <td>3.666667</td>\n",
       "      <td>2011-07-28 10:21:00.040</td>\n",
       "      <td>23.0</td>\n",
       "      <td>2011-07-28 10:25:00.040</td>\n",
       "      <td>23.0</td>\n",
       "      <td>B00554</td>\n",
       "      <td>Registered</td>\n",
       "      <td>2215</td>\n",
       "      <td>1966.0</td>\n",
       "      <td>Male</td>\n",
       "    </tr>\n",
       "    <tr>\n",
       "      <th>2</th>\n",
       "      <td>10</td>\n",
       "      <td>0.933333</td>\n",
       "      <td>2011-07-28 10:33:00.040</td>\n",
       "      <td>23.0</td>\n",
       "      <td>2011-07-28 10:34:00.040</td>\n",
       "      <td>23.0</td>\n",
       "      <td>B00456</td>\n",
       "      <td>Registered</td>\n",
       "      <td>2108</td>\n",
       "      <td>1943.0</td>\n",
       "      <td>Male</td>\n",
       "    </tr>\n",
       "    <tr>\n",
       "      <th>3</th>\n",
       "      <td>11</td>\n",
       "      <td>1.066667</td>\n",
       "      <td>2011-07-28 10:35:00.040</td>\n",
       "      <td>23.0</td>\n",
       "      <td>2011-07-28 10:36:00.040</td>\n",
       "      <td>23.0</td>\n",
       "      <td>B00554</td>\n",
       "      <td>Registered</td>\n",
       "      <td>2116</td>\n",
       "      <td>1981.0</td>\n",
       "      <td>Female</td>\n",
       "    </tr>\n",
       "    <tr>\n",
       "      <th>4</th>\n",
       "      <td>12</td>\n",
       "      <td>0.200000</td>\n",
       "      <td>2011-07-28 10:37:00.040</td>\n",
       "      <td>23.0</td>\n",
       "      <td>2011-07-28 10:37:00.040</td>\n",
       "      <td>23.0</td>\n",
       "      <td>B00554</td>\n",
       "      <td>Registered</td>\n",
       "      <td>97214</td>\n",
       "      <td>1983.0</td>\n",
       "      <td>Female</td>\n",
       "    </tr>\n",
       "    <tr>\n",
       "      <th>...</th>\n",
       "      <td>...</td>\n",
       "      <td>...</td>\n",
       "      <td>...</td>\n",
       "      <td>...</td>\n",
       "      <td>...</td>\n",
       "      <td>...</td>\n",
       "      <td>...</td>\n",
       "      <td>...</td>\n",
       "      <td>...</td>\n",
       "      <td>...</td>\n",
       "      <td>...</td>\n",
       "    </tr>\n",
       "    <tr>\n",
       "      <th>552068</th>\n",
       "      <td>623507</td>\n",
       "      <td>8.783333</td>\n",
       "      <td>2012-10-01 20:24:00.040</td>\n",
       "      <td>46.0</td>\n",
       "      <td>2012-10-01 20:32:00.040</td>\n",
       "      <td>67.0</td>\n",
       "      <td>B00486</td>\n",
       "      <td>Casual</td>\n",
       "      <td>NaN</td>\n",
       "      <td>NaN</td>\n",
       "      <td>NaN</td>\n",
       "    </tr>\n",
       "    <tr>\n",
       "      <th>552069</th>\n",
       "      <td>623508</td>\n",
       "      <td>3.766667</td>\n",
       "      <td>2012-10-01 20:24:00.040</td>\n",
       "      <td>25.0</td>\n",
       "      <td>2012-10-01 20:28:00.040</td>\n",
       "      <td>26.0</td>\n",
       "      <td>B00170</td>\n",
       "      <td>Registered</td>\n",
       "      <td>02118</td>\n",
       "      <td>1986.0</td>\n",
       "      <td>Male</td>\n",
       "    </tr>\n",
       "    <tr>\n",
       "      <th>552070</th>\n",
       "      <td>623509</td>\n",
       "      <td>8.916667</td>\n",
       "      <td>2012-10-01 20:25:00.040</td>\n",
       "      <td>16.0</td>\n",
       "      <td>2012-10-01 20:34:00.040</td>\n",
       "      <td>47.0</td>\n",
       "      <td>T01067</td>\n",
       "      <td>Registered</td>\n",
       "      <td>02113</td>\n",
       "      <td>1965.0</td>\n",
       "      <td>Male</td>\n",
       "    </tr>\n",
       "    <tr>\n",
       "      <th>552071</th>\n",
       "      <td>623512</td>\n",
       "      <td>7.150000</td>\n",
       "      <td>2012-10-01 20:29:00.040</td>\n",
       "      <td>61.0</td>\n",
       "      <td>2012-10-01 20:36:00.040</td>\n",
       "      <td>33.0</td>\n",
       "      <td>B00621</td>\n",
       "      <td>Registered</td>\n",
       "      <td>02135</td>\n",
       "      <td>1986.0</td>\n",
       "      <td>Male</td>\n",
       "    </tr>\n",
       "    <tr>\n",
       "      <th>552072</th>\n",
       "      <td>623517</td>\n",
       "      <td>3.316667</td>\n",
       "      <td>2012-10-01 20:32:00.040</td>\n",
       "      <td>22.0</td>\n",
       "      <td>2012-10-01 20:36:00.040</td>\n",
       "      <td>81.0</td>\n",
       "      <td>B00012</td>\n",
       "      <td>Registered</td>\n",
       "      <td>02116</td>\n",
       "      <td>1989.0</td>\n",
       "      <td>Male</td>\n",
       "    </tr>\n",
       "  </tbody>\n",
       "</table>\n",
       "<p>552020 rows × 11 columns</p>\n",
       "</div>"
      ],
      "text/plain": [
       "            id  duration              start_date start_station  \\\n",
       "0            8  0.150000 2011-07-28 10:12:00.040          23.0   \n",
       "1            9  3.666667 2011-07-28 10:21:00.040          23.0   \n",
       "2           10  0.933333 2011-07-28 10:33:00.040          23.0   \n",
       "3           11  1.066667 2011-07-28 10:35:00.040          23.0   \n",
       "4           12  0.200000 2011-07-28 10:37:00.040          23.0   \n",
       "...        ...       ...                     ...           ...   \n",
       "552068  623507  8.783333 2012-10-01 20:24:00.040          46.0   \n",
       "552069  623508  3.766667 2012-10-01 20:24:00.040          25.0   \n",
       "552070  623509  8.916667 2012-10-01 20:25:00.040          16.0   \n",
       "552071  623512  7.150000 2012-10-01 20:29:00.040          61.0   \n",
       "552072  623517  3.316667 2012-10-01 20:32:00.040          22.0   \n",
       "\n",
       "                      end_date end_station bike_nr subscription_type zip_code  \\\n",
       "0      2011-07-28 10:12:00.040        23.0  B00468        Registered    97217   \n",
       "1      2011-07-28 10:25:00.040        23.0  B00554        Registered     2215   \n",
       "2      2011-07-28 10:34:00.040        23.0  B00456        Registered     2108   \n",
       "3      2011-07-28 10:36:00.040        23.0  B00554        Registered     2116   \n",
       "4      2011-07-28 10:37:00.040        23.0  B00554        Registered    97214   \n",
       "...                        ...         ...     ...               ...      ...   \n",
       "552068 2012-10-01 20:32:00.040        67.0  B00486            Casual      NaN   \n",
       "552069 2012-10-01 20:28:00.040        26.0  B00170        Registered    02118   \n",
       "552070 2012-10-01 20:34:00.040        47.0  T01067        Registered    02113   \n",
       "552071 2012-10-01 20:36:00.040        33.0  B00621        Registered    02135   \n",
       "552072 2012-10-01 20:36:00.040        81.0  B00012        Registered    02116   \n",
       "\n",
       "        birth_date  gender  \n",
       "0           1976.0    Male  \n",
       "1           1966.0    Male  \n",
       "2           1943.0    Male  \n",
       "3           1981.0  Female  \n",
       "4           1983.0  Female  \n",
       "...            ...     ...  \n",
       "552068         NaN     NaN  \n",
       "552069      1986.0    Male  \n",
       "552070      1965.0    Male  \n",
       "552071      1986.0    Male  \n",
       "552072      1989.0    Male  \n",
       "\n",
       "[552020 rows x 11 columns]"
      ]
     },
     "execution_count": 188,
     "metadata": {},
     "output_type": "execute_result"
    }
   ],
   "source": [
    "finalData"
   ]
  },
  {
   "cell_type": "code",
   "execution_count": 189,
   "metadata": {},
   "outputs": [
    {
     "data": {
      "text/plain": [
       "(552020, 11)"
      ]
     },
     "execution_count": 189,
     "metadata": {},
     "output_type": "execute_result"
    }
   ],
   "source": [
    "finalData.shape"
   ]
  },
  {
   "cell_type": "markdown",
   "metadata": {},
   "source": [
    "Analicemos ahora las duraciones. Hagamos un histograma de sus valores:"
   ]
  },
  {
   "cell_type": "code",
   "execution_count": 190,
   "metadata": {},
   "outputs": [
    {
     "data": {
      "image/png": "[encoded data removed]",
      "text/plain": [
       "<Figure size 432x288 with 1 Axes>"
      ]
     },
     "metadata": {
      "needs_background": "light"
     },
     "output_type": "display_data"
    }
   ],
   "source": [
    "plt.hist(finalData['duration'], bins=100)\n",
    "plt.show()"
   ]
  },
  {
   "cell_type": "code",
   "execution_count": 191,
   "metadata": {},
   "outputs": [
    {
     "data": {
      "text/plain": [
       "count    552020.000000\n",
       "mean         25.841395\n",
       "std         477.967443\n",
       "min           0.000000\n",
       "25%           6.850000\n",
       "50%          11.450000\n",
       "75%          20.066667\n",
       "max      199907.633333\n",
       "Name: duration, dtype: float64"
      ]
     },
     "execution_count": 191,
     "metadata": {},
     "output_type": "execute_result"
    }
   ],
   "source": [
    "finalData['duration'].describe()"
   ]
  },
  {
   "cell_type": "markdown",
   "metadata": {},
   "source": [
    "¿Que pasó?  Hay outliers en los datos... Limitemonos entonces a aquellos datos con duraciones menores a 1 dia."
   ]
  },
  {
   "cell_type": "code",
   "execution_count": 194,
   "metadata": {},
   "outputs": [
    {
     "data": {
      "text/plain": [
       "409"
      ]
     },
     "execution_count": 194,
     "metadata": {},
     "output_type": "execute_result"
    }
   ],
   "source": [
    "sum(finalData['duration']> 24*60)"
   ]
  },
  {
   "cell_type": "code",
   "execution_count": 195,
   "metadata": {},
   "outputs": [
    {
     "data": {
      "text/plain": [
       "0         0.150000\n",
       "1         3.666667\n",
       "2         0.933333\n",
       "3         1.066667\n",
       "4         0.200000\n",
       "            ...   \n",
       "552068    8.783333\n",
       "552069    3.766667\n",
       "552070    8.916667\n",
       "552071    7.150000\n",
       "552072    3.316667\n",
       "Name: duration, Length: 551611, dtype: float64"
      ]
     },
     "execution_count": 195,
     "metadata": {},
     "output_type": "execute_result"
    }
   ],
   "source": [
    "finalData[finalData['duration']<24*60]['duration']"
   ]
  },
  {
   "cell_type": "code",
   "execution_count": 222,
   "metadata": {},
   "outputs": [
    {
     "data": {
      "image/png": "[encoded data removed]",
      "text/plain": [
       "<Figure size 432x288 with 1 Axes>"
      ]
     },
     "metadata": {
      "needs_background": "light"
     },
     "output_type": "display_data"
    }
   ],
   "source": [
    "plt.hist(finalData[finalData['duration']<24*60]['duration'], bins=100)\n",
    "plt.show()"
   ]
  },
  {
   "cell_type": "markdown",
   "metadata": {},
   "source": [
    "Mas razonable. Actualicemos los datos solo a aquellos viajes que duran menos de 24 horas."
   ]
  },
  {
   "cell_type": "code",
   "execution_count": 197,
   "metadata": {},
   "outputs": [
    {
     "data": {
      "text/html": [
       "<div>\n",
       "<style scoped>\n",
       "    .dataframe tbody tr th:only-of-type {\n",
       "        vertical-align: middle;\n",
       "    }\n",
       "\n",
       "    .dataframe tbody tr th {\n",
       "        vertical-align: top;\n",
       "    }\n",
       "\n",
       "    .dataframe thead th {\n",
       "        text-align: right;\n",
       "    }\n",
       "</style>\n",
       "<table border=\"1\" class=\"dataframe\">\n",
       "  <thead>\n",
       "    <tr style=\"text-align: right;\">\n",
       "      <th></th>\n",
       "      <th>id</th>\n",
       "      <th>duration</th>\n",
       "      <th>start_date</th>\n",
       "      <th>start_station</th>\n",
       "      <th>end_date</th>\n",
       "      <th>end_station</th>\n",
       "      <th>bike_nr</th>\n",
       "      <th>subscription_type</th>\n",
       "      <th>zip_code</th>\n",
       "      <th>birth_date</th>\n",
       "      <th>gender</th>\n",
       "    </tr>\n",
       "  </thead>\n",
       "  <tbody>\n",
       "    <tr>\n",
       "      <th>0</th>\n",
       "      <td>8</td>\n",
       "      <td>0.150000</td>\n",
       "      <td>2011-07-28 10:12:00.040</td>\n",
       "      <td>23.0</td>\n",
       "      <td>2011-07-28 10:12:00.040</td>\n",
       "      <td>23.0</td>\n",
       "      <td>B00468</td>\n",
       "      <td>Registered</td>\n",
       "      <td>97217</td>\n",
       "      <td>1976.0</td>\n",
       "      <td>Male</td>\n",
       "    </tr>\n",
       "    <tr>\n",
       "      <th>1</th>\n",
       "      <td>9</td>\n",
       "      <td>3.666667</td>\n",
       "      <td>2011-07-28 10:21:00.040</td>\n",
       "      <td>23.0</td>\n",
       "      <td>2011-07-28 10:25:00.040</td>\n",
       "      <td>23.0</td>\n",
       "      <td>B00554</td>\n",
       "      <td>Registered</td>\n",
       "      <td>2215</td>\n",
       "      <td>1966.0</td>\n",
       "      <td>Male</td>\n",
       "    </tr>\n",
       "    <tr>\n",
       "      <th>2</th>\n",
       "      <td>10</td>\n",
       "      <td>0.933333</td>\n",
       "      <td>2011-07-28 10:33:00.040</td>\n",
       "      <td>23.0</td>\n",
       "      <td>2011-07-28 10:34:00.040</td>\n",
       "      <td>23.0</td>\n",
       "      <td>B00456</td>\n",
       "      <td>Registered</td>\n",
       "      <td>2108</td>\n",
       "      <td>1943.0</td>\n",
       "      <td>Male</td>\n",
       "    </tr>\n",
       "    <tr>\n",
       "      <th>3</th>\n",
       "      <td>11</td>\n",
       "      <td>1.066667</td>\n",
       "      <td>2011-07-28 10:35:00.040</td>\n",
       "      <td>23.0</td>\n",
       "      <td>2011-07-28 10:36:00.040</td>\n",
       "      <td>23.0</td>\n",
       "      <td>B00554</td>\n",
       "      <td>Registered</td>\n",
       "      <td>2116</td>\n",
       "      <td>1981.0</td>\n",
       "      <td>Female</td>\n",
       "    </tr>\n",
       "    <tr>\n",
       "      <th>4</th>\n",
       "      <td>12</td>\n",
       "      <td>0.200000</td>\n",
       "      <td>2011-07-28 10:37:00.040</td>\n",
       "      <td>23.0</td>\n",
       "      <td>2011-07-28 10:37:00.040</td>\n",
       "      <td>23.0</td>\n",
       "      <td>B00554</td>\n",
       "      <td>Registered</td>\n",
       "      <td>97214</td>\n",
       "      <td>1983.0</td>\n",
       "      <td>Female</td>\n",
       "    </tr>\n",
       "    <tr>\n",
       "      <th>...</th>\n",
       "      <td>...</td>\n",
       "      <td>...</td>\n",
       "      <td>...</td>\n",
       "      <td>...</td>\n",
       "      <td>...</td>\n",
       "      <td>...</td>\n",
       "      <td>...</td>\n",
       "      <td>...</td>\n",
       "      <td>...</td>\n",
       "      <td>...</td>\n",
       "      <td>...</td>\n",
       "    </tr>\n",
       "    <tr>\n",
       "      <th>552068</th>\n",
       "      <td>623507</td>\n",
       "      <td>8.783333</td>\n",
       "      <td>2012-10-01 20:24:00.040</td>\n",
       "      <td>46.0</td>\n",
       "      <td>2012-10-01 20:32:00.040</td>\n",
       "      <td>67.0</td>\n",
       "      <td>B00486</td>\n",
       "      <td>Casual</td>\n",
       "      <td>NaN</td>\n",
       "      <td>NaN</td>\n",
       "      <td>NaN</td>\n",
       "    </tr>\n",
       "    <tr>\n",
       "      <th>552069</th>\n",
       "      <td>623508</td>\n",
       "      <td>3.766667</td>\n",
       "      <td>2012-10-01 20:24:00.040</td>\n",
       "      <td>25.0</td>\n",
       "      <td>2012-10-01 20:28:00.040</td>\n",
       "      <td>26.0</td>\n",
       "      <td>B00170</td>\n",
       "      <td>Registered</td>\n",
       "      <td>02118</td>\n",
       "      <td>1986.0</td>\n",
       "      <td>Male</td>\n",
       "    </tr>\n",
       "    <tr>\n",
       "      <th>552070</th>\n",
       "      <td>623509</td>\n",
       "      <td>8.916667</td>\n",
       "      <td>2012-10-01 20:25:00.040</td>\n",
       "      <td>16.0</td>\n",
       "      <td>2012-10-01 20:34:00.040</td>\n",
       "      <td>47.0</td>\n",
       "      <td>T01067</td>\n",
       "      <td>Registered</td>\n",
       "      <td>02113</td>\n",
       "      <td>1965.0</td>\n",
       "      <td>Male</td>\n",
       "    </tr>\n",
       "    <tr>\n",
       "      <th>552071</th>\n",
       "      <td>623512</td>\n",
       "      <td>7.150000</td>\n",
       "      <td>2012-10-01 20:29:00.040</td>\n",
       "      <td>61.0</td>\n",
       "      <td>2012-10-01 20:36:00.040</td>\n",
       "      <td>33.0</td>\n",
       "      <td>B00621</td>\n",
       "      <td>Registered</td>\n",
       "      <td>02135</td>\n",
       "      <td>1986.0</td>\n",
       "      <td>Male</td>\n",
       "    </tr>\n",
       "    <tr>\n",
       "      <th>552072</th>\n",
       "      <td>623517</td>\n",
       "      <td>3.316667</td>\n",
       "      <td>2012-10-01 20:32:00.040</td>\n",
       "      <td>22.0</td>\n",
       "      <td>2012-10-01 20:36:00.040</td>\n",
       "      <td>81.0</td>\n",
       "      <td>B00012</td>\n",
       "      <td>Registered</td>\n",
       "      <td>02116</td>\n",
       "      <td>1989.0</td>\n",
       "      <td>Male</td>\n",
       "    </tr>\n",
       "  </tbody>\n",
       "</table>\n",
       "<p>551611 rows × 11 columns</p>\n",
       "</div>"
      ],
      "text/plain": [
       "            id  duration              start_date start_station  \\\n",
       "0            8  0.150000 2011-07-28 10:12:00.040          23.0   \n",
       "1            9  3.666667 2011-07-28 10:21:00.040          23.0   \n",
       "2           10  0.933333 2011-07-28 10:33:00.040          23.0   \n",
       "3           11  1.066667 2011-07-28 10:35:00.040          23.0   \n",
       "4           12  0.200000 2011-07-28 10:37:00.040          23.0   \n",
       "...        ...       ...                     ...           ...   \n",
       "552068  623507  8.783333 2012-10-01 20:24:00.040          46.0   \n",
       "552069  623508  3.766667 2012-10-01 20:24:00.040          25.0   \n",
       "552070  623509  8.916667 2012-10-01 20:25:00.040          16.0   \n",
       "552071  623512  7.150000 2012-10-01 20:29:00.040          61.0   \n",
       "552072  623517  3.316667 2012-10-01 20:32:00.040          22.0   \n",
       "\n",
       "                      end_date end_station bike_nr subscription_type zip_code  \\\n",
       "0      2011-07-28 10:12:00.040        23.0  B00468        Registered    97217   \n",
       "1      2011-07-28 10:25:00.040        23.0  B00554        Registered     2215   \n",
       "2      2011-07-28 10:34:00.040        23.0  B00456        Registered     2108   \n",
       "3      2011-07-28 10:36:00.040        23.0  B00554        Registered     2116   \n",
       "4      2011-07-28 10:37:00.040        23.0  B00554        Registered    97214   \n",
       "...                        ...         ...     ...               ...      ...   \n",
       "552068 2012-10-01 20:32:00.040        67.0  B00486            Casual      NaN   \n",
       "552069 2012-10-01 20:28:00.040        26.0  B00170        Registered    02118   \n",
       "552070 2012-10-01 20:34:00.040        47.0  T01067        Registered    02113   \n",
       "552071 2012-10-01 20:36:00.040        33.0  B00621        Registered    02135   \n",
       "552072 2012-10-01 20:36:00.040        81.0  B00012        Registered    02116   \n",
       "\n",
       "        birth_date  gender  \n",
       "0           1976.0    Male  \n",
       "1           1966.0    Male  \n",
       "2           1943.0    Male  \n",
       "3           1981.0  Female  \n",
       "4           1983.0  Female  \n",
       "...            ...     ...  \n",
       "552068         NaN     NaN  \n",
       "552069      1986.0    Male  \n",
       "552070      1965.0    Male  \n",
       "552071      1986.0    Male  \n",
       "552072      1989.0    Male  \n",
       "\n",
       "[551611 rows x 11 columns]"
      ]
     },
     "execution_count": 197,
     "metadata": {},
     "output_type": "execute_result"
    }
   ],
   "source": [
    "finalData = finalData[finalData['duration']<24*60]\n",
    "finalData"
   ]
  },
  {
   "cell_type": "markdown",
   "metadata": {},
   "source": [
    "Usemos las fechas. Estas pertenecen al tipo `DateTime`, por lo que podemos hacerles preguntas a ese registro, como el día de la semana de cada fecha, o el mes, etc.   <br>\n",
    "\n",
    "Partamos analizando las fechas en que se realizan los viajes, y los dias de semana que corresponden."
   ]
  },
  {
   "cell_type": "code",
   "execution_count": 208,
   "metadata": {},
   "outputs": [
    {
     "data": {
      "text/plain": [
       "0         Thursday\n",
       "1         Thursday\n",
       "2         Thursday\n",
       "3         Thursday\n",
       "4         Thursday\n",
       "            ...   \n",
       "552068      Monday\n",
       "552069      Monday\n",
       "552070      Monday\n",
       "552071      Monday\n",
       "552072      Monday\n",
       "Name: start_date, Length: 551611, dtype: object"
      ]
     },
     "execution_count": 208,
     "metadata": {},
     "output_type": "execute_result"
    }
   ],
   "source": [
    "finalData['start_date'].dt.day_name()\n",
    "#.dt.day_name()\n",
    "#finalData['start_date'].dt.dayofweek"
   ]
  },
  {
   "cell_type": "code",
   "execution_count": 212,
   "metadata": {},
   "outputs": [
    {
     "name": "stderr",
     "output_type": "stream",
     "text": [
      "<ipython-input-212-9527532ece51>:1: SettingWithCopyWarning: \n",
      "A value is trying to be set on a copy of a slice from a DataFrame.\n",
      "Try using .loc[row_indexer,col_indexer] = value instead\n",
      "\n",
      "See the caveats in the documentation: https://pandas.pydata.org/pandas-docs/stable/user_guide/indexing.html#returning-a-view-versus-a-copy\n",
      "  finalData['dia_semana'] = finalData['start_date'].dt.day_name()\n"
     ]
    }
   ],
   "source": [
    "finalData['dia_semana'] = finalData['start_date'].dt.day_name()"
   ]
  },
  {
   "cell_type": "code",
   "execution_count": 216,
   "metadata": {},
   "outputs": [
    {
     "name": "stderr",
     "output_type": "stream",
     "text": [
      "<ipython-input-216-7ae7986174cd>:1: SettingWithCopyWarning: \n",
      "A value is trying to be set on a copy of a slice from a DataFrame.\n",
      "Try using .loc[row_indexer,col_indexer] = value instead\n",
      "\n",
      "See the caveats in the documentation: https://pandas.pydata.org/pandas-docs/stable/user_guide/indexing.html#returning-a-view-versus-a-copy\n",
      "  finalData['dia_semana']=finalData['dia_semana'].astype('category')\n"
     ]
    }
   ],
   "source": [
    "finalData['dia_semana']=finalData['dia_semana'].astype('category')"
   ]
  },
  {
   "cell_type": "code",
   "execution_count": 218,
   "metadata": {},
   "outputs": [
    {
     "data": {
      "image/png": "[encoded data removed]",
      "text/plain": [
       "<Figure size 432x288 with 1 Axes>"
      ]
     },
     "metadata": {
      "needs_background": "light"
     },
     "output_type": "display_data"
    }
   ],
   "source": [
    "plt.hist(finalData['start_date'].dt.dayofweek, bins=7)\n",
    "plt.show()"
   ]
  },
  {
   "cell_type": "code",
   "execution_count": 226,
   "metadata": {},
   "outputs": [
    {
     "data": {
      "image/png": "[encoded data removed]",
      "text/plain": [
       "<Figure size 432x288 with 1 Axes>"
      ]
     },
     "metadata": {
      "needs_background": "light"
     },
     "output_type": "display_data"
    }
   ],
   "source": [
    "plt.hist(finalData['start_date'].dt.month, bins=range(1,13))\n",
    "plt.show()"
   ]
  },
  {
   "cell_type": "code",
   "execution_count": 228,
   "metadata": {},
   "outputs": [
    {
     "data": {
      "image/png": "[encoded data removed]",
      "text/plain": [
       "<Figure size 432x288 with 1 Axes>"
      ]
     },
     "metadata": {
      "needs_background": "light"
     },
     "output_type": "display_data"
    }
   ],
   "source": [
    "plt.hist(finalData['start_date'].dt.hour, bins=range(1,25))\n",
    "plt.show()"
   ]
  },
  {
   "cell_type": "code",
   "execution_count": 238,
   "metadata": {},
   "outputs": [],
   "source": [
    "tmp=finalData[finalData['start_date'].dt.dayofweek>=5]"
   ]
  },
  {
   "cell_type": "code",
   "execution_count": 239,
   "metadata": {},
   "outputs": [
    {
     "data": {
      "image/png": "[encoded data removed]",
      "text/plain": [
       "<Figure size 432x288 with 1 Axes>"
      ]
     },
     "metadata": {
      "needs_background": "light"
     },
     "output_type": "display_data"
    }
   ],
   "source": [
    "plt.hist(tmp['start_date'].dt.hour, bins=range(1,25))\n",
    "plt.show()"
   ]
  },
  {
   "cell_type": "markdown",
   "metadata": {},
   "source": [
    "Tambien podemos agregar una columna a la tabla. Por ejemplo, agreguemos el mes de cada viaje"
   ]
  },
  {
   "cell_type": "code",
   "execution_count": 229,
   "metadata": {},
   "outputs": [
    {
     "name": "stderr",
     "output_type": "stream",
     "text": [
      "<ipython-input-229-07735d57d753>:1: SettingWithCopyWarning: \n",
      "A value is trying to be set on a copy of a slice from a DataFrame.\n",
      "Try using .loc[row_indexer,col_indexer] = value instead\n",
      "\n",
      "See the caveats in the documentation: https://pandas.pydata.org/pandas-docs/stable/user_guide/indexing.html#returning-a-view-versus-a-copy\n",
      "  finalData['start_month'] = finalData['start_date'].dt.month\n"
     ]
    },
    {
     "data": {
      "text/html": [
       "<div>\n",
       "<style scoped>\n",
       "    .dataframe tbody tr th:only-of-type {\n",
       "        vertical-align: middle;\n",
       "    }\n",
       "\n",
       "    .dataframe tbody tr th {\n",
       "        vertical-align: top;\n",
       "    }\n",
       "\n",
       "    .dataframe thead th {\n",
       "        text-align: right;\n",
       "    }\n",
       "</style>\n",
       "<table border=\"1\" class=\"dataframe\">\n",
       "  <thead>\n",
       "    <tr style=\"text-align: right;\">\n",
       "      <th></th>\n",
       "      <th>id</th>\n",
       "      <th>duration</th>\n",
       "      <th>start_date</th>\n",
       "      <th>start_station</th>\n",
       "      <th>end_date</th>\n",
       "      <th>end_station</th>\n",
       "      <th>bike_nr</th>\n",
       "      <th>subscription_type</th>\n",
       "      <th>zip_code</th>\n",
       "      <th>birth_date</th>\n",
       "      <th>gender</th>\n",
       "      <th>dia_semana</th>\n",
       "      <th>start_month</th>\n",
       "    </tr>\n",
       "  </thead>\n",
       "  <tbody>\n",
       "    <tr>\n",
       "      <th>0</th>\n",
       "      <td>8</td>\n",
       "      <td>0.150000</td>\n",
       "      <td>2011-07-28 10:12:00.040</td>\n",
       "      <td>23.0</td>\n",
       "      <td>2011-07-28 10:12:00.040</td>\n",
       "      <td>23.0</td>\n",
       "      <td>B00468</td>\n",
       "      <td>Registered</td>\n",
       "      <td>97217</td>\n",
       "      <td>1976.0</td>\n",
       "      <td>Male</td>\n",
       "      <td>Thursday</td>\n",
       "      <td>7</td>\n",
       "    </tr>\n",
       "    <tr>\n",
       "      <th>1</th>\n",
       "      <td>9</td>\n",
       "      <td>3.666667</td>\n",
       "      <td>2011-07-28 10:21:00.040</td>\n",
       "      <td>23.0</td>\n",
       "      <td>2011-07-28 10:25:00.040</td>\n",
       "      <td>23.0</td>\n",
       "      <td>B00554</td>\n",
       "      <td>Registered</td>\n",
       "      <td>2215</td>\n",
       "      <td>1966.0</td>\n",
       "      <td>Male</td>\n",
       "      <td>Thursday</td>\n",
       "      <td>7</td>\n",
       "    </tr>\n",
       "    <tr>\n",
       "      <th>2</th>\n",
       "      <td>10</td>\n",
       "      <td>0.933333</td>\n",
       "      <td>2011-07-28 10:33:00.040</td>\n",
       "      <td>23.0</td>\n",
       "      <td>2011-07-28 10:34:00.040</td>\n",
       "      <td>23.0</td>\n",
       "      <td>B00456</td>\n",
       "      <td>Registered</td>\n",
       "      <td>2108</td>\n",
       "      <td>1943.0</td>\n",
       "      <td>Male</td>\n",
       "      <td>Thursday</td>\n",
       "      <td>7</td>\n",
       "    </tr>\n",
       "    <tr>\n",
       "      <th>3</th>\n",
       "      <td>11</td>\n",
       "      <td>1.066667</td>\n",
       "      <td>2011-07-28 10:35:00.040</td>\n",
       "      <td>23.0</td>\n",
       "      <td>2011-07-28 10:36:00.040</td>\n",
       "      <td>23.0</td>\n",
       "      <td>B00554</td>\n",
       "      <td>Registered</td>\n",
       "      <td>2116</td>\n",
       "      <td>1981.0</td>\n",
       "      <td>Female</td>\n",
       "      <td>Thursday</td>\n",
       "      <td>7</td>\n",
       "    </tr>\n",
       "    <tr>\n",
       "      <th>4</th>\n",
       "      <td>12</td>\n",
       "      <td>0.200000</td>\n",
       "      <td>2011-07-28 10:37:00.040</td>\n",
       "      <td>23.0</td>\n",
       "      <td>2011-07-28 10:37:00.040</td>\n",
       "      <td>23.0</td>\n",
       "      <td>B00554</td>\n",
       "      <td>Registered</td>\n",
       "      <td>97214</td>\n",
       "      <td>1983.0</td>\n",
       "      <td>Female</td>\n",
       "      <td>Thursday</td>\n",
       "      <td>7</td>\n",
       "    </tr>\n",
       "    <tr>\n",
       "      <th>...</th>\n",
       "      <td>...</td>\n",
       "      <td>...</td>\n",
       "      <td>...</td>\n",
       "      <td>...</td>\n",
       "      <td>...</td>\n",
       "      <td>...</td>\n",
       "      <td>...</td>\n",
       "      <td>...</td>\n",
       "      <td>...</td>\n",
       "      <td>...</td>\n",
       "      <td>...</td>\n",
       "      <td>...</td>\n",
       "      <td>...</td>\n",
       "    </tr>\n",
       "    <tr>\n",
       "      <th>552068</th>\n",
       "      <td>623507</td>\n",
       "      <td>8.783333</td>\n",
       "      <td>2012-10-01 20:24:00.040</td>\n",
       "      <td>46.0</td>\n",
       "      <td>2012-10-01 20:32:00.040</td>\n",
       "      <td>67.0</td>\n",
       "      <td>B00486</td>\n",
       "      <td>Casual</td>\n",
       "      <td>NaN</td>\n",
       "      <td>NaN</td>\n",
       "      <td>NaN</td>\n",
       "      <td>Monday</td>\n",
       "      <td>10</td>\n",
       "    </tr>\n",
       "    <tr>\n",
       "      <th>552069</th>\n",
       "      <td>623508</td>\n",
       "      <td>3.766667</td>\n",
       "      <td>2012-10-01 20:24:00.040</td>\n",
       "      <td>25.0</td>\n",
       "      <td>2012-10-01 20:28:00.040</td>\n",
       "      <td>26.0</td>\n",
       "      <td>B00170</td>\n",
       "      <td>Registered</td>\n",
       "      <td>02118</td>\n",
       "      <td>1986.0</td>\n",
       "      <td>Male</td>\n",
       "      <td>Monday</td>\n",
       "      <td>10</td>\n",
       "    </tr>\n",
       "    <tr>\n",
       "      <th>552070</th>\n",
       "      <td>623509</td>\n",
       "      <td>8.916667</td>\n",
       "      <td>2012-10-01 20:25:00.040</td>\n",
       "      <td>16.0</td>\n",
       "      <td>2012-10-01 20:34:00.040</td>\n",
       "      <td>47.0</td>\n",
       "      <td>T01067</td>\n",
       "      <td>Registered</td>\n",
       "      <td>02113</td>\n",
       "      <td>1965.0</td>\n",
       "      <td>Male</td>\n",
       "      <td>Monday</td>\n",
       "      <td>10</td>\n",
       "    </tr>\n",
       "    <tr>\n",
       "      <th>552071</th>\n",
       "      <td>623512</td>\n",
       "      <td>7.150000</td>\n",
       "      <td>2012-10-01 20:29:00.040</td>\n",
       "      <td>61.0</td>\n",
       "      <td>2012-10-01 20:36:00.040</td>\n",
       "      <td>33.0</td>\n",
       "      <td>B00621</td>\n",
       "      <td>Registered</td>\n",
       "      <td>02135</td>\n",
       "      <td>1986.0</td>\n",
       "      <td>Male</td>\n",
       "      <td>Monday</td>\n",
       "      <td>10</td>\n",
       "    </tr>\n",
       "    <tr>\n",
       "      <th>552072</th>\n",
       "      <td>623517</td>\n",
       "      <td>3.316667</td>\n",
       "      <td>2012-10-01 20:32:00.040</td>\n",
       "      <td>22.0</td>\n",
       "      <td>2012-10-01 20:36:00.040</td>\n",
       "      <td>81.0</td>\n",
       "      <td>B00012</td>\n",
       "      <td>Registered</td>\n",
       "      <td>02116</td>\n",
       "      <td>1989.0</td>\n",
       "      <td>Male</td>\n",
       "      <td>Monday</td>\n",
       "      <td>10</td>\n",
       "    </tr>\n",
       "  </tbody>\n",
       "</table>\n",
       "<p>551611 rows × 13 columns</p>\n",
       "</div>"
      ],
      "text/plain": [
       "            id  duration              start_date start_station  \\\n",
       "0            8  0.150000 2011-07-28 10:12:00.040          23.0   \n",
       "1            9  3.666667 2011-07-28 10:21:00.040          23.0   \n",
       "2           10  0.933333 2011-07-28 10:33:00.040          23.0   \n",
       "3           11  1.066667 2011-07-28 10:35:00.040          23.0   \n",
       "4           12  0.200000 2011-07-28 10:37:00.040          23.0   \n",
       "...        ...       ...                     ...           ...   \n",
       "552068  623507  8.783333 2012-10-01 20:24:00.040          46.0   \n",
       "552069  623508  3.766667 2012-10-01 20:24:00.040          25.0   \n",
       "552070  623509  8.916667 2012-10-01 20:25:00.040          16.0   \n",
       "552071  623512  7.150000 2012-10-01 20:29:00.040          61.0   \n",
       "552072  623517  3.316667 2012-10-01 20:32:00.040          22.0   \n",
       "\n",
       "                      end_date end_station bike_nr subscription_type zip_code  \\\n",
       "0      2011-07-28 10:12:00.040        23.0  B00468        Registered    97217   \n",
       "1      2011-07-28 10:25:00.040        23.0  B00554        Registered     2215   \n",
       "2      2011-07-28 10:34:00.040        23.0  B00456        Registered     2108   \n",
       "3      2011-07-28 10:36:00.040        23.0  B00554        Registered     2116   \n",
       "4      2011-07-28 10:37:00.040        23.0  B00554        Registered    97214   \n",
       "...                        ...         ...     ...               ...      ...   \n",
       "552068 2012-10-01 20:32:00.040        67.0  B00486            Casual      NaN   \n",
       "552069 2012-10-01 20:28:00.040        26.0  B00170        Registered    02118   \n",
       "552070 2012-10-01 20:34:00.040        47.0  T01067        Registered    02113   \n",
       "552071 2012-10-01 20:36:00.040        33.0  B00621        Registered    02135   \n",
       "552072 2012-10-01 20:36:00.040        81.0  B00012        Registered    02116   \n",
       "\n",
       "        birth_date  gender dia_semana  start_month  \n",
       "0           1976.0    Male   Thursday            7  \n",
       "1           1966.0    Male   Thursday            7  \n",
       "2           1943.0    Male   Thursday            7  \n",
       "3           1981.0  Female   Thursday            7  \n",
       "4           1983.0  Female   Thursday            7  \n",
       "...            ...     ...        ...          ...  \n",
       "552068         NaN     NaN     Monday           10  \n",
       "552069      1986.0    Male     Monday           10  \n",
       "552070      1965.0    Male     Monday           10  \n",
       "552071      1986.0    Male     Monday           10  \n",
       "552072      1989.0    Male     Monday           10  \n",
       "\n",
       "[551611 rows x 13 columns]"
      ]
     },
     "execution_count": 229,
     "metadata": {},
     "output_type": "execute_result"
    }
   ],
   "source": [
    "finalData['start_month'] = finalData['start_date'].dt.month\n",
    "finalData"
   ]
  },
  {
   "cell_type": "code",
   "execution_count": 242,
   "metadata": {},
   "outputs": [
    {
     "data": {
      "text/html": [
       "<div>\n",
       "<style scoped>\n",
       "    .dataframe tbody tr th:only-of-type {\n",
       "        vertical-align: middle;\n",
       "    }\n",
       "\n",
       "    .dataframe tbody tr th {\n",
       "        vertical-align: top;\n",
       "    }\n",
       "\n",
       "    .dataframe thead th {\n",
       "        text-align: right;\n",
       "    }\n",
       "</style>\n",
       "<table border=\"1\" class=\"dataframe\">\n",
       "  <thead>\n",
       "    <tr style=\"text-align: right;\">\n",
       "      <th></th>\n",
       "      <th>id</th>\n",
       "      <th>duration</th>\n",
       "      <th>start_date</th>\n",
       "      <th>start_station</th>\n",
       "      <th>end_date</th>\n",
       "      <th>end_station</th>\n",
       "      <th>bike_nr</th>\n",
       "      <th>subscription_type</th>\n",
       "      <th>zip_code</th>\n",
       "      <th>birth_date</th>\n",
       "      <th>gender</th>\n",
       "      <th>dia_semana</th>\n",
       "      <th>start_month</th>\n",
       "    </tr>\n",
       "  </thead>\n",
       "  <tbody>\n",
       "    <tr>\n",
       "      <th>3</th>\n",
       "      <td>11</td>\n",
       "      <td>1.066667</td>\n",
       "      <td>2011-07-28 10:35:00.040</td>\n",
       "      <td>23.0</td>\n",
       "      <td>2011-07-28 10:36:00.040</td>\n",
       "      <td>23.0</td>\n",
       "      <td>B00554</td>\n",
       "      <td>Registered</td>\n",
       "      <td>2116</td>\n",
       "      <td>1981.0</td>\n",
       "      <td>Female</td>\n",
       "      <td>Thursday</td>\n",
       "      <td>7</td>\n",
       "    </tr>\n",
       "    <tr>\n",
       "      <th>4</th>\n",
       "      <td>12</td>\n",
       "      <td>0.200000</td>\n",
       "      <td>2011-07-28 10:37:00.040</td>\n",
       "      <td>23.0</td>\n",
       "      <td>2011-07-28 10:37:00.040</td>\n",
       "      <td>23.0</td>\n",
       "      <td>B00554</td>\n",
       "      <td>Registered</td>\n",
       "      <td>97214</td>\n",
       "      <td>1983.0</td>\n",
       "      <td>Female</td>\n",
       "      <td>Thursday</td>\n",
       "      <td>7</td>\n",
       "    </tr>\n",
       "    <tr>\n",
       "      <th>6</th>\n",
       "      <td>14</td>\n",
       "      <td>0.400000</td>\n",
       "      <td>2011-07-28 10:47:00.040</td>\n",
       "      <td>23.0</td>\n",
       "      <td>2011-07-28 10:47:00.040</td>\n",
       "      <td>23.0</td>\n",
       "      <td>B00554</td>\n",
       "      <td>Registered</td>\n",
       "      <td>2140</td>\n",
       "      <td>1971.0</td>\n",
       "      <td>Female</td>\n",
       "      <td>Thursday</td>\n",
       "      <td>7</td>\n",
       "    </tr>\n",
       "    <tr>\n",
       "      <th>7</th>\n",
       "      <td>15</td>\n",
       "      <td>0.116667</td>\n",
       "      <td>2011-07-28 10:48:00.040</td>\n",
       "      <td>23.0</td>\n",
       "      <td>2011-07-28 10:48:00.040</td>\n",
       "      <td>23.0</td>\n",
       "      <td>B00554</td>\n",
       "      <td>Registered</td>\n",
       "      <td>2140</td>\n",
       "      <td>1971.0</td>\n",
       "      <td>Female</td>\n",
       "      <td>Thursday</td>\n",
       "      <td>7</td>\n",
       "    </tr>\n",
       "    <tr>\n",
       "      <th>8</th>\n",
       "      <td>16</td>\n",
       "      <td>0.133333</td>\n",
       "      <td>2011-07-28 11:01:00.040</td>\n",
       "      <td>23.0</td>\n",
       "      <td>2011-07-28 11:01:00.040</td>\n",
       "      <td>23.0</td>\n",
       "      <td>B00554</td>\n",
       "      <td>Registered</td>\n",
       "      <td>97214</td>\n",
       "      <td>1983.0</td>\n",
       "      <td>Female</td>\n",
       "      <td>Thursday</td>\n",
       "      <td>7</td>\n",
       "    </tr>\n",
       "    <tr>\n",
       "      <th>...</th>\n",
       "      <td>...</td>\n",
       "      <td>...</td>\n",
       "      <td>...</td>\n",
       "      <td>...</td>\n",
       "      <td>...</td>\n",
       "      <td>...</td>\n",
       "      <td>...</td>\n",
       "      <td>...</td>\n",
       "      <td>...</td>\n",
       "      <td>...</td>\n",
       "      <td>...</td>\n",
       "      <td>...</td>\n",
       "      <td>...</td>\n",
       "    </tr>\n",
       "    <tr>\n",
       "      <th>552048</th>\n",
       "      <td>623484</td>\n",
       "      <td>12.616667</td>\n",
       "      <td>2012-10-01 20:13:00.040</td>\n",
       "      <td>9.0</td>\n",
       "      <td>2012-10-01 20:26:00.040</td>\n",
       "      <td>46.0</td>\n",
       "      <td>T01216</td>\n",
       "      <td>Registered</td>\n",
       "      <td>02115</td>\n",
       "      <td>1982.0</td>\n",
       "      <td>Female</td>\n",
       "      <td>Monday</td>\n",
       "      <td>10</td>\n",
       "    </tr>\n",
       "    <tr>\n",
       "      <th>552051</th>\n",
       "      <td>623488</td>\n",
       "      <td>7.300000</td>\n",
       "      <td>2012-10-01 20:15:00.040</td>\n",
       "      <td>40.0</td>\n",
       "      <td>2012-10-01 20:22:00.040</td>\n",
       "      <td>35.0</td>\n",
       "      <td>B00234</td>\n",
       "      <td>Registered</td>\n",
       "      <td>02111</td>\n",
       "      <td>1974.0</td>\n",
       "      <td>Female</td>\n",
       "      <td>Monday</td>\n",
       "      <td>10</td>\n",
       "    </tr>\n",
       "    <tr>\n",
       "      <th>552052</th>\n",
       "      <td>623489</td>\n",
       "      <td>3.383333</td>\n",
       "      <td>2012-10-01 20:15:00.040</td>\n",
       "      <td>6.0</td>\n",
       "      <td>2012-10-01 20:18:00.040</td>\n",
       "      <td>38.0</td>\n",
       "      <td>T01078</td>\n",
       "      <td>Registered</td>\n",
       "      <td>02114</td>\n",
       "      <td>1978.0</td>\n",
       "      <td>Female</td>\n",
       "      <td>Monday</td>\n",
       "      <td>10</td>\n",
       "    </tr>\n",
       "    <tr>\n",
       "      <th>552062</th>\n",
       "      <td>623501</td>\n",
       "      <td>9.733333</td>\n",
       "      <td>2012-10-01 20:22:00.040</td>\n",
       "      <td>96.0</td>\n",
       "      <td>2012-10-01 20:31:00.040</td>\n",
       "      <td>80.0</td>\n",
       "      <td>T01088</td>\n",
       "      <td>Registered</td>\n",
       "      <td>02139</td>\n",
       "      <td>1983.0</td>\n",
       "      <td>Female</td>\n",
       "      <td>Monday</td>\n",
       "      <td>10</td>\n",
       "    </tr>\n",
       "    <tr>\n",
       "      <th>552065</th>\n",
       "      <td>623504</td>\n",
       "      <td>1.550000</td>\n",
       "      <td>2012-10-01 20:22:00.040</td>\n",
       "      <td>61.0</td>\n",
       "      <td>2012-10-01 20:24:00.040</td>\n",
       "      <td>52.0</td>\n",
       "      <td>B00026</td>\n",
       "      <td>Registered</td>\n",
       "      <td>02199</td>\n",
       "      <td>1988.0</td>\n",
       "      <td>Female</td>\n",
       "      <td>Monday</td>\n",
       "      <td>10</td>\n",
       "    </tr>\n",
       "  </tbody>\n",
       "</table>\n",
       "<p>88226 rows × 13 columns</p>\n",
       "</div>"
      ],
      "text/plain": [
       "            id   duration              start_date start_station  \\\n",
       "3           11   1.066667 2011-07-28 10:35:00.040          23.0   \n",
       "4           12   0.200000 2011-07-28 10:37:00.040          23.0   \n",
       "6           14   0.400000 2011-07-28 10:47:00.040          23.0   \n",
       "7           15   0.116667 2011-07-28 10:48:00.040          23.0   \n",
       "8           16   0.133333 2011-07-28 11:01:00.040          23.0   \n",
       "...        ...        ...                     ...           ...   \n",
       "552048  623484  12.616667 2012-10-01 20:13:00.040           9.0   \n",
       "552051  623488   7.300000 2012-10-01 20:15:00.040          40.0   \n",
       "552052  623489   3.383333 2012-10-01 20:15:00.040           6.0   \n",
       "552062  623501   9.733333 2012-10-01 20:22:00.040          96.0   \n",
       "552065  623504   1.550000 2012-10-01 20:22:00.040          61.0   \n",
       "\n",
       "                      end_date end_station bike_nr subscription_type zip_code  \\\n",
       "3      2011-07-28 10:36:00.040        23.0  B00554        Registered     2116   \n",
       "4      2011-07-28 10:37:00.040        23.0  B00554        Registered    97214   \n",
       "6      2011-07-28 10:47:00.040        23.0  B00554        Registered     2140   \n",
       "7      2011-07-28 10:48:00.040        23.0  B00554        Registered     2140   \n",
       "8      2011-07-28 11:01:00.040        23.0  B00554        Registered    97214   \n",
       "...                        ...         ...     ...               ...      ...   \n",
       "552048 2012-10-01 20:26:00.040        46.0  T01216        Registered    02115   \n",
       "552051 2012-10-01 20:22:00.040        35.0  B00234        Registered    02111   \n",
       "552052 2012-10-01 20:18:00.040        38.0  T01078        Registered    02114   \n",
       "552062 2012-10-01 20:31:00.040        80.0  T01088        Registered    02139   \n",
       "552065 2012-10-01 20:24:00.040        52.0  B00026        Registered    02199   \n",
       "\n",
       "        birth_date  gender dia_semana  start_month  \n",
       "3           1981.0  Female   Thursday            7  \n",
       "4           1983.0  Female   Thursday            7  \n",
       "6           1971.0  Female   Thursday            7  \n",
       "7           1971.0  Female   Thursday            7  \n",
       "8           1983.0  Female   Thursday            7  \n",
       "...            ...     ...        ...          ...  \n",
       "552048      1982.0  Female     Monday           10  \n",
       "552051      1974.0  Female     Monday           10  \n",
       "552052      1978.0  Female     Monday           10  \n",
       "552062      1983.0  Female     Monday           10  \n",
       "552065      1988.0  Female     Monday           10  \n",
       "\n",
       "[88226 rows x 13 columns]"
      ]
     },
     "execution_count": 242,
     "metadata": {},
     "output_type": "execute_result"
    }
   ],
   "source": [
    "tmp=finalData[finalData['gender']==\"Female\"]\n",
    "tmp"
   ]
  },
  {
   "cell_type": "markdown",
   "metadata": {},
   "source": [
    "### Comentario técnico:\n",
    "Cuando los índices son enteros y pedimos `data[3]`, puede ser consuso entender si esto es el indice 3 o la posición 3. Para evitar confuciones, están las funciones `.loc()` y `.iloc()`"
   ]
  },
  {
   "cell_type": "code",
   "execution_count": 247,
   "metadata": {},
   "outputs": [
    {
     "data": {
      "text/plain": [
       "1    a\n",
       "3    b\n",
       "5    c\n",
       "8    d\n",
       "dtype: object"
      ]
     },
     "execution_count": 247,
     "metadata": {},
     "output_type": "execute_result"
    }
   ],
   "source": [
    "data = pd.Series(['a', 'b', 'c','d'], index=[1, 3, 5,8])\n",
    "data"
   ]
  },
  {
   "cell_type": "code",
   "execution_count": 248,
   "metadata": {},
   "outputs": [
    {
     "data": {
      "text/plain": [
       "'d'"
      ]
     },
     "execution_count": 248,
     "metadata": {},
     "output_type": "execute_result"
    }
   ],
   "source": [
    "data[3]\n",
    "data.loc[3]  #busque el index 3 y retorne su valor\n",
    "data.iloc[3] # busque la posicion 3 del vector y retorne su valor"
   ]
  },
  {
   "cell_type": "markdown",
   "metadata": {},
   "source": [
    "Pregunta: ¿Como desplegar la primera linea de los datos?"
   ]
  },
  {
   "cell_type": "code",
   "execution_count": 272,
   "metadata": {},
   "outputs": [
    {
     "data": {
      "text/html": [
       "<div>\n",
       "<style scoped>\n",
       "    .dataframe tbody tr th:only-of-type {\n",
       "        vertical-align: middle;\n",
       "    }\n",
       "\n",
       "    .dataframe tbody tr th {\n",
       "        vertical-align: top;\n",
       "    }\n",
       "\n",
       "    .dataframe thead th {\n",
       "        text-align: right;\n",
       "    }\n",
       "</style>\n",
       "<table border=\"1\" class=\"dataframe\">\n",
       "  <thead>\n",
       "    <tr style=\"text-align: right;\">\n",
       "      <th></th>\n",
       "      <th>id</th>\n",
       "      <th>duration</th>\n",
       "      <th>start_date</th>\n",
       "      <th>start_station</th>\n",
       "      <th>end_date</th>\n",
       "      <th>end_station</th>\n",
       "      <th>bike_nr</th>\n",
       "      <th>subscription_type</th>\n",
       "      <th>zip_code</th>\n",
       "      <th>birth_date</th>\n",
       "      <th>gender</th>\n",
       "      <th>dia_semana</th>\n",
       "      <th>start_month</th>\n",
       "    </tr>\n",
       "  </thead>\n",
       "  <tbody>\n",
       "    <tr>\n",
       "      <th>0</th>\n",
       "      <td>8</td>\n",
       "      <td>0.150000</td>\n",
       "      <td>2011-07-28 10:12:00.040</td>\n",
       "      <td>23.0</td>\n",
       "      <td>2011-07-28 10:12:00.040</td>\n",
       "      <td>23.0</td>\n",
       "      <td>B00468</td>\n",
       "      <td>Registered</td>\n",
       "      <td>97217</td>\n",
       "      <td>1976.0</td>\n",
       "      <td>Male</td>\n",
       "      <td>Thursday</td>\n",
       "      <td>7</td>\n",
       "    </tr>\n",
       "    <tr>\n",
       "      <th>1</th>\n",
       "      <td>9</td>\n",
       "      <td>3.666667</td>\n",
       "      <td>2011-07-28 10:21:00.040</td>\n",
       "      <td>23.0</td>\n",
       "      <td>2011-07-28 10:25:00.040</td>\n",
       "      <td>23.0</td>\n",
       "      <td>B00554</td>\n",
       "      <td>Registered</td>\n",
       "      <td>2215</td>\n",
       "      <td>1966.0</td>\n",
       "      <td>Male</td>\n",
       "      <td>Thursday</td>\n",
       "      <td>7</td>\n",
       "    </tr>\n",
       "    <tr>\n",
       "      <th>2</th>\n",
       "      <td>10</td>\n",
       "      <td>0.933333</td>\n",
       "      <td>2011-07-28 10:33:00.040</td>\n",
       "      <td>23.0</td>\n",
       "      <td>2011-07-28 10:34:00.040</td>\n",
       "      <td>23.0</td>\n",
       "      <td>B00456</td>\n",
       "      <td>Registered</td>\n",
       "      <td>2108</td>\n",
       "      <td>1943.0</td>\n",
       "      <td>Male</td>\n",
       "      <td>Thursday</td>\n",
       "      <td>7</td>\n",
       "    </tr>\n",
       "  </tbody>\n",
       "</table>\n",
       "</div>"
      ],
      "text/plain": [
       "   id  duration              start_date start_station                end_date  \\\n",
       "0   8  0.150000 2011-07-28 10:12:00.040          23.0 2011-07-28 10:12:00.040   \n",
       "1   9  3.666667 2011-07-28 10:21:00.040          23.0 2011-07-28 10:25:00.040   \n",
       "2  10  0.933333 2011-07-28 10:33:00.040          23.0 2011-07-28 10:34:00.040   \n",
       "\n",
       "  end_station bike_nr subscription_type zip_code  birth_date gender  \\\n",
       "0        23.0  B00468        Registered    97217      1976.0   Male   \n",
       "1        23.0  B00554        Registered     2215      1966.0   Male   \n",
       "2        23.0  B00456        Registered     2108      1943.0   Male   \n",
       "\n",
       "  dia_semana  start_month  \n",
       "0   Thursday            7  \n",
       "1   Thursday            7  \n",
       "2   Thursday            7  "
      ]
     },
     "execution_count": 272,
     "metadata": {},
     "output_type": "execute_result"
    }
   ],
   "source": [
    "finalData.iloc[0]  # Como si fuera una matriz, fila 0\n",
    "finalData.head(3)  # los primeros \"n\" datos"
   ]
  },
  {
   "cell_type": "markdown",
   "metadata": {},
   "source": [
    "# Analizando los datos. \n",
    " Ok, tenemos los datos ya limpios. Esto es generalmente muy tedioso,\n",
    " pero vimos que tenemos herramientas para poder hacerlo de forma un \n",
    " poco mas sencilla. \n",
    "  Ahora queremos empezar a hacer algunos análisis. Para esto, utilizaremos\n",
    " algunas funciones propias de los `Dataframes`:"
   ]
  },
  {
   "cell_type": "markdown",
   "metadata": {},
   "source": [
    "La estructura de datos de cada columna permite aplicar algunas funciones \"agregadoras\" básicas, por ejemplo, ver promedio `.mean()`, contar `.count()`, sumar `.sum()`, mínimo `.min()`, máximo `.max()`, etc."
   ]
  },
  {
   "cell_type": "code",
   "execution_count": 283,
   "metadata": {},
   "outputs": [
    {
     "data": {
      "text/plain": [
       "21.616271490839257"
      ]
     },
     "execution_count": 283,
     "metadata": {},
     "output_type": "execute_result"
    }
   ],
   "source": [
    "finalData['duration'].mean()"
   ]
  },
  {
   "cell_type": "markdown",
   "metadata": {},
   "source": [
    "como vimos antes, también podemos usar `describe()` para mostrar algunas de las estadísticas más comunes."
   ]
  },
  {
   "cell_type": "markdown",
   "metadata": {},
   "source": [
    "Pero: ¿si quisieramos tener la duración promedio por género?  Esto implica que deberíamos **separar** el conjunto en  grupos (uno por cada género), **aplicar** la función (`.mean()` en este caso) y **combinar** los resultados en una tabla final."
   ]
  },
  {
   "attachments": {
    "image.png": {
     "image/png": "[encoded data removed]"
    }
   },
   "cell_type": "markdown",
   "metadata": {},
   "source": [
    "![image.png](attachment:image.png)"
   ]
  },
  {
   "cell_type": "markdown",
   "metadata": {},
   "source": [
    "Este concepto, conocido como `split-apply-combine` es clave en el análisis de datos. En Panda, esto se hace con el comando `.groupby(<como agrupar>)`"
   ]
  },
  {
   "cell_type": "code",
   "execution_count": 284,
   "metadata": {},
   "outputs": [
    {
     "data": {
      "text/plain": [
       "<pandas.core.groupby.generic.DataFrameGroupBy object at 0x14416cb80>"
      ]
     },
     "execution_count": 284,
     "metadata": {},
     "output_type": "execute_result"
    }
   ],
   "source": [
    "finalData.groupby('gender')"
   ]
  },
  {
   "cell_type": "code",
   "execution_count": 286,
   "metadata": {},
   "outputs": [
    {
     "data": {
      "text/plain": [
       "gender\n",
       "Female    13.477725\n",
       "Male      11.143362\n",
       "Name: duration, dtype: float64"
      ]
     },
     "execution_count": 286,
     "metadata": {},
     "output_type": "execute_result"
    }
   ],
   "source": [
    "finalData.groupby('gender')['duration'].mean()"
   ]
  },
  {
   "cell_type": "code",
   "execution_count": 287,
   "metadata": {},
   "outputs": [
    {
     "data": {
      "text/plain": [
       "subscription_type\n",
       "Casual        39.560557\n",
       "Registered    11.722582\n",
       "Name: duration, dtype: float64"
      ]
     },
     "execution_count": 287,
     "metadata": {},
     "output_type": "execute_result"
    }
   ],
   "source": [
    "finalData.groupby('subscription_type')['duration'].mean()"
   ]
  },
  {
   "cell_type": "markdown",
   "metadata": {},
   "source": [
    "Podemos agrupar por mas de una columna"
   ]
  },
  {
   "cell_type": "code",
   "execution_count": 288,
   "metadata": {},
   "outputs": [
    {
     "data": {
      "text/plain": [
       "subscription_type  gender\n",
       "Casual             Female          NaN\n",
       "                   Male            NaN\n",
       "Registered         Female    13.477725\n",
       "                   Male      11.143362\n",
       "Name: duration, dtype: float64"
      ]
     },
     "execution_count": 288,
     "metadata": {},
     "output_type": "execute_result"
    }
   ],
   "source": [
    "finalData.groupby(['subscription_type','gender'])['duration'].mean()"
   ]
  },
  {
   "cell_type": "markdown",
   "metadata": {},
   "source": [
    "O incluso por una columna externa."
   ]
  },
  {
   "cell_type": "code",
   "execution_count": 290,
   "metadata": {},
   "outputs": [
    {
     "data": {
      "text/plain": [
       "0         False\n",
       "1         False\n",
       "2         False\n",
       "3          True\n",
       "4          True\n",
       "          ...  \n",
       "552068    False\n",
       "552069     True\n",
       "552070    False\n",
       "552071     True\n",
       "552072     True\n",
       "Name: birth_date, Length: 551611, dtype: bool"
      ]
     },
     "execution_count": 290,
     "metadata": {},
     "output_type": "execute_result"
    }
   ],
   "source": [
    "tmp=finalData['birth_date']>1980\n",
    "tmp"
   ]
  },
  {
   "cell_type": "code",
   "execution_count": 291,
   "metadata": {},
   "outputs": [
    {
     "data": {
      "text/plain": [
       "birth_date\n",
       "False    25.712564\n",
       "True     11.647627\n",
       "Name: duration, dtype: float64"
      ]
     },
     "execution_count": 291,
     "metadata": {},
     "output_type": "execute_result"
    }
   ],
   "source": [
    "finalData.groupby(tmp)['duration'].mean()"
   ]
  },
  {
   "cell_type": "code",
   "execution_count": 295,
   "metadata": {},
   "outputs": [
    {
     "data": {
      "text/html": [
       "<div>\n",
       "<style scoped>\n",
       "    .dataframe tbody tr th:only-of-type {\n",
       "        vertical-align: middle;\n",
       "    }\n",
       "\n",
       "    .dataframe tbody tr th {\n",
       "        vertical-align: top;\n",
       "    }\n",
       "\n",
       "    .dataframe thead th {\n",
       "        text-align: right;\n",
       "    }\n",
       "</style>\n",
       "<table border=\"1\" class=\"dataframe\">\n",
       "  <thead>\n",
       "    <tr style=\"text-align: right;\">\n",
       "      <th></th>\n",
       "      <th>id</th>\n",
       "      <th>duration</th>\n",
       "      <th>start_date</th>\n",
       "      <th>start_station</th>\n",
       "      <th>end_date</th>\n",
       "      <th>end_station</th>\n",
       "      <th>bike_nr</th>\n",
       "      <th>subscription_type</th>\n",
       "      <th>zip_code</th>\n",
       "      <th>birth_date</th>\n",
       "      <th>gender</th>\n",
       "      <th>dia_semana</th>\n",
       "      <th>start_month</th>\n",
       "    </tr>\n",
       "  </thead>\n",
       "  <tbody>\n",
       "    <tr>\n",
       "      <th>0</th>\n",
       "      <td>8</td>\n",
       "      <td>0.150000</td>\n",
       "      <td>2011-07-28 10:12:00.040</td>\n",
       "      <td>23.0</td>\n",
       "      <td>2011-07-28 10:12:00.040</td>\n",
       "      <td>23.0</td>\n",
       "      <td>B00468</td>\n",
       "      <td>Registered</td>\n",
       "      <td>97217</td>\n",
       "      <td>1976.0</td>\n",
       "      <td>Male</td>\n",
       "      <td>Thursday</td>\n",
       "      <td>7</td>\n",
       "    </tr>\n",
       "    <tr>\n",
       "      <th>1</th>\n",
       "      <td>9</td>\n",
       "      <td>3.666667</td>\n",
       "      <td>2011-07-28 10:21:00.040</td>\n",
       "      <td>23.0</td>\n",
       "      <td>2011-07-28 10:25:00.040</td>\n",
       "      <td>23.0</td>\n",
       "      <td>B00554</td>\n",
       "      <td>Registered</td>\n",
       "      <td>2215</td>\n",
       "      <td>1966.0</td>\n",
       "      <td>Male</td>\n",
       "      <td>Thursday</td>\n",
       "      <td>7</td>\n",
       "    </tr>\n",
       "    <tr>\n",
       "      <th>2</th>\n",
       "      <td>10</td>\n",
       "      <td>0.933333</td>\n",
       "      <td>2011-07-28 10:33:00.040</td>\n",
       "      <td>23.0</td>\n",
       "      <td>2011-07-28 10:34:00.040</td>\n",
       "      <td>23.0</td>\n",
       "      <td>B00456</td>\n",
       "      <td>Registered</td>\n",
       "      <td>2108</td>\n",
       "      <td>1943.0</td>\n",
       "      <td>Male</td>\n",
       "      <td>Thursday</td>\n",
       "      <td>7</td>\n",
       "    </tr>\n",
       "    <tr>\n",
       "      <th>3</th>\n",
       "      <td>11</td>\n",
       "      <td>1.066667</td>\n",
       "      <td>2011-07-28 10:35:00.040</td>\n",
       "      <td>23.0</td>\n",
       "      <td>2011-07-28 10:36:00.040</td>\n",
       "      <td>23.0</td>\n",
       "      <td>B00554</td>\n",
       "      <td>Registered</td>\n",
       "      <td>2116</td>\n",
       "      <td>1981.0</td>\n",
       "      <td>Female</td>\n",
       "      <td>Thursday</td>\n",
       "      <td>7</td>\n",
       "    </tr>\n",
       "    <tr>\n",
       "      <th>4</th>\n",
       "      <td>12</td>\n",
       "      <td>0.200000</td>\n",
       "      <td>2011-07-28 10:37:00.040</td>\n",
       "      <td>23.0</td>\n",
       "      <td>2011-07-28 10:37:00.040</td>\n",
       "      <td>23.0</td>\n",
       "      <td>B00554</td>\n",
       "      <td>Registered</td>\n",
       "      <td>97214</td>\n",
       "      <td>1983.0</td>\n",
       "      <td>Female</td>\n",
       "      <td>Thursday</td>\n",
       "      <td>7</td>\n",
       "    </tr>\n",
       "    <tr>\n",
       "      <th>...</th>\n",
       "      <td>...</td>\n",
       "      <td>...</td>\n",
       "      <td>...</td>\n",
       "      <td>...</td>\n",
       "      <td>...</td>\n",
       "      <td>...</td>\n",
       "      <td>...</td>\n",
       "      <td>...</td>\n",
       "      <td>...</td>\n",
       "      <td>...</td>\n",
       "      <td>...</td>\n",
       "      <td>...</td>\n",
       "      <td>...</td>\n",
       "    </tr>\n",
       "    <tr>\n",
       "      <th>552068</th>\n",
       "      <td>623507</td>\n",
       "      <td>8.783333</td>\n",
       "      <td>2012-10-01 20:24:00.040</td>\n",
       "      <td>46.0</td>\n",
       "      <td>2012-10-01 20:32:00.040</td>\n",
       "      <td>67.0</td>\n",
       "      <td>B00486</td>\n",
       "      <td>Casual</td>\n",
       "      <td>NaN</td>\n",
       "      <td>NaN</td>\n",
       "      <td>NaN</td>\n",
       "      <td>Monday</td>\n",
       "      <td>10</td>\n",
       "    </tr>\n",
       "    <tr>\n",
       "      <th>552069</th>\n",
       "      <td>623508</td>\n",
       "      <td>3.766667</td>\n",
       "      <td>2012-10-01 20:24:00.040</td>\n",
       "      <td>25.0</td>\n",
       "      <td>2012-10-01 20:28:00.040</td>\n",
       "      <td>26.0</td>\n",
       "      <td>B00170</td>\n",
       "      <td>Registered</td>\n",
       "      <td>02118</td>\n",
       "      <td>1986.0</td>\n",
       "      <td>Male</td>\n",
       "      <td>Monday</td>\n",
       "      <td>10</td>\n",
       "    </tr>\n",
       "    <tr>\n",
       "      <th>552070</th>\n",
       "      <td>623509</td>\n",
       "      <td>8.916667</td>\n",
       "      <td>2012-10-01 20:25:00.040</td>\n",
       "      <td>16.0</td>\n",
       "      <td>2012-10-01 20:34:00.040</td>\n",
       "      <td>47.0</td>\n",
       "      <td>T01067</td>\n",
       "      <td>Registered</td>\n",
       "      <td>02113</td>\n",
       "      <td>1965.0</td>\n",
       "      <td>Male</td>\n",
       "      <td>Monday</td>\n",
       "      <td>10</td>\n",
       "    </tr>\n",
       "    <tr>\n",
       "      <th>552071</th>\n",
       "      <td>623512</td>\n",
       "      <td>7.150000</td>\n",
       "      <td>2012-10-01 20:29:00.040</td>\n",
       "      <td>61.0</td>\n",
       "      <td>2012-10-01 20:36:00.040</td>\n",
       "      <td>33.0</td>\n",
       "      <td>B00621</td>\n",
       "      <td>Registered</td>\n",
       "      <td>02135</td>\n",
       "      <td>1986.0</td>\n",
       "      <td>Male</td>\n",
       "      <td>Monday</td>\n",
       "      <td>10</td>\n",
       "    </tr>\n",
       "    <tr>\n",
       "      <th>552072</th>\n",
       "      <td>623517</td>\n",
       "      <td>3.316667</td>\n",
       "      <td>2012-10-01 20:32:00.040</td>\n",
       "      <td>22.0</td>\n",
       "      <td>2012-10-01 20:36:00.040</td>\n",
       "      <td>81.0</td>\n",
       "      <td>B00012</td>\n",
       "      <td>Registered</td>\n",
       "      <td>02116</td>\n",
       "      <td>1989.0</td>\n",
       "      <td>Male</td>\n",
       "      <td>Monday</td>\n",
       "      <td>10</td>\n",
       "    </tr>\n",
       "  </tbody>\n",
       "</table>\n",
       "<p>551611 rows × 13 columns</p>\n",
       "</div>"
      ],
      "text/plain": [
       "            id  duration              start_date start_station  \\\n",
       "0            8  0.150000 2011-07-28 10:12:00.040          23.0   \n",
       "1            9  3.666667 2011-07-28 10:21:00.040          23.0   \n",
       "2           10  0.933333 2011-07-28 10:33:00.040          23.0   \n",
       "3           11  1.066667 2011-07-28 10:35:00.040          23.0   \n",
       "4           12  0.200000 2011-07-28 10:37:00.040          23.0   \n",
       "...        ...       ...                     ...           ...   \n",
       "552068  623507  8.783333 2012-10-01 20:24:00.040          46.0   \n",
       "552069  623508  3.766667 2012-10-01 20:24:00.040          25.0   \n",
       "552070  623509  8.916667 2012-10-01 20:25:00.040          16.0   \n",
       "552071  623512  7.150000 2012-10-01 20:29:00.040          61.0   \n",
       "552072  623517  3.316667 2012-10-01 20:32:00.040          22.0   \n",
       "\n",
       "                      end_date end_station bike_nr subscription_type zip_code  \\\n",
       "0      2011-07-28 10:12:00.040        23.0  B00468        Registered    97217   \n",
       "1      2011-07-28 10:25:00.040        23.0  B00554        Registered     2215   \n",
       "2      2011-07-28 10:34:00.040        23.0  B00456        Registered     2108   \n",
       "3      2011-07-28 10:36:00.040        23.0  B00554        Registered     2116   \n",
       "4      2011-07-28 10:37:00.040        23.0  B00554        Registered    97214   \n",
       "...                        ...         ...     ...               ...      ...   \n",
       "552068 2012-10-01 20:32:00.040        67.0  B00486            Casual      NaN   \n",
       "552069 2012-10-01 20:28:00.040        26.0  B00170        Registered    02118   \n",
       "552070 2012-10-01 20:34:00.040        47.0  T01067        Registered    02113   \n",
       "552071 2012-10-01 20:36:00.040        33.0  B00621        Registered    02135   \n",
       "552072 2012-10-01 20:36:00.040        81.0  B00012        Registered    02116   \n",
       "\n",
       "        birth_date  gender dia_semana  start_month  \n",
       "0           1976.0    Male   Thursday            7  \n",
       "1           1966.0    Male   Thursday            7  \n",
       "2           1943.0    Male   Thursday            7  \n",
       "3           1981.0  Female   Thursday            7  \n",
       "4           1983.0  Female   Thursday            7  \n",
       "...            ...     ...        ...          ...  \n",
       "552068         NaN     NaN     Monday           10  \n",
       "552069      1986.0    Male     Monday           10  \n",
       "552070      1965.0    Male     Monday           10  \n",
       "552071      1986.0    Male     Monday           10  \n",
       "552072      1989.0    Male     Monday           10  \n",
       "\n",
       "[551611 rows x 13 columns]"
      ]
     },
     "execution_count": 295,
     "metadata": {},
     "output_type": "execute_result"
    }
   ],
   "source": [
    "finalData"
   ]
  },
  {
   "cell_type": "markdown",
   "metadata": {},
   "source": [
    "**Pregunta**: ¿Cuál es la duración promedio de los viajes para cada tipo de suscriptor?"
   ]
  },
  {
   "cell_type": "code",
   "execution_count": 297,
   "metadata": {},
   "outputs": [
    {
     "data": {
      "text/plain": [
       "Index(['id', 'duration', 'start_date', 'start_station', 'end_date',\n",
       "       'end_station', 'bike_nr', 'subscription_type', 'zip_code', 'birth_date',\n",
       "       'gender', 'dia_semana', 'start_month'],\n",
       "      dtype='object')"
      ]
     },
     "execution_count": 297,
     "metadata": {},
     "output_type": "execute_result"
    }
   ],
   "source": [
    "finalData.columns"
   ]
  },
  {
   "cell_type": "code",
   "execution_count": 296,
   "metadata": {},
   "outputs": [
    {
     "data": {
      "text/plain": [
       "subscription_type\n",
       "Casual        39.560557\n",
       "Registered    11.722582\n",
       "Name: duration, dtype: float64"
      ]
     },
     "execution_count": 296,
     "metadata": {},
     "output_type": "execute_result"
    }
   ],
   "source": [
    "finalData.groupby('subscription_type')['duration'].mean()"
   ]
  },
  {
   "cell_type": "code",
   "execution_count": 302,
   "metadata": {},
   "outputs": [
    {
     "data": {
      "text/plain": [
       "subscription_type\n",
       "Casual        39.560557\n",
       "Registered    11.722582\n",
       "Name: duration, dtype: float64"
      ]
     },
     "execution_count": 302,
     "metadata": {},
     "output_type": "execute_result"
    }
   ],
   "source": [
    "finalData.groupby('subscription_type')['duration'].apply(np.mean)"
   ]
  },
  {
   "cell_type": "markdown",
   "metadata": {},
   "source": [
    "**PREGUNTA 1**: ¿Cual es la duración promedio por género?"
   ]
  },
  {
   "cell_type": "code",
   "execution_count": 303,
   "metadata": {},
   "outputs": [
    {
     "data": {
      "text/plain": [
       "gender\n",
       "Female    13.477725\n",
       "Male      11.143362\n",
       "Name: duration, dtype: float64"
      ]
     },
     "execution_count": 303,
     "metadata": {},
     "output_type": "execute_result"
    }
   ],
   "source": [
    "finalData.groupby('gender')['duration'].mean()"
   ]
  },
  {
   "cell_type": "markdown",
   "metadata": {},
   "source": [
    "**PREGUNTA 2**: ¿Cual es el total de minutos por género?"
   ]
  },
  {
   "cell_type": "code",
   "execution_count": 304,
   "metadata": {},
   "outputs": [
    {
     "data": {
      "text/plain": [
       "gender\n",
       "Female    1.189086e+06\n",
       "Male      2.979078e+06\n",
       "Name: duration, dtype: float64"
      ]
     },
     "execution_count": 304,
     "metadata": {},
     "output_type": "execute_result"
    }
   ],
   "source": [
    "finalData.groupby('gender')['duration'].sum()"
   ]
  },
  {
   "cell_type": "code",
   "execution_count": 305,
   "metadata": {},
   "outputs": [
    {
     "data": {
      "text/plain": [
       "gender\n",
       "Female     88226\n",
       "Male      267341\n",
       "Name: duration, dtype: int64"
      ]
     },
     "execution_count": 305,
     "metadata": {},
     "output_type": "execute_result"
    }
   ],
   "source": [
    "finalData.groupby('gender')['duration'].count()"
   ]
  },
  {
   "cell_type": "markdown",
   "metadata": {},
   "source": [
    "**PREGUNTA 3**: ¿Cuál es la duración promedio para cada día de la semana? (usemos la fecha de inicio del viaje)"
   ]
  },
  {
   "cell_type": "code",
   "execution_count": 311,
   "metadata": {},
   "outputs": [
    {
     "data": {
      "text/plain": [
       "start_date\n",
       "0    19.364533\n",
       "1    17.174780\n",
       "2    17.526173\n",
       "3    16.690964\n",
       "4    19.379387\n",
       "5    30.778098\n",
       "6    31.385722\n",
       "Name: duration, dtype: float64"
      ]
     },
     "execution_count": 311,
     "metadata": {},
     "output_type": "execute_result"
    }
   ],
   "source": [
    "aux=finalData['start_date'].dt.dayofweek\n",
    "finalData.groupby(aux)['duration'].mean()"
   ]
  },
  {
   "cell_type": "code",
   "execution_count": 315,
   "metadata": {},
   "outputs": [
    {
     "data": {
      "text/plain": [
       "start_date\n",
       "Friday       19.379387\n",
       "Monday       19.364533\n",
       "Saturday     30.778098\n",
       "Sunday       31.385722\n",
       "Thursday     16.690964\n",
       "Tuesday      17.174780\n",
       "Wednesday    17.526173\n",
       "Name: duration, dtype: float64"
      ]
     },
     "execution_count": 315,
     "metadata": {},
     "output_type": "execute_result"
    }
   ],
   "source": [
    "finalData.groupby(finalData['start_date'].dt.day_name())['duration'].mean()"
   ]
  },
  {
   "cell_type": "code",
   "execution_count": null,
   "metadata": {},
   "outputs": [],
   "source": []
  },
  {
   "cell_type": "markdown",
   "metadata": {},
   "source": [
    "**PREGUNTA 4**: ¿Cuál es la duración promedio para cada mes del año? (usemos la fecha de término del viaje)"
   ]
  },
  {
   "cell_type": "code",
   "execution_count": 317,
   "metadata": {
    "scrolled": true
   },
   "outputs": [
    {
     "data": {
      "text/plain": [
       "end_date\n",
       "3     20.545315\n",
       "4     18.493682\n",
       "5     18.611862\n",
       "6     17.358136\n",
       "7     20.134779\n",
       "8     24.697308\n",
       "9     21.833481\n",
       "10    28.366187\n",
       "11    21.398513\n",
       "12    16.875000\n",
       "Name: duration, dtype: float64"
      ]
     },
     "execution_count": 317,
     "metadata": {},
     "output_type": "execute_result"
    }
   ],
   "source": [
    "finalData.groupby(finalData['end_date'].dt.month)['duration'].mean()"
   ]
  },
  {
   "cell_type": "markdown",
   "metadata": {},
   "source": [
    "**Pregunta**: ¿Cuál es la proporción de usuarios `Casual` para cada estación de inicio? "
   ]
  },
  {
   "cell_type": "code",
   "execution_count": 322,
   "metadata": {},
   "outputs": [
    {
     "data": {
      "text/plain": [
       "0.35540262975176345"
      ]
     },
     "execution_count": 322,
     "metadata": {},
     "output_type": "execute_result"
    }
   ],
   "source": [
    "sum(finalData['subscription_type']==\"Casual\")/len(finalData['subscription_type'])"
   ]
  },
  {
   "cell_type": "markdown",
   "metadata": {},
   "source": [
    "Otra opción es que nosotros hagamos una función que entregue esta proporción. Por ejemplo:"
   ]
  },
  {
   "cell_type": "code",
   "execution_count": 323,
   "metadata": {},
   "outputs": [],
   "source": [
    "def propCasual(data):\n",
    "    numero_casual = sum(data['subscription_type']==\"Casual\")\n",
    "    numero_total = len(data['subscription_type'])\n",
    "    return numero_casual/numero_total"
   ]
  },
  {
   "cell_type": "code",
   "execution_count": 324,
   "metadata": {},
   "outputs": [
    {
     "data": {
      "text/plain": [
       "0.35540262975176345"
      ]
     },
     "execution_count": 324,
     "metadata": {},
     "output_type": "execute_result"
    }
   ],
   "source": [
    "propCasual(finalData)"
   ]
  },
  {
   "cell_type": "code",
   "execution_count": 328,
   "metadata": {},
   "outputs": [
    {
     "data": {
      "text/plain": [
       "start_station\n",
       "3.0     0.289539\n",
       "4.0     0.290126\n",
       "5.0     0.353937\n",
       "6.0     0.351005\n",
       "7.0     0.438072\n",
       "          ...   \n",
       "94.0    0.571984\n",
       "95.0    0.358974\n",
       "96.0    0.376518\n",
       "97.0    0.710623\n",
       "98.0    0.594796\n",
       "Length: 95, dtype: float64"
      ]
     },
     "execution_count": 328,
     "metadata": {},
     "output_type": "execute_result"
    }
   ],
   "source": [
    "finalData.groupby('start_station').apply(propCasual)"
   ]
  },
  {
   "cell_type": "markdown",
   "metadata": {},
   "source": [
    "**Ejercicio**: La empresa tiene una tarifa distinta para aquellos viajes que duran mas de media hora.   Por eso, Calcule la proporción de viajes desde cada estación de inicio (*start_station*) que duran mas de 30 minutos. "
   ]
  },
  {
   "cell_type": "code",
   "execution_count": 329,
   "metadata": {
    "scrolled": true
   },
   "outputs": [],
   "source": [
    "def propViajes30min(data):\n",
    "    numero_largos = sum(data['duration']>30)\n",
    "    numero_total = len(data['duration'])\n",
    "    return numero_largos/numero_total"
   ]
  },
  {
   "cell_type": "code",
   "execution_count": 330,
   "metadata": {},
   "outputs": [
    {
     "data": {
      "text/plain": [
       "0.12154036087025095"
      ]
     },
     "execution_count": 330,
     "metadata": {},
     "output_type": "execute_result"
    }
   ],
   "source": [
    "propViajes30min(finalData)"
   ]
  },
  {
   "cell_type": "code",
   "execution_count": 331,
   "metadata": {},
   "outputs": [
    {
     "data": {
      "text/plain": [
       "start_station\n",
       "3.0     0.085264\n",
       "4.0     0.076041\n",
       "5.0     0.099347\n",
       "6.0     0.130794\n",
       "7.0     0.153276\n",
       "          ...   \n",
       "94.0    0.124514\n",
       "95.0    0.069597\n",
       "96.0    0.080972\n",
       "97.0    0.256410\n",
       "98.0    0.161710\n",
       "Length: 95, dtype: float64"
      ]
     },
     "execution_count": 331,
     "metadata": {},
     "output_type": "execute_result"
    }
   ],
   "source": [
    "finalData.groupby('start_station').apply(propViajes30min)"
   ]
  },
  {
   "cell_type": "code",
   "execution_count": 333,
   "metadata": {},
   "outputs": [
    {
     "data": {
      "text/plain": [
       "start_station\n",
       "26.0    0.038899\n",
       "14.0    0.042330\n",
       "19.0    0.049587\n",
       "57.0    0.049974\n",
       "39.0    0.056280\n",
       "          ...   \n",
       "93.0    0.266667\n",
       "74.0    0.276288\n",
       "37.0    0.336530\n",
       "15.0    0.352891\n",
       "92.0    0.607595\n",
       "Length: 95, dtype: float64"
      ]
     },
     "execution_count": 333,
     "metadata": {},
     "output_type": "execute_result"
    }
   ],
   "source": [
    "finalData.groupby('start_station').apply(propViajes30min).sort_values()"
   ]
  },
  {
   "cell_type": "markdown",
   "metadata": {},
   "source": [
    "Supongamos ahora que queremos rescatar los dos días mas utilizados, por cada tipo de usuario, o por estación. Esto requeriría crea una propia función, que nos entregue los dos dias. Pero esto sabemos hacerlo!\n"
   ]
  },
  {
   "cell_type": "code",
   "execution_count": 334,
   "metadata": {},
   "outputs": [
    {
     "name": "stderr",
     "output_type": "stream",
     "text": [
      "<ipython-input-334-6e6a0d869054>:1: SettingWithCopyWarning: \n",
      "A value is trying to be set on a copy of a slice from a DataFrame.\n",
      "Try using .loc[row_indexer,col_indexer] = value instead\n",
      "\n",
      "See the caveats in the documentation: https://pandas.pydata.org/pandas-docs/stable/user_guide/indexing.html#returning-a-view-versus-a-copy\n",
      "  finalData['start_day_name'] = finalData['start_date'].dt.day_name()\n"
     ]
    },
    {
     "data": {
      "text/html": [
       "<div>\n",
       "<style scoped>\n",
       "    .dataframe tbody tr th:only-of-type {\n",
       "        vertical-align: middle;\n",
       "    }\n",
       "\n",
       "    .dataframe tbody tr th {\n",
       "        vertical-align: top;\n",
       "    }\n",
       "\n",
       "    .dataframe thead th {\n",
       "        text-align: right;\n",
       "    }\n",
       "</style>\n",
       "<table border=\"1\" class=\"dataframe\">\n",
       "  <thead>\n",
       "    <tr style=\"text-align: right;\">\n",
       "      <th></th>\n",
       "      <th>id</th>\n",
       "      <th>duration</th>\n",
       "      <th>start_date</th>\n",
       "      <th>start_station</th>\n",
       "      <th>end_date</th>\n",
       "      <th>end_station</th>\n",
       "      <th>bike_nr</th>\n",
       "      <th>subscription_type</th>\n",
       "      <th>zip_code</th>\n",
       "      <th>birth_date</th>\n",
       "      <th>gender</th>\n",
       "      <th>dia_semana</th>\n",
       "      <th>start_month</th>\n",
       "      <th>start_day_name</th>\n",
       "    </tr>\n",
       "  </thead>\n",
       "  <tbody>\n",
       "    <tr>\n",
       "      <th>0</th>\n",
       "      <td>8</td>\n",
       "      <td>0.150000</td>\n",
       "      <td>2011-07-28 10:12:00.040</td>\n",
       "      <td>23.0</td>\n",
       "      <td>2011-07-28 10:12:00.040</td>\n",
       "      <td>23.0</td>\n",
       "      <td>B00468</td>\n",
       "      <td>Registered</td>\n",
       "      <td>97217</td>\n",
       "      <td>1976.0</td>\n",
       "      <td>Male</td>\n",
       "      <td>Thursday</td>\n",
       "      <td>7</td>\n",
       "      <td>Thursday</td>\n",
       "    </tr>\n",
       "    <tr>\n",
       "      <th>1</th>\n",
       "      <td>9</td>\n",
       "      <td>3.666667</td>\n",
       "      <td>2011-07-28 10:21:00.040</td>\n",
       "      <td>23.0</td>\n",
       "      <td>2011-07-28 10:25:00.040</td>\n",
       "      <td>23.0</td>\n",
       "      <td>B00554</td>\n",
       "      <td>Registered</td>\n",
       "      <td>2215</td>\n",
       "      <td>1966.0</td>\n",
       "      <td>Male</td>\n",
       "      <td>Thursday</td>\n",
       "      <td>7</td>\n",
       "      <td>Thursday</td>\n",
       "    </tr>\n",
       "    <tr>\n",
       "      <th>2</th>\n",
       "      <td>10</td>\n",
       "      <td>0.933333</td>\n",
       "      <td>2011-07-28 10:33:00.040</td>\n",
       "      <td>23.0</td>\n",
       "      <td>2011-07-28 10:34:00.040</td>\n",
       "      <td>23.0</td>\n",
       "      <td>B00456</td>\n",
       "      <td>Registered</td>\n",
       "      <td>2108</td>\n",
       "      <td>1943.0</td>\n",
       "      <td>Male</td>\n",
       "      <td>Thursday</td>\n",
       "      <td>7</td>\n",
       "      <td>Thursday</td>\n",
       "    </tr>\n",
       "    <tr>\n",
       "      <th>3</th>\n",
       "      <td>11</td>\n",
       "      <td>1.066667</td>\n",
       "      <td>2011-07-28 10:35:00.040</td>\n",
       "      <td>23.0</td>\n",
       "      <td>2011-07-28 10:36:00.040</td>\n",
       "      <td>23.0</td>\n",
       "      <td>B00554</td>\n",
       "      <td>Registered</td>\n",
       "      <td>2116</td>\n",
       "      <td>1981.0</td>\n",
       "      <td>Female</td>\n",
       "      <td>Thursday</td>\n",
       "      <td>7</td>\n",
       "      <td>Thursday</td>\n",
       "    </tr>\n",
       "    <tr>\n",
       "      <th>4</th>\n",
       "      <td>12</td>\n",
       "      <td>0.200000</td>\n",
       "      <td>2011-07-28 10:37:00.040</td>\n",
       "      <td>23.0</td>\n",
       "      <td>2011-07-28 10:37:00.040</td>\n",
       "      <td>23.0</td>\n",
       "      <td>B00554</td>\n",
       "      <td>Registered</td>\n",
       "      <td>97214</td>\n",
       "      <td>1983.0</td>\n",
       "      <td>Female</td>\n",
       "      <td>Thursday</td>\n",
       "      <td>7</td>\n",
       "      <td>Thursday</td>\n",
       "    </tr>\n",
       "    <tr>\n",
       "      <th>...</th>\n",
       "      <td>...</td>\n",
       "      <td>...</td>\n",
       "      <td>...</td>\n",
       "      <td>...</td>\n",
       "      <td>...</td>\n",
       "      <td>...</td>\n",
       "      <td>...</td>\n",
       "      <td>...</td>\n",
       "      <td>...</td>\n",
       "      <td>...</td>\n",
       "      <td>...</td>\n",
       "      <td>...</td>\n",
       "      <td>...</td>\n",
       "      <td>...</td>\n",
       "    </tr>\n",
       "    <tr>\n",
       "      <th>552068</th>\n",
       "      <td>623507</td>\n",
       "      <td>8.783333</td>\n",
       "      <td>2012-10-01 20:24:00.040</td>\n",
       "      <td>46.0</td>\n",
       "      <td>2012-10-01 20:32:00.040</td>\n",
       "      <td>67.0</td>\n",
       "      <td>B00486</td>\n",
       "      <td>Casual</td>\n",
       "      <td>NaN</td>\n",
       "      <td>NaN</td>\n",
       "      <td>NaN</td>\n",
       "      <td>Monday</td>\n",
       "      <td>10</td>\n",
       "      <td>Monday</td>\n",
       "    </tr>\n",
       "    <tr>\n",
       "      <th>552069</th>\n",
       "      <td>623508</td>\n",
       "      <td>3.766667</td>\n",
       "      <td>2012-10-01 20:24:00.040</td>\n",
       "      <td>25.0</td>\n",
       "      <td>2012-10-01 20:28:00.040</td>\n",
       "      <td>26.0</td>\n",
       "      <td>B00170</td>\n",
       "      <td>Registered</td>\n",
       "      <td>02118</td>\n",
       "      <td>1986.0</td>\n",
       "      <td>Male</td>\n",
       "      <td>Monday</td>\n",
       "      <td>10</td>\n",
       "      <td>Monday</td>\n",
       "    </tr>\n",
       "    <tr>\n",
       "      <th>552070</th>\n",
       "      <td>623509</td>\n",
       "      <td>8.916667</td>\n",
       "      <td>2012-10-01 20:25:00.040</td>\n",
       "      <td>16.0</td>\n",
       "      <td>2012-10-01 20:34:00.040</td>\n",
       "      <td>47.0</td>\n",
       "      <td>T01067</td>\n",
       "      <td>Registered</td>\n",
       "      <td>02113</td>\n",
       "      <td>1965.0</td>\n",
       "      <td>Male</td>\n",
       "      <td>Monday</td>\n",
       "      <td>10</td>\n",
       "      <td>Monday</td>\n",
       "    </tr>\n",
       "    <tr>\n",
       "      <th>552071</th>\n",
       "      <td>623512</td>\n",
       "      <td>7.150000</td>\n",
       "      <td>2012-10-01 20:29:00.040</td>\n",
       "      <td>61.0</td>\n",
       "      <td>2012-10-01 20:36:00.040</td>\n",
       "      <td>33.0</td>\n",
       "      <td>B00621</td>\n",
       "      <td>Registered</td>\n",
       "      <td>02135</td>\n",
       "      <td>1986.0</td>\n",
       "      <td>Male</td>\n",
       "      <td>Monday</td>\n",
       "      <td>10</td>\n",
       "      <td>Monday</td>\n",
       "    </tr>\n",
       "    <tr>\n",
       "      <th>552072</th>\n",
       "      <td>623517</td>\n",
       "      <td>3.316667</td>\n",
       "      <td>2012-10-01 20:32:00.040</td>\n",
       "      <td>22.0</td>\n",
       "      <td>2012-10-01 20:36:00.040</td>\n",
       "      <td>81.0</td>\n",
       "      <td>B00012</td>\n",
       "      <td>Registered</td>\n",
       "      <td>02116</td>\n",
       "      <td>1989.0</td>\n",
       "      <td>Male</td>\n",
       "      <td>Monday</td>\n",
       "      <td>10</td>\n",
       "      <td>Monday</td>\n",
       "    </tr>\n",
       "  </tbody>\n",
       "</table>\n",
       "<p>551611 rows × 14 columns</p>\n",
       "</div>"
      ],
      "text/plain": [
       "            id  duration              start_date start_station  \\\n",
       "0            8  0.150000 2011-07-28 10:12:00.040          23.0   \n",
       "1            9  3.666667 2011-07-28 10:21:00.040          23.0   \n",
       "2           10  0.933333 2011-07-28 10:33:00.040          23.0   \n",
       "3           11  1.066667 2011-07-28 10:35:00.040          23.0   \n",
       "4           12  0.200000 2011-07-28 10:37:00.040          23.0   \n",
       "...        ...       ...                     ...           ...   \n",
       "552068  623507  8.783333 2012-10-01 20:24:00.040          46.0   \n",
       "552069  623508  3.766667 2012-10-01 20:24:00.040          25.0   \n",
       "552070  623509  8.916667 2012-10-01 20:25:00.040          16.0   \n",
       "552071  623512  7.150000 2012-10-01 20:29:00.040          61.0   \n",
       "552072  623517  3.316667 2012-10-01 20:32:00.040          22.0   \n",
       "\n",
       "                      end_date end_station bike_nr subscription_type zip_code  \\\n",
       "0      2011-07-28 10:12:00.040        23.0  B00468        Registered    97217   \n",
       "1      2011-07-28 10:25:00.040        23.0  B00554        Registered     2215   \n",
       "2      2011-07-28 10:34:00.040        23.0  B00456        Registered     2108   \n",
       "3      2011-07-28 10:36:00.040        23.0  B00554        Registered     2116   \n",
       "4      2011-07-28 10:37:00.040        23.0  B00554        Registered    97214   \n",
       "...                        ...         ...     ...               ...      ...   \n",
       "552068 2012-10-01 20:32:00.040        67.0  B00486            Casual      NaN   \n",
       "552069 2012-10-01 20:28:00.040        26.0  B00170        Registered    02118   \n",
       "552070 2012-10-01 20:34:00.040        47.0  T01067        Registered    02113   \n",
       "552071 2012-10-01 20:36:00.040        33.0  B00621        Registered    02135   \n",
       "552072 2012-10-01 20:36:00.040        81.0  B00012        Registered    02116   \n",
       "\n",
       "        birth_date  gender dia_semana  start_month start_day_name  \n",
       "0           1976.0    Male   Thursday            7       Thursday  \n",
       "1           1966.0    Male   Thursday            7       Thursday  \n",
       "2           1943.0    Male   Thursday            7       Thursday  \n",
       "3           1981.0  Female   Thursday            7       Thursday  \n",
       "4           1983.0  Female   Thursday            7       Thursday  \n",
       "...            ...     ...        ...          ...            ...  \n",
       "552068         NaN     NaN     Monday           10         Monday  \n",
       "552069      1986.0    Male     Monday           10         Monday  \n",
       "552070      1965.0    Male     Monday           10         Monday  \n",
       "552071      1986.0    Male     Monday           10         Monday  \n",
       "552072      1989.0    Male     Monday           10         Monday  \n",
       "\n",
       "[551611 rows x 14 columns]"
      ]
     },
     "execution_count": 334,
     "metadata": {},
     "output_type": "execute_result"
    }
   ],
   "source": [
    "finalData['start_day_name'] = finalData['start_date'].dt.day_name()\n",
    "finalData"
   ]
  },
  {
   "cell_type": "code",
   "execution_count": 337,
   "metadata": {},
   "outputs": [
    {
     "data": {
      "text/plain": [
       "start_day_name\n",
       "Friday       83601\n",
       "Monday       82261\n",
       "Saturday     76894\n",
       "Sunday       73956\n",
       "Thursday     80061\n",
       "Tuesday      77222\n",
       "Wednesday    77616\n",
       "Name: start_day_name, dtype: int64"
      ]
     },
     "execution_count": 337,
     "metadata": {},
     "output_type": "execute_result"
    }
   ],
   "source": [
    "#resumenDias = finalData.groupby('start_day_name')['start_day_name'].count()\n",
    "finalData.groupby('start_day_name')['start_day_name'].count()"
   ]
  },
  {
   "cell_type": "code",
   "execution_count": 343,
   "metadata": {},
   "outputs": [
    {
     "data": {
      "text/plain": [
       "start_day_name\n",
       "Friday       83601\n",
       "Monday       82261\n",
       "Thursday     80061\n",
       "Wednesday    77616\n",
       "Tuesday      77222\n",
       "Saturday     76894\n",
       "Sunday       73956\n",
       "Name: start_day_name, dtype: int64"
      ]
     },
     "execution_count": 343,
     "metadata": {},
     "output_type": "execute_result"
    }
   ],
   "source": [
    "finalData.groupby('start_day_name')['start_day_name'].count().sort_values(ascending=False)"
   ]
  },
  {
   "cell_type": "code",
   "execution_count": 347,
   "metadata": {},
   "outputs": [
    {
     "data": {
      "text/plain": [
       "start_day_name\n",
       "Friday       83601\n",
       "Monday       82261\n",
       "Saturday     76894\n",
       "Sunday       73956\n",
       "Thursday     80061\n",
       "Tuesday      77222\n",
       "Wednesday    77616\n",
       "Name: start_day_name, dtype: int64"
      ]
     },
     "execution_count": 347,
     "metadata": {},
     "output_type": "execute_result"
    }
   ],
   "source": [
    "finalData.groupby('start_day_name')['start_day_name'].count()"
   ]
  },
  {
   "cell_type": "code",
   "execution_count": 348,
   "metadata": {},
   "outputs": [
    {
     "data": {
      "text/plain": [
       "start_day_name\n",
       "Friday       83601\n",
       "Monday       82261\n",
       "Thursday     80061\n",
       "Wednesday    77616\n",
       "Tuesday      77222\n",
       "Saturday     76894\n",
       "Sunday       73956\n",
       "Name: start_day_name, dtype: int64"
      ]
     },
     "execution_count": 348,
     "metadata": {},
     "output_type": "execute_result"
    }
   ],
   "source": [
    "finalData.groupby('start_day_name')['start_day_name'].count().sort_values(ascending=False)"
   ]
  },
  {
   "cell_type": "code",
   "execution_count": 349,
   "metadata": {},
   "outputs": [
    {
     "data": {
      "text/plain": [
       "start_day_name\n",
       "Friday    83601\n",
       "Monday    82261\n",
       "Name: start_day_name, dtype: int64"
      ]
     },
     "execution_count": 349,
     "metadata": {},
     "output_type": "execute_result"
    }
   ],
   "source": [
    "finalData.groupby('start_day_name')['start_day_name'].count().sort_values(ascending=False).head(2)"
   ]
  },
  {
   "cell_type": "code",
   "execution_count": 350,
   "metadata": {},
   "outputs": [
    {
     "data": {
      "text/plain": [
       "Index(['Friday', 'Monday'], dtype='object', name='start_day_name')"
      ]
     },
     "execution_count": 350,
     "metadata": {},
     "output_type": "execute_result"
    }
   ],
   "source": [
    "finalData.groupby('start_day_name')['start_day_name'].count().sort_values(ascending=False).head(2).index"
   ]
  },
  {
   "cell_type": "code",
   "execution_count": 351,
   "metadata": {},
   "outputs": [
    {
     "data": {
      "text/plain": [
       "['Friday', 'Monday']"
      ]
     },
     "execution_count": 351,
     "metadata": {},
     "output_type": "execute_result"
    }
   ],
   "source": [
    "list(finalData.groupby('start_day_name')['start_day_name'].count().sort_values(ascending=False).head(2).index)"
   ]
  },
  {
   "cell_type": "code",
   "execution_count": 352,
   "metadata": {},
   "outputs": [
    {
     "data": {
      "text/plain": [
       "['Friday', 'Monday']"
      ]
     },
     "execution_count": 352,
     "metadata": {},
     "output_type": "execute_result"
    }
   ],
   "source": [
    "list(resumenDias.sort_values(ascending=False).head(2).index)"
   ]
  },
  {
   "cell_type": "markdown",
   "metadata": {},
   "source": [
    "Pomgamos todo esto en una función:"
   ]
  },
  {
   "cell_type": "code",
   "execution_count": 353,
   "metadata": {},
   "outputs": [],
   "source": [
    "def best2days(x):\n",
    "    resumenDias = x.groupby('start_day_name')['start_day_name'].count()\n",
    "    return list(resumenDias.sort_values(ascending=False).head(2).index)"
   ]
  },
  {
   "cell_type": "code",
   "execution_count": 354,
   "metadata": {},
   "outputs": [
    {
     "data": {
      "text/plain": [
       "['Friday', 'Monday']"
      ]
     },
     "execution_count": 354,
     "metadata": {},
     "output_type": "execute_result"
    }
   ],
   "source": [
    "best2days(finalData)"
   ]
  },
  {
   "cell_type": "code",
   "execution_count": 355,
   "metadata": {},
   "outputs": [
    {
     "data": {
      "text/plain": [
       "subscription_type\n",
       "Casual         [Saturday, Sunday]\n",
       "Registered    [Thursday, Tuesday]\n",
       "dtype: object"
      ]
     },
     "execution_count": 355,
     "metadata": {},
     "output_type": "execute_result"
    }
   ],
   "source": [
    "finalData.groupby('subscription_type').apply(best2days)"
   ]
  },
  {
   "cell_type": "markdown",
   "metadata": {},
   "source": [
    "**Ejercicio:** encuentre el tipo de suscripción más común para cada estación de partida.   "
   ]
  },
  {
   "cell_type": "code",
   "execution_count": 366,
   "metadata": {},
   "outputs": [],
   "source": [
    "def sub_mas_comun(x):\n",
    "    num_casual = sum(x['subscription_type']==\"Casual\")\n",
    "    num_reg = sum(x['subscription_type']==\"Registered\")\n",
    "    if num_casual > num_reg:\n",
    "        return \"Casual\"\n",
    "    else:\n",
    "        return \"Registered\"\n",
    "    "
   ]
  },
  {
   "cell_type": "code",
   "execution_count": 367,
   "metadata": {},
   "outputs": [
    {
     "data": {
      "text/plain": [
       "'Registered'"
      ]
     },
     "execution_count": 367,
     "metadata": {},
     "output_type": "execute_result"
    }
   ],
   "source": [
    "sub_mas_comun(finalData)"
   ]
  },
  {
   "cell_type": "code",
   "execution_count": 368,
   "metadata": {},
   "outputs": [
    {
     "data": {
      "text/plain": [
       "start_station\n",
       "3.0     Registered\n",
       "4.0     Registered\n",
       "5.0     Registered\n",
       "6.0     Registered\n",
       "7.0     Registered\n",
       "           ...    \n",
       "94.0        Casual\n",
       "95.0    Registered\n",
       "96.0    Registered\n",
       "97.0        Casual\n",
       "98.0        Casual\n",
       "Length: 95, dtype: object"
      ]
     },
     "execution_count": 368,
     "metadata": {},
     "output_type": "execute_result"
    }
   ],
   "source": [
    "finalData.groupby('start_station').apply(sub_mas_comun)"
   ]
  },
  {
   "cell_type": "code",
   "execution_count": 370,
   "metadata": {},
   "outputs": [
    {
     "data": {
      "text/plain": [
       "start_station\n",
       "3.0     [Registered]\n",
       "4.0     [Registered]\n",
       "5.0     [Registered]\n",
       "6.0     [Registered]\n",
       "7.0     [Registered]\n",
       "            ...     \n",
       "94.0        [Casual]\n",
       "95.0    [Registered]\n",
       "96.0    [Registered]\n",
       "97.0        [Casual]\n",
       "98.0        [Casual]\n",
       "Length: 95, dtype: object"
      ]
     },
     "execution_count": 370,
     "metadata": {},
     "output_type": "execute_result"
    }
   ],
   "source": [
    "def sub_mas_comun(x):\n",
    "    resumenDias = x.groupby('subscription_type')['subscription_type'].count()\n",
    "    return list(resumenDias.sort_values(ascending=False).index[0:1])\n",
    "sub_mas_comun(finalData)\n",
    "finalData.groupby('start_station').apply(sub_mas_comun)"
   ]
  },
  {
   "cell_type": "markdown",
   "metadata": {},
   "source": [
    "Podemos hacer que retorne un DataFrame, de esta forma el resultado será la union de todos estos dataframe, generando una nueva tabla"
   ]
  },
  {
   "cell_type": "markdown",
   "metadata": {},
   "source": [
    "Cree un nuevo `DataFrame` de bicicletas, donde cada fila tenga:\n",
    "- El id de cada bicicleta `bike_nr`\n",
    "- la duración promedio de cada bicicleta\n",
    "- la desviación estándar de las duraciones de cada bicicleta\n",
    "- el número de viajes realizados en cada bicicleta\n",
    "\n",
    "Para esto, podemos hacer que el resultado de la función a aplicar sobre cada grupo sea un `Dataframe`, por lo que al combinarlo tendremos el dataframe pedido.   Para definir un DataFrame usamos el comando `DataFrame`."
   ]
  },
  {
   "cell_type": "code",
   "execution_count": 379,
   "metadata": {},
   "outputs": [],
   "source": [
    "def statsBike(x):\n",
    "    prom = x['duration'].mean()\n",
    "    dev = x['duration'].std()\n",
    "    num = x['duration'].count()\n",
    "    return [prom,dev,num]"
   ]
  },
  {
   "cell_type": "code",
   "execution_count": 383,
   "metadata": {},
   "outputs": [
    {
     "data": {
      "text/plain": [
       "bike_nr\n",
       "? (0x241EC230)     [33.170138888888886, 60.41472501744495, 192]\n",
       "? (0x67D8478F)      [25.73062015503876, 40.00103415496366, 129]\n",
       "? (0xA533D104)     [38.82852112676056, 107.23705791448033, 142]\n",
       "B00000              [11.863333333333337, 7.971571648392464, 45]\n",
       "B00001            [18.051804215791353, 32.528162361042305, 933]\n",
       "                                      ...                      \n",
       "T01447            [19.926090342679128, 22.907668786529175, 214]\n",
       "T01448             [17.29666666666667, 27.434640408401332, 315]\n",
       "T01449            [19.712345679012348, 37.349238093496325, 243]\n",
       "T01450             [17.281904761904762, 42.33884965262123, 280]\n",
       "b00225             [17.541197497765864, 38.80963265532772, 746]\n",
       "Length: 885, dtype: object"
      ]
     },
     "execution_count": 383,
     "metadata": {},
     "output_type": "execute_result"
    }
   ],
   "source": [
    "finalData.groupby('bike_nr').apply(statsBike)"
   ]
  },
  {
   "cell_type": "code",
   "execution_count": 419,
   "metadata": {},
   "outputs": [],
   "source": [
    "def statsBikeDF(x):\n",
    "    prom = x['duration'].mean()\n",
    "    dev = x['duration'].std()\n",
    "    num = x['duration'].count()\n",
    "    return pd.DataFrame({'mean_duration': [prom], 'stddev_duration': [dev], 'num_trips': [num]})"
   ]
  },
  {
   "cell_type": "code",
   "execution_count": 420,
   "metadata": {},
   "outputs": [
    {
     "data": {
      "text/html": [
       "<div>\n",
       "<style scoped>\n",
       "    .dataframe tbody tr th:only-of-type {\n",
       "        vertical-align: middle;\n",
       "    }\n",
       "\n",
       "    .dataframe tbody tr th {\n",
       "        vertical-align: top;\n",
       "    }\n",
       "\n",
       "    .dataframe thead th {\n",
       "        text-align: right;\n",
       "    }\n",
       "</style>\n",
       "<table border=\"1\" class=\"dataframe\">\n",
       "  <thead>\n",
       "    <tr style=\"text-align: right;\">\n",
       "      <th></th>\n",
       "      <th>mean_duration</th>\n",
       "      <th>stddev_duration</th>\n",
       "      <th>num_trips</th>\n",
       "    </tr>\n",
       "  </thead>\n",
       "  <tbody>\n",
       "    <tr>\n",
       "      <th>0</th>\n",
       "      <td>21.616271</td>\n",
       "      <td>58.056289</td>\n",
       "      <td>551611</td>\n",
       "    </tr>\n",
       "  </tbody>\n",
       "</table>\n",
       "</div>"
      ],
      "text/plain": [
       "   mean_duration  stddev_duration  num_trips\n",
       "0      21.616271        58.056289     551611"
      ]
     },
     "execution_count": 420,
     "metadata": {},
     "output_type": "execute_result"
    }
   ],
   "source": [
    "statsBikeDF(finalData)"
   ]
  },
  {
   "cell_type": "code",
   "execution_count": 421,
   "metadata": {},
   "outputs": [
    {
     "data": {
      "text/plain": [
       "'B00145'"
      ]
     },
     "execution_count": 421,
     "metadata": {},
     "output_type": "execute_result"
    }
   ],
   "source": [
    "finalData['bike_nr'].mode().iloc[0]"
   ]
  },
  {
   "cell_type": "code",
   "execution_count": 440,
   "metadata": {},
   "outputs": [
    {
     "data": {
      "text/html": [
       "<div>\n",
       "<style scoped>\n",
       "    .dataframe tbody tr th:only-of-type {\n",
       "        vertical-align: middle;\n",
       "    }\n",
       "\n",
       "    .dataframe tbody tr th {\n",
       "        vertical-align: top;\n",
       "    }\n",
       "\n",
       "    .dataframe thead th {\n",
       "        text-align: right;\n",
       "    }\n",
       "</style>\n",
       "<table border=\"1\" class=\"dataframe\">\n",
       "  <thead>\n",
       "    <tr style=\"text-align: right;\">\n",
       "      <th></th>\n",
       "      <th></th>\n",
       "      <th>mean_duration</th>\n",
       "      <th>stddev_duration</th>\n",
       "      <th>num_trips</th>\n",
       "    </tr>\n",
       "    <tr>\n",
       "      <th>bike_nr</th>\n",
       "      <th></th>\n",
       "      <th></th>\n",
       "      <th></th>\n",
       "      <th></th>\n",
       "    </tr>\n",
       "  </thead>\n",
       "  <tbody>\n",
       "    <tr>\n",
       "      <th>? (0x241EC230)</th>\n",
       "      <th>0</th>\n",
       "      <td>33.170139</td>\n",
       "      <td>60.414725</td>\n",
       "      <td>192</td>\n",
       "    </tr>\n",
       "    <tr>\n",
       "      <th>? (0x67D8478F)</th>\n",
       "      <th>0</th>\n",
       "      <td>25.730620</td>\n",
       "      <td>40.001034</td>\n",
       "      <td>129</td>\n",
       "    </tr>\n",
       "    <tr>\n",
       "      <th>? (0xA533D104)</th>\n",
       "      <th>0</th>\n",
       "      <td>38.828521</td>\n",
       "      <td>107.237058</td>\n",
       "      <td>142</td>\n",
       "    </tr>\n",
       "    <tr>\n",
       "      <th>B00000</th>\n",
       "      <th>0</th>\n",
       "      <td>11.863333</td>\n",
       "      <td>7.971572</td>\n",
       "      <td>45</td>\n",
       "    </tr>\n",
       "    <tr>\n",
       "      <th>B00001</th>\n",
       "      <th>0</th>\n",
       "      <td>18.051804</td>\n",
       "      <td>32.528162</td>\n",
       "      <td>933</td>\n",
       "    </tr>\n",
       "    <tr>\n",
       "      <th>...</th>\n",
       "      <th>...</th>\n",
       "      <td>...</td>\n",
       "      <td>...</td>\n",
       "      <td>...</td>\n",
       "    </tr>\n",
       "    <tr>\n",
       "      <th>T01447</th>\n",
       "      <th>0</th>\n",
       "      <td>19.926090</td>\n",
       "      <td>22.907669</td>\n",
       "      <td>214</td>\n",
       "    </tr>\n",
       "    <tr>\n",
       "      <th>T01448</th>\n",
       "      <th>0</th>\n",
       "      <td>17.296667</td>\n",
       "      <td>27.434640</td>\n",
       "      <td>315</td>\n",
       "    </tr>\n",
       "    <tr>\n",
       "      <th>T01449</th>\n",
       "      <th>0</th>\n",
       "      <td>19.712346</td>\n",
       "      <td>37.349238</td>\n",
       "      <td>243</td>\n",
       "    </tr>\n",
       "    <tr>\n",
       "      <th>T01450</th>\n",
       "      <th>0</th>\n",
       "      <td>17.281905</td>\n",
       "      <td>42.338850</td>\n",
       "      <td>280</td>\n",
       "    </tr>\n",
       "    <tr>\n",
       "      <th>b00225</th>\n",
       "      <th>0</th>\n",
       "      <td>17.541197</td>\n",
       "      <td>38.809633</td>\n",
       "      <td>746</td>\n",
       "    </tr>\n",
       "  </tbody>\n",
       "</table>\n",
       "<p>885 rows × 3 columns</p>\n",
       "</div>"
      ],
      "text/plain": [
       "                  mean_duration  stddev_duration  num_trips\n",
       "bike_nr                                                    \n",
       "? (0x241EC230) 0      33.170139        60.414725        192\n",
       "? (0x67D8478F) 0      25.730620        40.001034        129\n",
       "? (0xA533D104) 0      38.828521       107.237058        142\n",
       "B00000         0      11.863333         7.971572         45\n",
       "B00001         0      18.051804        32.528162        933\n",
       "...                         ...              ...        ...\n",
       "T01447         0      19.926090        22.907669        214\n",
       "T01448         0      17.296667        27.434640        315\n",
       "T01449         0      19.712346        37.349238        243\n",
       "T01450         0      17.281905        42.338850        280\n",
       "b00225         0      17.541197        38.809633        746\n",
       "\n",
       "[885 rows x 3 columns]"
      ]
     },
     "execution_count": 440,
     "metadata": {},
     "output_type": "execute_result"
    }
   ],
   "source": [
    "bikes= finalData.groupby('bike_nr').apply(statsBikeDF)\n",
    "bikes"
   ]
  },
  {
   "cell_type": "code",
   "execution_count": 432,
   "metadata": {},
   "outputs": [
    {
     "data": {
      "text/plain": [
       "56.04894736842105"
      ]
     },
     "execution_count": 432,
     "metadata": {},
     "output_type": "execute_result"
    }
   ],
   "source": [
    "bikes['mean_duration'].max()"
   ]
  },
  {
   "cell_type": "code",
   "execution_count": 441,
   "metadata": {},
   "outputs": [
    {
     "data": {
      "text/html": [
       "<div>\n",
       "<style scoped>\n",
       "    .dataframe tbody tr th:only-of-type {\n",
       "        vertical-align: middle;\n",
       "    }\n",
       "\n",
       "    .dataframe tbody tr th {\n",
       "        vertical-align: top;\n",
       "    }\n",
       "\n",
       "    .dataframe thead th {\n",
       "        text-align: right;\n",
       "    }\n",
       "</style>\n",
       "<table border=\"1\" class=\"dataframe\">\n",
       "  <thead>\n",
       "    <tr style=\"text-align: right;\">\n",
       "      <th></th>\n",
       "      <th>bike_nr</th>\n",
       "      <th>level_1</th>\n",
       "      <th>mean_duration</th>\n",
       "      <th>stddev_duration</th>\n",
       "      <th>num_trips</th>\n",
       "    </tr>\n",
       "  </thead>\n",
       "  <tbody>\n",
       "    <tr>\n",
       "      <th>0</th>\n",
       "      <td>? (0x241EC230)</td>\n",
       "      <td>0</td>\n",
       "      <td>33.170139</td>\n",
       "      <td>60.414725</td>\n",
       "      <td>192</td>\n",
       "    </tr>\n",
       "    <tr>\n",
       "      <th>1</th>\n",
       "      <td>? (0x67D8478F)</td>\n",
       "      <td>0</td>\n",
       "      <td>25.730620</td>\n",
       "      <td>40.001034</td>\n",
       "      <td>129</td>\n",
       "    </tr>\n",
       "    <tr>\n",
       "      <th>2</th>\n",
       "      <td>? (0xA533D104)</td>\n",
       "      <td>0</td>\n",
       "      <td>38.828521</td>\n",
       "      <td>107.237058</td>\n",
       "      <td>142</td>\n",
       "    </tr>\n",
       "    <tr>\n",
       "      <th>3</th>\n",
       "      <td>B00000</td>\n",
       "      <td>0</td>\n",
       "      <td>11.863333</td>\n",
       "      <td>7.971572</td>\n",
       "      <td>45</td>\n",
       "    </tr>\n",
       "    <tr>\n",
       "      <th>4</th>\n",
       "      <td>B00001</td>\n",
       "      <td>0</td>\n",
       "      <td>18.051804</td>\n",
       "      <td>32.528162</td>\n",
       "      <td>933</td>\n",
       "    </tr>\n",
       "    <tr>\n",
       "      <th>...</th>\n",
       "      <td>...</td>\n",
       "      <td>...</td>\n",
       "      <td>...</td>\n",
       "      <td>...</td>\n",
       "      <td>...</td>\n",
       "    </tr>\n",
       "    <tr>\n",
       "      <th>880</th>\n",
       "      <td>T01447</td>\n",
       "      <td>0</td>\n",
       "      <td>19.926090</td>\n",
       "      <td>22.907669</td>\n",
       "      <td>214</td>\n",
       "    </tr>\n",
       "    <tr>\n",
       "      <th>881</th>\n",
       "      <td>T01448</td>\n",
       "      <td>0</td>\n",
       "      <td>17.296667</td>\n",
       "      <td>27.434640</td>\n",
       "      <td>315</td>\n",
       "    </tr>\n",
       "    <tr>\n",
       "      <th>882</th>\n",
       "      <td>T01449</td>\n",
       "      <td>0</td>\n",
       "      <td>19.712346</td>\n",
       "      <td>37.349238</td>\n",
       "      <td>243</td>\n",
       "    </tr>\n",
       "    <tr>\n",
       "      <th>883</th>\n",
       "      <td>T01450</td>\n",
       "      <td>0</td>\n",
       "      <td>17.281905</td>\n",
       "      <td>42.338850</td>\n",
       "      <td>280</td>\n",
       "    </tr>\n",
       "    <tr>\n",
       "      <th>884</th>\n",
       "      <td>b00225</td>\n",
       "      <td>0</td>\n",
       "      <td>17.541197</td>\n",
       "      <td>38.809633</td>\n",
       "      <td>746</td>\n",
       "    </tr>\n",
       "  </tbody>\n",
       "</table>\n",
       "<p>885 rows × 5 columns</p>\n",
       "</div>"
      ],
      "text/plain": [
       "            bike_nr  level_1  mean_duration  stddev_duration  num_trips\n",
       "0    ? (0x241EC230)        0      33.170139        60.414725        192\n",
       "1    ? (0x67D8478F)        0      25.730620        40.001034        129\n",
       "2    ? (0xA533D104)        0      38.828521       107.237058        142\n",
       "3            B00000        0      11.863333         7.971572         45\n",
       "4            B00001        0      18.051804        32.528162        933\n",
       "..              ...      ...            ...              ...        ...\n",
       "880          T01447        0      19.926090        22.907669        214\n",
       "881          T01448        0      17.296667        27.434640        315\n",
       "882          T01449        0      19.712346        37.349238        243\n",
       "883          T01450        0      17.281905        42.338850        280\n",
       "884          b00225        0      17.541197        38.809633        746\n",
       "\n",
       "[885 rows x 5 columns]"
      ]
     },
     "execution_count": 441,
     "metadata": {},
     "output_type": "execute_result"
    }
   ],
   "source": [
    "bikes = bikes.reset_index()\n",
    "bikes"
   ]
  },
  {
   "cell_type": "code",
   "execution_count": 442,
   "metadata": {},
   "outputs": [],
   "source": [
    "del bikes['level_1']"
   ]
  },
  {
   "cell_type": "code",
   "execution_count": 443,
   "metadata": {},
   "outputs": [
    {
     "data": {
      "text/html": [
       "<div>\n",
       "<style scoped>\n",
       "    .dataframe tbody tr th:only-of-type {\n",
       "        vertical-align: middle;\n",
       "    }\n",
       "\n",
       "    .dataframe tbody tr th {\n",
       "        vertical-align: top;\n",
       "    }\n",
       "\n",
       "    .dataframe thead th {\n",
       "        text-align: right;\n",
       "    }\n",
       "</style>\n",
       "<table border=\"1\" class=\"dataframe\">\n",
       "  <thead>\n",
       "    <tr style=\"text-align: right;\">\n",
       "      <th></th>\n",
       "      <th>bike_nr</th>\n",
       "      <th>mean_duration</th>\n",
       "      <th>stddev_duration</th>\n",
       "      <th>num_trips</th>\n",
       "    </tr>\n",
       "  </thead>\n",
       "  <tbody>\n",
       "    <tr>\n",
       "      <th>0</th>\n",
       "      <td>? (0x241EC230)</td>\n",
       "      <td>33.170139</td>\n",
       "      <td>60.414725</td>\n",
       "      <td>192</td>\n",
       "    </tr>\n",
       "    <tr>\n",
       "      <th>1</th>\n",
       "      <td>? (0x67D8478F)</td>\n",
       "      <td>25.730620</td>\n",
       "      <td>40.001034</td>\n",
       "      <td>129</td>\n",
       "    </tr>\n",
       "    <tr>\n",
       "      <th>2</th>\n",
       "      <td>? (0xA533D104)</td>\n",
       "      <td>38.828521</td>\n",
       "      <td>107.237058</td>\n",
       "      <td>142</td>\n",
       "    </tr>\n",
       "    <tr>\n",
       "      <th>3</th>\n",
       "      <td>B00000</td>\n",
       "      <td>11.863333</td>\n",
       "      <td>7.971572</td>\n",
       "      <td>45</td>\n",
       "    </tr>\n",
       "    <tr>\n",
       "      <th>4</th>\n",
       "      <td>B00001</td>\n",
       "      <td>18.051804</td>\n",
       "      <td>32.528162</td>\n",
       "      <td>933</td>\n",
       "    </tr>\n",
       "    <tr>\n",
       "      <th>...</th>\n",
       "      <td>...</td>\n",
       "      <td>...</td>\n",
       "      <td>...</td>\n",
       "      <td>...</td>\n",
       "    </tr>\n",
       "    <tr>\n",
       "      <th>880</th>\n",
       "      <td>T01447</td>\n",
       "      <td>19.926090</td>\n",
       "      <td>22.907669</td>\n",
       "      <td>214</td>\n",
       "    </tr>\n",
       "    <tr>\n",
       "      <th>881</th>\n",
       "      <td>T01448</td>\n",
       "      <td>17.296667</td>\n",
       "      <td>27.434640</td>\n",
       "      <td>315</td>\n",
       "    </tr>\n",
       "    <tr>\n",
       "      <th>882</th>\n",
       "      <td>T01449</td>\n",
       "      <td>19.712346</td>\n",
       "      <td>37.349238</td>\n",
       "      <td>243</td>\n",
       "    </tr>\n",
       "    <tr>\n",
       "      <th>883</th>\n",
       "      <td>T01450</td>\n",
       "      <td>17.281905</td>\n",
       "      <td>42.338850</td>\n",
       "      <td>280</td>\n",
       "    </tr>\n",
       "    <tr>\n",
       "      <th>884</th>\n",
       "      <td>b00225</td>\n",
       "      <td>17.541197</td>\n",
       "      <td>38.809633</td>\n",
       "      <td>746</td>\n",
       "    </tr>\n",
       "  </tbody>\n",
       "</table>\n",
       "<p>885 rows × 4 columns</p>\n",
       "</div>"
      ],
      "text/plain": [
       "            bike_nr  mean_duration  stddev_duration  num_trips\n",
       "0    ? (0x241EC230)      33.170139        60.414725        192\n",
       "1    ? (0x67D8478F)      25.730620        40.001034        129\n",
       "2    ? (0xA533D104)      38.828521       107.237058        142\n",
       "3            B00000      11.863333         7.971572         45\n",
       "4            B00001      18.051804        32.528162        933\n",
       "..              ...            ...              ...        ...\n",
       "880          T01447      19.926090        22.907669        214\n",
       "881          T01448      17.296667        27.434640        315\n",
       "882          T01449      19.712346        37.349238        243\n",
       "883          T01450      17.281905        42.338850        280\n",
       "884          b00225      17.541197        38.809633        746\n",
       "\n",
       "[885 rows x 4 columns]"
      ]
     },
     "execution_count": 443,
     "metadata": {},
     "output_type": "execute_result"
    }
   ],
   "source": [
    "bikes"
   ]
  },
  {
   "cell_type": "markdown",
   "metadata": {},
   "source": [
    "**Ejercicio (BONUS)**: Incluya las siguientes variables para cada fila:\n",
    "- número de viajes que parten y terminan en un día diferente\n",
    "- estación mas común de inicio de un viaje \n",
    "- estación mas común de término de un viaje"
   ]
  },
  {
   "cell_type": "code",
   "execution_count": null,
   "metadata": {},
   "outputs": [],
   "source": []
  }
 ],
 "metadata": {
  "kernelspec": {
   "display_name": "Python 3",
   "language": "python",
   "name": "python3"
  },
  "language_info": {
   "codemirror_mode": {
    "name": "ipython",
    "version": 3
   },
   "file_extension": ".py",
   "mimetype": "text/x-python",
   "name": "python",
   "nbconvert_exporter": "python",
   "pygments_lexer": "ipython3",
   "version": "3.8.5"
  }
 },
 "nbformat": 4,
 "nbformat_minor": 2
}
